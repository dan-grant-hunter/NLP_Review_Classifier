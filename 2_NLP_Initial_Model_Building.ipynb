{
 "cells": [
  {
   "cell_type": "markdown",
   "metadata": {},
   "source": [
    "<a id=\"top\"></a>\n",
    "# NLP Hotel Review Classification\n",
    "---\n",
    "### *Notebook 2/3: Initial Model Building*\n",
    "---"
   ]
  },
  {
   "cell_type": "markdown",
   "metadata": {},
   "source": [
    "## Contents\n",
    "---\n",
    "\n",
    "**1.  [Data Reading & Preparation](#data_reading_prep)** <br>\n",
    "**2.  [Model Building & Hyperparameter Tuning](#model_building)** <br>\n",
    "**3.  [Model Evaluation](#model_evaluation)** <br>\n",
    "\n",
    "---"
   ]
  },
  {
   "cell_type": "markdown",
   "metadata": {},
   "source": [
    "<a id=\"data_reading_prep\"></a>\n",
    "## 1. Data Reading & Preparation"
   ]
  },
  {
   "cell_type": "code",
   "execution_count": 1,
   "metadata": {
    "executionInfo": {
     "elapsed": 887,
     "status": "ok",
     "timestamp": 1616940011280,
     "user": {
      "displayName": "Don Glover",
      "photoUrl": "",
      "userId": "16302218703465787964"
     },
     "user_tz": -60
    },
    "id": "hlnBGmxveE1h"
   },
   "outputs": [],
   "source": [
    "# Import libraries for model building\n",
    "\n",
    "# General\n",
    "import pandas as pd\n",
    "import numpy as np\n",
    "import matplotlib.pyplot as plt\n",
    "import pickle\n",
    "\n",
    "# Preprocessing and evaluation\n",
    "from sklearn.model_selection import train_test_split\n",
    "from sklearn.feature_extraction.text import TfidfVectorizer \n",
    "from sklearn.pipeline import Pipeline\n",
    "from sklearn.model_selection import GridSearchCV, StratifiedKFold\n",
    "from sklearn.metrics import accuracy_score, classification_report, precision_score, f1_score\n",
    "from sklearn.metrics import confusion_matrix, ConfusionMatrixDisplay\n",
    "\n",
    "# Models\n",
    "from model_trainer import TrainModel\n",
    "from sklearn.svm import SVC, LinearSVC\n",
    "from sklearn.tree import DecisionTreeClassifier\n",
    "from sklearn.neighbors import KNeighborsClassifier\n",
    "from sklearn.naive_bayes import MultinomialNB\n",
    "from sklearn.linear_model import LogisticRegression, RidgeClassifier, SGDClassifier\n",
    "from sklearn.ensemble import RandomForestClassifier, BaggingClassifier, AdaBoostClassifier\n",
    "from sklearn.ensemble import VotingClassifier, StackingClassifier\n",
    "from lightgbm import LGBMClassifier"
   ]
  },
  {
   "cell_type": "code",
   "execution_count": 2,
   "metadata": {
    "executionInfo": {
     "elapsed": 559,
     "status": "ok",
     "timestamp": 1616940016541,
     "user": {
      "displayName": "Don Glover",
      "photoUrl": "",
      "userId": "16302218703465787964"
     },
     "user_tz": -60
    },
    "id": "sUQm1HBLIDqq"
   },
   "outputs": [],
   "source": [
    "# Read in data\n",
    "df = pd.read_csv('drive/MyDrive/data/df_final.csv')"
   ]
  },
  {
   "cell_type": "code",
   "execution_count": 3,
   "metadata": {
    "colab": {
     "base_uri": "https://localhost:8080/",
     "height": 419
    },
    "executionInfo": {
     "elapsed": 401,
     "status": "ok",
     "timestamp": 1616940017210,
     "user": {
      "displayName": "Don Glover",
      "photoUrl": "",
      "userId": "16302218703465787964"
     },
     "user_tz": -60
    },
    "id": "b-exfX6XASGc",
    "outputId": "7545dc4c-1e16-4dcb-fba2-4317adc60e25"
   },
   "outputs": [
    {
     "data": {
      "text/html": [
       "<div>\n",
       "<style scoped>\n",
       "    .dataframe tbody tr th:only-of-type {\n",
       "        vertical-align: middle;\n",
       "    }\n",
       "\n",
       "    .dataframe tbody tr th {\n",
       "        vertical-align: top;\n",
       "    }\n",
       "\n",
       "    .dataframe thead th {\n",
       "        text-align: right;\n",
       "    }\n",
       "</style>\n",
       "<table border=\"1\" class=\"dataframe\">\n",
       "  <thead>\n",
       "    <tr style=\"text-align: right;\">\n",
       "      <th></th>\n",
       "      <th>Review</th>\n",
       "      <th>Rating</th>\n",
       "    </tr>\n",
       "  </thead>\n",
       "  <tbody>\n",
       "    <tr>\n",
       "      <th>0</th>\n",
       "      <td>ok nothing special charge diamond member hilto...</td>\n",
       "      <td>2</td>\n",
       "    </tr>\n",
       "    <tr>\n",
       "      <th>1</th>\n",
       "      <td>nice room not experience hotel monaco seattle ...</td>\n",
       "      <td>3</td>\n",
       "    </tr>\n",
       "    <tr>\n",
       "      <th>2</th>\n",
       "      <td>excellent staff housekeeping quality hotel cho...</td>\n",
       "      <td>4</td>\n",
       "    </tr>\n",
       "    <tr>\n",
       "      <th>3</th>\n",
       "      <td>poor value stayed monaco seattle july nice hot...</td>\n",
       "      <td>2</td>\n",
       "    </tr>\n",
       "    <tr>\n",
       "      <th>4</th>\n",
       "      <td>nice hotel not nice staff hotel lovely staff q...</td>\n",
       "      <td>3</td>\n",
       "    </tr>\n",
       "    <tr>\n",
       "      <th>...</th>\n",
       "      <td>...</td>\n",
       "      <td>...</td>\n",
       "    </tr>\n",
       "    <tr>\n",
       "      <th>18535</th>\n",
       "      <td>dirty hall dirty room nothing work tv didn wor...</td>\n",
       "      <td>1</td>\n",
       "    </tr>\n",
       "    <tr>\n",
       "      <th>18536</th>\n",
       "      <td>confortable room staff kind available polite g...</td>\n",
       "      <td>5</td>\n",
       "    </tr>\n",
       "    <tr>\n",
       "      <th>18537</th>\n",
       "      <td>stayed attending itb berlin heating system hot...</td>\n",
       "      <td>2</td>\n",
       "    </tr>\n",
       "    <tr>\n",
       "      <th>18538</th>\n",
       "      <td>hotel well located adenauerplatz ku damm reaso...</td>\n",
       "      <td>2</td>\n",
       "    </tr>\n",
       "    <tr>\n",
       "      <th>18539</th>\n",
       "      <td>ok want book double room get find twin no apol...</td>\n",
       "      <td>2</td>\n",
       "    </tr>\n",
       "  </tbody>\n",
       "</table>\n",
       "<p>18540 rows × 2 columns</p>\n",
       "</div>"
      ],
      "text/plain": [
       "                                                  Review  Rating\n",
       "0      ok nothing special charge diamond member hilto...       2\n",
       "1      nice room not experience hotel monaco seattle ...       3\n",
       "2      excellent staff housekeeping quality hotel cho...       4\n",
       "3      poor value stayed monaco seattle july nice hot...       2\n",
       "4      nice hotel not nice staff hotel lovely staff q...       3\n",
       "...                                                  ...     ...\n",
       "18535  dirty hall dirty room nothing work tv didn wor...       1\n",
       "18536  confortable room staff kind available polite g...       5\n",
       "18537  stayed attending itb berlin heating system hot...       2\n",
       "18538  hotel well located adenauerplatz ku damm reaso...       2\n",
       "18539  ok want book double room get find twin no apol...       2\n",
       "\n",
       "[18540 rows x 2 columns]"
      ]
     },
     "execution_count": 3,
     "metadata": {
      "tags": []
     },
     "output_type": "execute_result"
    }
   ],
   "source": [
    "# Check data\n",
    "df"
   ]
  },
  {
   "cell_type": "code",
   "execution_count": 4,
   "metadata": {
    "executionInfo": {
     "elapsed": 363,
     "status": "ok",
     "timestamp": 1616940020196,
     "user": {
      "displayName": "Don Glover",
      "photoUrl": "",
      "userId": "16302218703465787964"
     },
     "user_tz": -60
    },
    "id": "_5cyBxeeBAcG"
   },
   "outputs": [],
   "source": [
    "# Save all class names\n",
    "class_names = np.sort(df['Rating'].unique()).tolist()"
   ]
  },
  {
   "cell_type": "code",
   "execution_count": 5,
   "metadata": {
    "executionInfo": {
     "elapsed": 319,
     "status": "ok",
     "timestamp": 1616940021241,
     "user": {
      "displayName": "Don Glover",
      "photoUrl": "",
      "userId": "16302218703465787964"
     },
     "user_tz": -60
    },
    "id": "M_X-S9kXBARx"
   },
   "outputs": [],
   "source": [
    "# Isolate features and labels\n",
    "X = df['Review']\n",
    "y = df['Rating']"
   ]
  },
  {
   "cell_type": "code",
   "execution_count": 6,
   "metadata": {
    "executionInfo": {
     "elapsed": 678,
     "status": "ok",
     "timestamp": 1616940036519,
     "user": {
      "displayName": "Don Glover",
      "photoUrl": "",
      "userId": "16302218703465787964"
     },
     "user_tz": -60
    },
    "id": "7jl_hOjcBaEb"
   },
   "outputs": [],
   "source": [
    "# Split data into training, validation and testing - 80/10/10\n",
    "\n",
    "# Train 80%, Test 20%\n",
    "X_train, X_test, y_train, y_test = train_test_split(X, y, test_size=0.2, \n",
    "                                                        stratify=y, random_state=42)\n",
    "\n",
    "# Valid 10%, Test 10%\n",
    "X_valid, X_test, y_valid, y_test = train_test_split(X_test, y_test, test_size=0.5, \n",
    "                                                        stratify=y_test, random_state=42)"
   ]
  },
  {
   "cell_type": "code",
   "execution_count": 7,
   "metadata": {
    "colab": {
     "base_uri": "https://localhost:8080/"
    },
    "executionInfo": {
     "elapsed": 465,
     "status": "ok",
     "timestamp": 1616940037920,
     "user": {
      "displayName": "Don Glover",
      "photoUrl": "",
      "userId": "16302218703465787964"
     },
     "user_tz": -60
    },
    "id": "Av3RgsRnBle3",
    "outputId": "70d91ace-a78e-41c1-f5c2-eef0dee5c835"
   },
   "outputs": [
    {
     "name": "stdout",
     "output_type": "stream",
     "text": [
      "Shape of Data:\n",
      "--------------------\n",
      "X_train: (14832,)\n",
      "y_train: (14832,) \n",
      "--------------------\n",
      "X_valid: (1854,)\n",
      "y_valid: (1854,) \n",
      "--------------------\n",
      "X_test: (1854,)\n",
      "y_test: (1854,) \n"
     ]
    }
   ],
   "source": [
    "# Check shape of data\n",
    "print('Shape of Data:')\n",
    "print('-'*20)\n",
    "print(f'X_train: {X_train.shape}\\ny_train: {y_train.shape} ')\n",
    "print('-'*20)\n",
    "print(f'X_valid: {X_valid.shape}\\ny_valid: {y_valid.shape} ')\n",
    "print('-'*20)\n",
    "print(f'X_test: {X_test.shape}\\ny_test: {y_test.shape} ')"
   ]
  },
  {
   "cell_type": "markdown",
   "metadata": {},
   "source": [
    "<a id=\"model_building\"></a>\n",
    "## 2. Model Building & Hyperparamter Tuning\n",
    "---"
   ]
  },
  {
   "cell_type": "markdown",
   "metadata": {},
   "source": [
    "For the intial modelling phase, we will first get a baseline from a simple Decision Tree Classifier and then continue to build from there. To identify optimal hyperparameters, I have created a class (TrainModel) that will perform a grid search using a 3-fold stratified cross validation. We will also create a pipeline that vectorizes our data using the TF-IDF Vectorizer before passing it to our estimator."
   ]
  },
  {
   "cell_type": "code",
   "execution_count": 8,
   "metadata": {
    "colab": {
     "base_uri": "https://localhost:8080/"
    },
    "executionInfo": {
     "elapsed": 629823,
     "status": "ok",
     "timestamp": 1616940670560,
     "user": {
      "displayName": "Don Glover",
      "photoUrl": "",
      "userId": "16302218703465787964"
     },
     "user_tz": -60
    },
    "id": "F1k4TNOfiYgU",
    "outputId": "1ceae9b8-97d0-4c08-9b1a-86faa266de14"
   },
   "outputs": [
    {
     "name": "stdout",
     "output_type": "stream",
     "text": [
      "Fitting 3 folds for each of 36 candidates, totalling 108 fits\n"
     ]
    },
    {
     "name": "stderr",
     "output_type": "stream",
     "text": [
      "[Parallel(n_jobs=-1)]: Using backend LokyBackend with 2 concurrent workers.\n",
      "[Parallel(n_jobs=-1)]: Done  37 tasks      | elapsed:  2.9min\n",
      "[Parallel(n_jobs=-1)]: Done 108 out of 108 | elapsed: 10.4min finished\n"
     ]
    }
   ],
   "source": [
    "# Decision Tree (baseline)\n",
    "model = DecisionTreeClassifier(random_state=42)\n",
    "params = {\n",
    "    'tfidf__max_df': [0.5, 0.75, 1.0],\n",
    "    'tfidf__ngram_range': [(1, 1), (1, 2), (1, 3)],\n",
    "    'clf__min_samples_leaf': [50, 100],\n",
    "    'clf__max_depth': [5, 10]\n",
    "}\n",
    "\n",
    "# Create pipeline\n",
    "dt_pipe = Pipeline([\n",
    "    ('tfidf', TfidfVectorizer()),\n",
    "    ('clf', model)\n",
    "])\n",
    "\n",
    "# Train model\n",
    "dt_model = TrainModel(dt_pipe, params, X_train, X_valid, y_train, y_valid)\n",
    "dt_model.train()"
   ]
  },
  {
   "cell_type": "code",
   "execution_count": 9,
   "metadata": {
    "colab": {
     "base_uri": "https://localhost:8080/"
    },
    "executionInfo": {
     "elapsed": 838753,
     "status": "ok",
     "timestamp": 1616940882202,
     "user": {
      "displayName": "Don Glover",
      "photoUrl": "",
      "userId": "16302218703465787964"
     },
     "user_tz": -60
    },
    "id": "dRucYP2micec",
    "outputId": "aedd82dc-ca60-4d87-d2c3-d4f39a0a105e"
   },
   "outputs": [
    {
     "name": "stdout",
     "output_type": "stream",
     "text": [
      "Fitting 3 folds for each of 18 candidates, totalling 54 fits\n"
     ]
    },
    {
     "name": "stderr",
     "output_type": "stream",
     "text": [
      "[Parallel(n_jobs=-1)]: Using backend LokyBackend with 2 concurrent workers.\n",
      "[Parallel(n_jobs=-1)]: Done  37 tasks      | elapsed:  2.2min\n",
      "[Parallel(n_jobs=-1)]: Done  54 out of  54 | elapsed:  3.4min finished\n"
     ]
    }
   ],
   "source": [
    "# Linear SVC\n",
    "model = LinearSVC(random_state=42)\n",
    "params = {\n",
    "    'tfidf__max_df': [0.5, 0.75, 1.0],\n",
    "    'tfidf__ngram_range': [(1, 1), (1, 2), (1, 3)],\n",
    "    'clf__C': [0.1, 0.01]\n",
    "}\n",
    "\n",
    "# Create pipeline\n",
    "lsvc_pipe = Pipeline([\n",
    "    ('tfidf', TfidfVectorizer()),\n",
    "    ('clf', model)\n",
    "])\n",
    "\n",
    "# Train model\n",
    "lsvc_model = TrainModel(lsvc_pipe, params, X_train, X_valid, y_train, y_valid)\n",
    "lsvc_model.train()"
   ]
  },
  {
   "cell_type": "code",
   "execution_count": 12,
   "metadata": {
    "colab": {
     "base_uri": "https://localhost:8080/"
    },
    "executionInfo": {
     "elapsed": 303606,
     "status": "ok",
     "timestamp": 1616941399010,
     "user": {
      "displayName": "Don Glover",
      "photoUrl": "",
      "userId": "16302218703465787964"
     },
     "user_tz": -60
    },
    "id": "80TR1f8vidab",
    "outputId": "4ed5688d-765a-441e-bda5-d93274f69b74"
   },
   "outputs": [
    {
     "name": "stdout",
     "output_type": "stream",
     "text": [
      "Fitting 3 folds for each of 27 candidates, totalling 81 fits\n"
     ]
    },
    {
     "name": "stderr",
     "output_type": "stream",
     "text": [
      "[Parallel(n_jobs=-1)]: Using backend LokyBackend with 2 concurrent workers.\n",
      "[Parallel(n_jobs=-1)]: Done  37 tasks      | elapsed:  2.1min\n",
      "[Parallel(n_jobs=-1)]: Done  81 out of  81 | elapsed:  4.9min finished\n"
     ]
    }
   ],
   "source": [
    "# Naive Bayes\n",
    "model = MultinomialNB()\n",
    "params = {\n",
    "    'tfidf__max_df': [0.5, 0.75, 1.0],\n",
    "    'tfidf__ngram_range': [(1, 1), (1, 2), (1, 3)],\n",
    "    'clf__alpha': [1, 0.1, 0.01]\n",
    "}\n",
    "\n",
    "# Create pipeline\n",
    "nb_pipe = Pipeline([\n",
    "    ('tfidf', TfidfVectorizer()),\n",
    "    ('clf', model)\n",
    "])\n",
    "\n",
    "# Train model\n",
    "nb_model = TrainModel(nb_pipe, params, X_train, X_valid, y_train, y_valid)\n",
    "nb_model.train()"
   ]
  },
  {
   "cell_type": "code",
   "execution_count": 13,
   "metadata": {
    "colab": {
     "base_uri": "https://localhost:8080/"
    },
    "executionInfo": {
     "elapsed": 869877,
     "status": "ok",
     "timestamp": 1616942295022,
     "user": {
      "displayName": "Don Glover",
      "photoUrl": "",
      "userId": "16302218703465787964"
     },
     "user_tz": -60
    },
    "id": "zICx_vEtxHCh",
    "outputId": "325472ff-13f3-4bd0-8a19-3cce52f2ebc0"
   },
   "outputs": [
    {
     "name": "stdout",
     "output_type": "stream",
     "text": [
      "Fitting 3 folds for each of 36 candidates, totalling 108 fits\n"
     ]
    },
    {
     "name": "stderr",
     "output_type": "stream",
     "text": [
      "[Parallel(n_jobs=-1)]: Using backend LokyBackend with 2 concurrent workers.\n",
      "[Parallel(n_jobs=-1)]: Done  37 tasks      | elapsed:  6.1min\n",
      "[Parallel(n_jobs=-1)]: Done 108 out of 108 | elapsed: 14.0min finished\n"
     ]
    }
   ],
   "source": [
    "# Logistic Regression\n",
    "model = LogisticRegression(random_state=42, max_iter=1000)\n",
    "params = {\n",
    "    'tfidf__max_df': [0.5, 0.75, 1.0],\n",
    "    'tfidf__ngram_range': [(1, 1), (1, 2), (1, 3)],\n",
    "    'clf__solver': ['newton-cg', 'liblinear'],\n",
    "    'clf__C': [1.0, 0.1]\n",
    "}\n",
    "\n",
    "# Create pipeline\n",
    "log_reg_pipe = Pipeline([\n",
    "    ('tfidf', TfidfVectorizer()),\n",
    "    ('clf', model)\n",
    "])\n",
    "\n",
    "# Train model\n",
    "log_reg_model = TrainModel(log_reg_pipe, params, X_train, X_valid, y_train, y_valid)\n",
    "log_reg_model.train()"
   ]
  },
  {
   "cell_type": "code",
   "execution_count": 14,
   "metadata": {
    "colab": {
     "base_uri": "https://localhost:8080/"
    },
    "executionInfo": {
     "elapsed": 1504561,
     "status": "ok",
     "timestamp": 1616942933566,
     "user": {
      "displayName": "Don Glover",
      "photoUrl": "",
      "userId": "16302218703465787964"
     },
     "user_tz": -60
    },
    "id": "toPiqyzjidQY",
    "outputId": "55ad675d-69b2-4455-b9a4-2f324d4eb7ac"
   },
   "outputs": [
    {
     "name": "stdout",
     "output_type": "stream",
     "text": [
      "Fitting 3 folds for each of 36 candidates, totalling 108 fits\n"
     ]
    },
    {
     "name": "stderr",
     "output_type": "stream",
     "text": [
      "[Parallel(n_jobs=-1)]: Using backend LokyBackend with 2 concurrent workers.\n",
      "[Parallel(n_jobs=-1)]: Done  37 tasks      | elapsed:  3.5min\n",
      "[Parallel(n_jobs=-1)]: Done 108 out of 108 | elapsed: 10.5min finished\n"
     ]
    }
   ],
   "source": [
    "# KNN\n",
    "model = KNeighborsClassifier()\n",
    "params = {\n",
    "    'tfidf__max_df': [0.5, 0.75, 1.0],\n",
    "    'tfidf__ngram_range': [(1, 1), (1, 2), (1, 3)],\n",
    "    'clf__n_neighbors': range(3, 11, 2),\n",
    "}\n",
    "\n",
    "# Create pipeline\n",
    "knn_pipe = Pipeline([\n",
    "    ('tfidf', TfidfVectorizer()),\n",
    "    ('clf', model)\n",
    "])\n",
    "\n",
    "# Train model\n",
    "knn_model = TrainModel(knn_pipe, params, X_train, X_valid, y_train, y_valid)\n",
    "knn_model.train()"
   ]
  },
  {
   "cell_type": "code",
   "execution_count": 15,
   "metadata": {
    "colab": {
     "base_uri": "https://localhost:8080/"
    },
    "executionInfo": {
     "elapsed": 2650565,
     "status": "ok",
     "timestamp": 1616944082431,
     "user": {
      "displayName": "Don Glover",
      "photoUrl": "",
      "userId": "16302218703465787964"
     },
     "user_tz": -60
    },
    "id": "9PRj4tNUxOOc",
    "outputId": "18f0900e-8d94-4ce9-f311-87084ba669c2"
   },
   "outputs": [
    {
     "name": "stdout",
     "output_type": "stream",
     "text": [
      "Fitting 3 folds for each of 36 candidates, totalling 108 fits\n"
     ]
    },
    {
     "name": "stderr",
     "output_type": "stream",
     "text": [
      "[Parallel(n_jobs=-1)]: Using backend LokyBackend with 2 concurrent workers.\n",
      "[Parallel(n_jobs=-1)]: Done  37 tasks      | elapsed:  6.2min\n",
      "[Parallel(n_jobs=-1)]: Done 108 out of 108 | elapsed: 18.8min finished\n"
     ]
    }
   ],
   "source": [
    "# Random Forest\n",
    "model = RandomForestClassifier(n_estimators=500, random_state=42)\n",
    "params = {\n",
    "    'tfidf__max_df': [0.5, 0.75, 1.0],\n",
    "    'tfidf__ngram_range': [(1, 1), (1, 2), (1, 3)],\n",
    "    'clf__max_depth': [20, 30],\n",
    "    'clf__min_samples_leaf': [15, 30]\n",
    "}\n",
    "\n",
    "# Create pipeline\n",
    "rf_pipe = Pipeline([\n",
    "    ('tfidf', TfidfVectorizer()),\n",
    "    ('clf', model)\n",
    "])\n",
    "\n",
    "# Train model\n",
    "rf_model = TrainModel(rf_pipe, params, X_train, X_valid, y_train, y_valid)\n",
    "rf_model.train()"
   ]
  },
  {
   "cell_type": "code",
   "execution_count": 16,
   "metadata": {
    "colab": {
     "base_uri": "https://localhost:8080/"
    },
    "executionInfo": {
     "elapsed": 3619585,
     "status": "ok",
     "timestamp": 1616945054628,
     "user": {
      "displayName": "Don Glover",
      "photoUrl": "",
      "userId": "16302218703465787964"
     },
     "user_tz": -60
    },
    "id": "CG-1QmWWisQQ",
    "outputId": "f4bd446c-acf3-4fd0-9cce-6741b52712d4"
   },
   "outputs": [
    {
     "name": "stdout",
     "output_type": "stream",
     "text": [
      "Fitting 3 folds for each of 63 candidates, totalling 189 fits\n"
     ]
    },
    {
     "name": "stderr",
     "output_type": "stream",
     "text": [
      "[Parallel(n_jobs=-1)]: Using backend LokyBackend with 2 concurrent workers.\n",
      "[Parallel(n_jobs=-1)]: Done  37 tasks      | elapsed:  3.1min\n",
      "[Parallel(n_jobs=-1)]: Done 158 tasks      | elapsed: 13.2min\n",
      "[Parallel(n_jobs=-1)]: Done 189 out of 189 | elapsed: 15.9min finished\n"
     ]
    }
   ],
   "source": [
    "# Ridge Classifier\n",
    "model = RidgeClassifier(random_state=42)\n",
    "params = {\n",
    "    'tfidf__max_df': [0.5, 0.75, 1.0],\n",
    "    'tfidf__ngram_range': [(1, 1), (1, 2), (1, 3)],\n",
    "    'clf__alpha': np.arange(0.5, 1.1, 0.1)\n",
    "}\n",
    "\n",
    "# Create pipeline\n",
    "rc_pipe = Pipeline([\n",
    "    ('tfidf', TfidfVectorizer()),\n",
    "    ('clf', model)\n",
    "])\n",
    "\n",
    "# Train model\n",
    "rc_model = TrainModel(rc_pipe, params, X_train, X_valid, y_train, y_valid)\n",
    "rc_model.train()"
   ]
  },
  {
   "cell_type": "code",
   "execution_count": 17,
   "metadata": {
    "colab": {
     "base_uri": "https://localhost:8080/"
    },
    "executionInfo": {
     "elapsed": 5078315,
     "status": "ok",
     "timestamp": 1616946515677,
     "user": {
      "displayName": "Don Glover",
      "photoUrl": "",
      "userId": "16302218703465787964"
     },
     "user_tz": -60
    },
    "id": "SNU3pCzaisNc",
    "outputId": "1bdd13e4-a50e-4f07-91e9-ceea29b2614a"
   },
   "outputs": [
    {
     "name": "stdout",
     "output_type": "stream",
     "text": [
      "Fitting 3 folds for each of 108 candidates, totalling 324 fits\n"
     ]
    },
    {
     "name": "stderr",
     "output_type": "stream",
     "text": [
      "[Parallel(n_jobs=-1)]: Using backend LokyBackend with 2 concurrent workers.\n",
      "[Parallel(n_jobs=-1)]: Done  37 tasks      | elapsed:  2.7min\n",
      "[Parallel(n_jobs=-1)]: Done 158 tasks      | elapsed: 11.7min\n",
      "[Parallel(n_jobs=-1)]: Done 324 out of 324 | elapsed: 24.2min finished\n"
     ]
    }
   ],
   "source": [
    "# SGD\n",
    "model = SGDClassifier(random_state=42)\n",
    "params = {\n",
    "    'tfidf__max_df': [0.5, 0.75, 1.0],\n",
    "    'tfidf__ngram_range': [(1, 1), (1, 2), (1, 3)],\n",
    "    'clf__loss': ['hinge', 'log'],\n",
    "    'clf__alpha': [0.0001, 0.001, 0.01],\n",
    "    'clf__penalty': ['l2', 'l1']\n",
    "}\n",
    "\n",
    "# Create pipeline\n",
    "sgd_pipe = Pipeline([\n",
    "    ('tfidf', TfidfVectorizer()),\n",
    "    ('clf', model)\n",
    "])\n",
    "\n",
    "# Train model\n",
    "sgd_model = TrainModel(sgd_pipe, params, X_train, X_valid, y_train, y_valid)\n",
    "sgd_model.train()"
   ]
  },
  {
   "cell_type": "markdown",
   "metadata": {},
   "source": [
    "Now let's try a few ensemble approaches to see if we can improve the accuracy."
   ]
  },
  {
   "cell_type": "code",
   "execution_count": 18,
   "metadata": {
    "colab": {
     "base_uri": "https://localhost:8080/"
    },
    "executionInfo": {
     "elapsed": 7662143,
     "status": "ok",
     "timestamp": 1616949102823,
     "user": {
      "displayName": "Don Glover",
      "photoUrl": "",
      "userId": "16302218703465787964"
     },
     "user_tz": -60
    },
    "id": "EYjmdM8fidDx",
    "outputId": "a7b334f8-6440-4d5d-e2db-97357bdca3b2"
   },
   "outputs": [
    {
     "name": "stdout",
     "output_type": "stream",
     "text": [
      "Fitting 3 folds for each of 9 candidates, totalling 27 fits\n"
     ]
    },
    {
     "name": "stderr",
     "output_type": "stream",
     "text": [
      "[Parallel(n_jobs=-1)]: Using backend LokyBackend with 2 concurrent workers.\n",
      "[Parallel(n_jobs=-1)]: Done  27 out of  27 | elapsed: 41.5min finished\n"
     ]
    }
   ],
   "source": [
    "# Light GBM\n",
    "model = LGBMClassifier(random_state=42)\n",
    "params = {\n",
    "    'tfidf__max_df': [0.5, 0.75, 1.0],\n",
    "    'tfidf__ngram_range': [(1, 1), (1, 2), (1, 3)],\n",
    "}\n",
    "\n",
    "# Create pipeline\n",
    "lgbm_pipe = Pipeline([\n",
    "    ('tfidf', TfidfVectorizer()),\n",
    "    ('clf', model)\n",
    "])\n",
    "\n",
    "# Train model\n",
    "lgbm_model = TrainModel(lgbm_pipe, params, X_train, X_valid, y_train, y_valid)\n",
    "lgbm_model.train()"
   ]
  },
  {
   "cell_type": "code",
   "execution_count": 19,
   "metadata": {
    "colab": {
     "base_uri": "https://localhost:8080/"
    },
    "executionInfo": {
     "elapsed": 1796271,
     "status": "ok",
     "timestamp": 1616950990238,
     "user": {
      "displayName": "Don Glover",
      "photoUrl": "",
      "userId": "16302218703465787964"
     },
     "user_tz": -60
    },
    "id": "Pps3YaJZisFp",
    "outputId": "eeaba92e-8522-404f-a277-e5ac68801f16"
   },
   "outputs": [
    {
     "name": "stdout",
     "output_type": "stream",
     "text": [
      "Fitting 3 folds for each of 18 candidates, totalling 54 fits\n"
     ]
    },
    {
     "name": "stderr",
     "output_type": "stream",
     "text": [
      "[Parallel(n_jobs=-1)]: Using backend LokyBackend with 2 concurrent workers.\n",
      "[Parallel(n_jobs=-1)]: Done  37 tasks      | elapsed: 17.9min\n",
      "[Parallel(n_jobs=-1)]: Done  54 out of  54 | elapsed: 28.7min finished\n"
     ]
    }
   ],
   "source": [
    "# AdaBoost\n",
    "model = AdaBoostClassifier(base_estimator=rc_model.best_estimator.named_steps['clf'], \n",
    "                           algorithm='SAMME', random_state=42)\n",
    "params = {\n",
    "    'tfidf__max_df': [0.5, 0.75, 1.0],\n",
    "    'tfidf__ngram_range': [(1, 1), (1, 2), (1, 3)],\n",
    "    'clf__learning_rate': [0.1 , 1]\n",
    "}\n",
    "\n",
    "# Create pipeline\n",
    "adb_pipe = Pipeline([\n",
    "    ('tfidf', TfidfVectorizer()),\n",
    "    ('clf', model)\n",
    "])\n",
    "\n",
    "# Train model\n",
    "adb_model = TrainModel(adb_pipe, params, X_train, X_valid, y_train, y_valid)\n",
    "adb_model.train()"
   ]
  },
  {
   "cell_type": "code",
   "execution_count": 20,
   "metadata": {
    "colab": {
     "base_uri": "https://localhost:8080/"
    },
    "executionInfo": {
     "elapsed": 2654221,
     "status": "ok",
     "timestamp": 1616951852343,
     "user": {
      "displayName": "Don Glover",
      "photoUrl": "",
      "userId": "16302218703465787964"
     },
     "user_tz": -60
    },
    "id": "X4nY1WuUOzCc",
    "outputId": "44094c60-25ae-4d78-f817-43b8375c2f0d"
   },
   "outputs": [
    {
     "name": "stdout",
     "output_type": "stream",
     "text": [
      "Fitting 3 folds for each of 18 candidates, totalling 54 fits\n"
     ]
    },
    {
     "name": "stderr",
     "output_type": "stream",
     "text": [
      "[Parallel(n_jobs=-1)]: Using backend LokyBackend with 2 concurrent workers.\n",
      "[Parallel(n_jobs=-1)]: Done  37 tasks      | elapsed:  9.0min\n",
      "[Parallel(n_jobs=-1)]: Done  54 out of  54 | elapsed: 13.8min finished\n"
     ]
    }
   ],
   "source": [
    "# Voting Classifier\n",
    "\n",
    "# Create pipeline\n",
    "vc_pipe = Pipeline([\n",
    "        ('tfidf', TfidfVectorizer()),    \n",
    "        ('clf', VotingClassifier(estimators=[\n",
    "            (\"vc1\", log_reg_model.best_estimator.named_steps['clf']), \n",
    "            (\"vc2\", sgd_model.best_estimator.named_steps['clf'])]))\n",
    "])\n",
    "\n",
    "# Params\n",
    "params = {\n",
    "    'tfidf__max_df': [0.5, 0.75, 1.0],\n",
    "    'tfidf__ngram_range': [(1, 1), (1, 2), (1, 3)],\n",
    "    'clf__voting': ['hard', 'soft']\n",
    "}\n",
    "\n",
    "# Train model\n",
    "vc_model = TrainModel(vc_pipe, params, X_train, X_valid, y_train, y_valid)\n",
    "vc_model.train()"
   ]
  },
  {
   "cell_type": "code",
   "execution_count": 21,
   "metadata": {
    "colab": {
     "base_uri": "https://localhost:8080/"
    },
    "executionInfo": {
     "elapsed": 8794827,
     "status": "ok",
     "timestamp": 1616957996246,
     "user": {
      "displayName": "Don Glover",
      "photoUrl": "",
      "userId": "16302218703465787964"
     },
     "user_tz": -60
    },
    "id": "IFEt2pfxO1yT",
    "outputId": "f47528fd-7a23-4e09-b8ef-407054fa6b01"
   },
   "outputs": [
    {
     "name": "stdout",
     "output_type": "stream",
     "text": [
      "Fitting 3 folds for each of 9 candidates, totalling 27 fits\n"
     ]
    },
    {
     "name": "stderr",
     "output_type": "stream",
     "text": [
      "[Parallel(n_jobs=-1)]: Using backend LokyBackend with 2 concurrent workers.\n",
      "[Parallel(n_jobs=-1)]: Done  27 out of  27 | elapsed: 99.9min finished\n"
     ]
    }
   ],
   "source": [
    "# Stacking Classifier\n",
    "\n",
    "# Create pipeline\n",
    "sc_pipe = Pipeline([\n",
    "        ('tfidf', TfidfVectorizer()),    \n",
    "        ('clf', StackingClassifier(estimators=[\n",
    "            (\"sc1\", log_reg_model.best_estimator.named_steps['clf']),\n",
    "            (\"sc2\", rf_model.best_estimator.named_steps['clf']), \n",
    "            (\"sc3\", sgd_model.best_estimator.named_steps['clf'])],\n",
    "            final_estimator=LogisticRegression(max_iter=2000)))\n",
    "])\n",
    "\n",
    "# Params\n",
    "params = {\n",
    "    'tfidf__max_df': [0.5, 0.75, 1.0],\n",
    "    'tfidf__ngram_range': [(1, 1), (1, 2), (1, 3)],\n",
    "}\n",
    "\n",
    "# Train model\n",
    "sc_model = TrainModel(sc_pipe, params, X_train, X_valid, y_train, y_valid)\n",
    "sc_model.train()"
   ]
  },
  {
   "cell_type": "code",
   "execution_count": 22,
   "metadata": {
    "executionInfo": {
     "elapsed": 701,
     "status": "ok",
     "timestamp": 1616958032535,
     "user": {
      "displayName": "Don Glover",
      "photoUrl": "",
      "userId": "16302218703465787964"
     },
     "user_tz": -60
    },
    "id": "DQpYkN2WGIhW"
   },
   "outputs": [],
   "source": [
    "# All models\n",
    "all_models = [dt_model, lsvc_model, nb_model, log_reg_model, knn_model, rf_model, \n",
    "              rc_model, sgd_model, lgbm_model, adb_model, vc_model, sc_model]"
   ]
  },
  {
   "cell_type": "code",
   "execution_count": 26,
   "metadata": {
    "executionInfo": {
     "elapsed": 26164,
     "status": "ok",
     "timestamp": 1616958120680,
     "user": {
      "displayName": "Don Glover",
      "photoUrl": "",
      "userId": "16302218703465787964"
     },
     "user_tz": -60
    },
    "id": "yEnR7KoT-lKr"
   },
   "outputs": [],
   "source": [
    "# Save all models\n",
    "for m in all_models:\n",
    "    pickle.dump(m, open(f'drive/MyDrive/models/{m.model_name}.pkl', 'wb'))"
   ]
  },
  {
   "cell_type": "markdown",
   "metadata": {},
   "source": [
    "<a id=\"model_evaluation\"></a>\n",
    "## 3. Model Evaluation\n",
    "---"
   ]
  },
  {
   "cell_type": "markdown",
   "metadata": {},
   "source": [
    "Finally, let's evaluate the performance of all of the models we tested. We'll start by generating confusion matrices for all of the models. This will give us a good understanding of how each model performed on the validation data."
   ]
  },
  {
   "cell_type": "code",
   "execution_count": 31,
   "metadata": {
    "colab": {
     "base_uri": "https://localhost:8080/",
     "height": 860
    },
    "executionInfo": {
     "elapsed": 2981,
     "status": "ok",
     "timestamp": 1616958238006,
     "user": {
      "displayName": "Don Glover",
      "photoUrl": "",
      "userId": "16302218703465787964"
     },
     "user_tz": -60
    },
    "id": "65FY1u5t6y9C",
    "outputId": "a966b5f9-b2ef-48e9-92d8-2d959c99888c"
   },
   "outputs": [
    {
     "data": {
      "image/png": "[encoded data removed]",
      "text/plain": [
       "<Figure size 1440x360 with 5 Axes>"
      ]
     },
     "metadata": {
      "needs_background": "light",
      "tags": []
     },
     "output_type": "display_data"
    },
    {
     "data": {
      "image/png": "[encoded data removed]",
      "text/plain": [
       "<Figure size 1440x360 with 5 Axes>"
      ]
     },
     "metadata": {
      "needs_background": "light",
      "tags": []
     },
     "output_type": "display_data"
    },
    {
     "data": {
      "image/png": "[encoded data removed]",
      "text/plain": [
       "<Figure size 1440x360 with 5 Axes>"
      ]
     },
     "metadata": {
      "needs_background": "light",
      "tags": []
     },
     "output_type": "display_data"
    }
   ],
   "source": [
    "# Confusion matrices and accuracy for each model\n",
    "for i in range(3):\n",
    "    f, axs = plt.subplots(1, 4, figsize=(20, 5), sharey='row')\n",
    "    for j, m in enumerate(all_models[i*4:(i+1)*4]):\n",
    "        disp = ConfusionMatrixDisplay(m.confusion_matrix, display_labels=class_names)\n",
    "        disp.plot(ax=axs[j])\n",
    "        disp.ax_.set_title(f'{m.model_name}\\nAccuracy: {m.accuracy}', fontweight='bold')\n",
    "        disp.im_.colorbar.remove()\n",
    "        disp.ax_.grid(False)\n",
    "        disp.ax_.set_xlabel('')\n",
    "        if j != 0:\n",
    "            disp.ax_.set_ylabel('')\n",
    "    if i == 2:\n",
    "        f.text(0.45, 0.1, 'Predicted label', ha='center')\n",
    "    plt.subplots_adjust(wspace=0.15, hspace=0.1)\n",
    "    f.colorbar(disp.im_, ax=axs, shrink=0.75, pad=0.01)\n",
    "    plt.show()"
   ]
  },
  {
   "cell_type": "markdown",
   "metadata": {},
   "source": [
    "We can see that most of the models achieved an accuracy approaching 0.6 with the Stacking Classifier just coming out on top. However, this model did take the longest to train at 99.9 mins and only scored marginally better than some of the other models, such as the Voting Classifier, which finished training in a fraction of the time at 13.8 mins.\n",
    "\n",
    "While an accuracy of 0.6 isn't particularly great, it is much better than a random guess which would have an accuracy of 0.2. In addition, we can see that the majority of the models are mostly getting confused with ratings that are close to each other e.g. predicting a rating of 4 when the actual rating was a 5. This is understandable and it is likely that people would also be unable to distinguish the difference between a rating of 4 or 5."
   ]
  },
  {
   "cell_type": "markdown",
   "metadata": {},
   "source": [
    "Below is a more detailed breakdown of the models' performance."
   ]
  },
  {
   "cell_type": "code",
   "execution_count": 32,
   "metadata": {
    "colab": {
     "base_uri": "https://localhost:8080/",
     "height": 313
    },
    "executionInfo": {
     "elapsed": 733,
     "status": "ok",
     "timestamp": 1616958405941,
     "user": {
      "displayName": "Don Glover",
      "photoUrl": "",
      "userId": "16302218703465787964"
     },
     "user_tz": -60
    },
    "id": "il1QbvFi7DjQ",
    "outputId": "ea3cdbd3-256f-4c53-aaa0-fe6258b0571f"
   },
   "outputs": [
    {
     "data": {
      "text/html": [
       "<style  type=\"text/css\" >\n",
       "#T_bd54970e_8ff8_11eb_a94f_0242ac1c0002row11_col0,#T_bd54970e_8ff8_11eb_a94f_0242ac1c0002row11_col1,#T_bd54970e_8ff8_11eb_a94f_0242ac1c0002row11_col2{\n",
       "            background-color:  #b3ff66;\n",
       "        }</style><table id=\"T_bd54970e_8ff8_11eb_a94f_0242ac1c0002\" ><thead>    <tr>        <th class=\"blank level0\" ></th>        <th class=\"col_heading level0 col0\" >accuracy</th>        <th class=\"col_heading level0 col1\" >precision</th>        <th class=\"col_heading level0 col2\" >f1-score</th>    </tr>    <tr>        <th class=\"index_name level0\" >model</th>        <th class=\"blank\" ></th>        <th class=\"blank\" ></th>        <th class=\"blank\" ></th>    </tr></thead><tbody>\n",
       "                <tr>\n",
       "                        <th id=\"T_bd54970e_8ff8_11eb_a94f_0242ac1c0002level0_row0\" class=\"row_heading level0 row0\" >DecisionTreeClassifier</th>\n",
       "                        <td id=\"T_bd54970e_8ff8_11eb_a94f_0242ac1c0002row0_col0\" class=\"data row0 col0\" >0.394</td>\n",
       "                        <td id=\"T_bd54970e_8ff8_11eb_a94f_0242ac1c0002row0_col1\" class=\"data row0 col1\" >0.38</td>\n",
       "                        <td id=\"T_bd54970e_8ff8_11eb_a94f_0242ac1c0002row0_col2\" class=\"data row0 col2\" >0.38</td>\n",
       "            </tr>\n",
       "            <tr>\n",
       "                        <th id=\"T_bd54970e_8ff8_11eb_a94f_0242ac1c0002level0_row1\" class=\"row_heading level0 row1\" >LinearSVC</th>\n",
       "                        <td id=\"T_bd54970e_8ff8_11eb_a94f_0242ac1c0002row1_col0\" class=\"data row1 col0\" >0.568</td>\n",
       "                        <td id=\"T_bd54970e_8ff8_11eb_a94f_0242ac1c0002row1_col1\" class=\"data row1 col1\" >0.554</td>\n",
       "                        <td id=\"T_bd54970e_8ff8_11eb_a94f_0242ac1c0002row1_col2\" class=\"data row1 col2\" >0.553</td>\n",
       "            </tr>\n",
       "            <tr>\n",
       "                        <th id=\"T_bd54970e_8ff8_11eb_a94f_0242ac1c0002level0_row2\" class=\"row_heading level0 row2\" >MultinomialNB</th>\n",
       "                        <td id=\"T_bd54970e_8ff8_11eb_a94f_0242ac1c0002row2_col0\" class=\"data row2 col0\" >0.567</td>\n",
       "                        <td id=\"T_bd54970e_8ff8_11eb_a94f_0242ac1c0002row2_col1\" class=\"data row2 col1\" >0.563</td>\n",
       "                        <td id=\"T_bd54970e_8ff8_11eb_a94f_0242ac1c0002row2_col2\" class=\"data row2 col2\" >0.564</td>\n",
       "            </tr>\n",
       "            <tr>\n",
       "                        <th id=\"T_bd54970e_8ff8_11eb_a94f_0242ac1c0002level0_row3\" class=\"row_heading level0 row3\" >LogisticRegression</th>\n",
       "                        <td id=\"T_bd54970e_8ff8_11eb_a94f_0242ac1c0002row3_col0\" class=\"data row3 col0\" >0.578</td>\n",
       "                        <td id=\"T_bd54970e_8ff8_11eb_a94f_0242ac1c0002row3_col1\" class=\"data row3 col1\" >0.571</td>\n",
       "                        <td id=\"T_bd54970e_8ff8_11eb_a94f_0242ac1c0002row3_col2\" class=\"data row3 col2\" >0.573</td>\n",
       "            </tr>\n",
       "            <tr>\n",
       "                        <th id=\"T_bd54970e_8ff8_11eb_a94f_0242ac1c0002level0_row4\" class=\"row_heading level0 row4\" >KNeighborsClassifier</th>\n",
       "                        <td id=\"T_bd54970e_8ff8_11eb_a94f_0242ac1c0002row4_col0\" class=\"data row4 col0\" >0.431</td>\n",
       "                        <td id=\"T_bd54970e_8ff8_11eb_a94f_0242ac1c0002row4_col1\" class=\"data row4 col1\" >0.418</td>\n",
       "                        <td id=\"T_bd54970e_8ff8_11eb_a94f_0242ac1c0002row4_col2\" class=\"data row4 col2\" >0.419</td>\n",
       "            </tr>\n",
       "            <tr>\n",
       "                        <th id=\"T_bd54970e_8ff8_11eb_a94f_0242ac1c0002level0_row5\" class=\"row_heading level0 row5\" >RandomForestClassifier</th>\n",
       "                        <td id=\"T_bd54970e_8ff8_11eb_a94f_0242ac1c0002row5_col0\" class=\"data row5 col0\" >0.518</td>\n",
       "                        <td id=\"T_bd54970e_8ff8_11eb_a94f_0242ac1c0002row5_col1\" class=\"data row5 col1\" >0.508</td>\n",
       "                        <td id=\"T_bd54970e_8ff8_11eb_a94f_0242ac1c0002row5_col2\" class=\"data row5 col2\" >0.482</td>\n",
       "            </tr>\n",
       "            <tr>\n",
       "                        <th id=\"T_bd54970e_8ff8_11eb_a94f_0242ac1c0002level0_row6\" class=\"row_heading level0 row6\" >RidgeClassifier</th>\n",
       "                        <td id=\"T_bd54970e_8ff8_11eb_a94f_0242ac1c0002row6_col0\" class=\"data row6 col0\" >0.565</td>\n",
       "                        <td id=\"T_bd54970e_8ff8_11eb_a94f_0242ac1c0002row6_col1\" class=\"data row6 col1\" >0.552</td>\n",
       "                        <td id=\"T_bd54970e_8ff8_11eb_a94f_0242ac1c0002row6_col2\" class=\"data row6 col2\" >0.554</td>\n",
       "            </tr>\n",
       "            <tr>\n",
       "                        <th id=\"T_bd54970e_8ff8_11eb_a94f_0242ac1c0002level0_row7\" class=\"row_heading level0 row7\" >SGDClassifier</th>\n",
       "                        <td id=\"T_bd54970e_8ff8_11eb_a94f_0242ac1c0002row7_col0\" class=\"data row7 col0\" >0.58</td>\n",
       "                        <td id=\"T_bd54970e_8ff8_11eb_a94f_0242ac1c0002row7_col1\" class=\"data row7 col1\" >0.569</td>\n",
       "                        <td id=\"T_bd54970e_8ff8_11eb_a94f_0242ac1c0002row7_col2\" class=\"data row7 col2\" >0.57</td>\n",
       "            </tr>\n",
       "            <tr>\n",
       "                        <th id=\"T_bd54970e_8ff8_11eb_a94f_0242ac1c0002level0_row8\" class=\"row_heading level0 row8\" >LGBMClassifier</th>\n",
       "                        <td id=\"T_bd54970e_8ff8_11eb_a94f_0242ac1c0002row8_col0\" class=\"data row8 col0\" >0.551</td>\n",
       "                        <td id=\"T_bd54970e_8ff8_11eb_a94f_0242ac1c0002row8_col1\" class=\"data row8 col1\" >0.544</td>\n",
       "                        <td id=\"T_bd54970e_8ff8_11eb_a94f_0242ac1c0002row8_col2\" class=\"data row8 col2\" >0.546</td>\n",
       "            </tr>\n",
       "            <tr>\n",
       "                        <th id=\"T_bd54970e_8ff8_11eb_a94f_0242ac1c0002level0_row9\" class=\"row_heading level0 row9\" >AdaBoostClassifier</th>\n",
       "                        <td id=\"T_bd54970e_8ff8_11eb_a94f_0242ac1c0002row9_col0\" class=\"data row9 col0\" >0.522</td>\n",
       "                        <td id=\"T_bd54970e_8ff8_11eb_a94f_0242ac1c0002row9_col1\" class=\"data row9 col1\" >0.513</td>\n",
       "                        <td id=\"T_bd54970e_8ff8_11eb_a94f_0242ac1c0002row9_col2\" class=\"data row9 col2\" >0.483</td>\n",
       "            </tr>\n",
       "            <tr>\n",
       "                        <th id=\"T_bd54970e_8ff8_11eb_a94f_0242ac1c0002level0_row10\" class=\"row_heading level0 row10\" >VotingClassifier</th>\n",
       "                        <td id=\"T_bd54970e_8ff8_11eb_a94f_0242ac1c0002row10_col0\" class=\"data row10 col0\" >0.582</td>\n",
       "                        <td id=\"T_bd54970e_8ff8_11eb_a94f_0242ac1c0002row10_col1\" class=\"data row10 col1\" >0.572</td>\n",
       "                        <td id=\"T_bd54970e_8ff8_11eb_a94f_0242ac1c0002row10_col2\" class=\"data row10 col2\" >0.574</td>\n",
       "            </tr>\n",
       "            <tr>\n",
       "                        <th id=\"T_bd54970e_8ff8_11eb_a94f_0242ac1c0002level0_row11\" class=\"row_heading level0 row11\" >StackingClassifier</th>\n",
       "                        <td id=\"T_bd54970e_8ff8_11eb_a94f_0242ac1c0002row11_col0\" class=\"data row11 col0\" >0.599</td>\n",
       "                        <td id=\"T_bd54970e_8ff8_11eb_a94f_0242ac1c0002row11_col1\" class=\"data row11 col1\" >0.59</td>\n",
       "                        <td id=\"T_bd54970e_8ff8_11eb_a94f_0242ac1c0002row11_col2\" class=\"data row11 col2\" >0.593</td>\n",
       "            </tr>\n",
       "    </tbody></table>"
      ],
      "text/plain": [
       "<pandas.io.formats.style.Styler at 0x7ff053fd9890>"
      ]
     },
     "execution_count": 32,
     "metadata": {
      "tags": []
     },
     "output_type": "execute_result"
    }
   ],
   "source": [
    "# Model summary\n",
    "def model_summary(models):\n",
    "    stats = [(m.model_name, m.accuracy, m.precision, m.f1) for m in models]\n",
    "    df = pd.DataFrame(stats, columns=['model', 'accuracy', 'precision', 'f1-score']).set_index('model')\n",
    "    return df\n",
    "\n",
    "df_models = model_summary(all_models)\n",
    "df_models.style.highlight_max(axis=0, color='#b3ff66').format(\"{:.3}\")"
   ]
  },
  {
   "cell_type": "code",
   "execution_count": 33,
   "metadata": {
    "colab": {
     "base_uri": "https://localhost:8080/"
    },
    "executionInfo": {
     "elapsed": 883,
     "status": "ok",
     "timestamp": 1616958435995,
     "user": {
      "displayName": "Don Glover",
      "photoUrl": "",
      "userId": "16302218703465787964"
     },
     "user_tz": -60
    },
    "id": "cLb00EnS7VPK",
    "outputId": "fdbe33d9-2879-4cbb-f73a-ed53460f3da8"
   },
   "outputs": [
    {
     "data": {
      "text/plain": [
       "Pipeline(steps=[('tfidf', TfidfVectorizer(max_df=0.75)),\n",
       "                ('clf',\n",
       "                 StackingClassifier(estimators=[('sc1',\n",
       "                                                 LogisticRegression(max_iter=1000,\n",
       "                                                                    random_state=42,\n",
       "                                                                    solver='newton-cg')),\n",
       "                                                ('sc2',\n",
       "                                                 RandomForestClassifier(max_depth=30,\n",
       "                                                                        min_samples_leaf=15,\n",
       "                                                                        n_estimators=500,\n",
       "                                                                        random_state=42)),\n",
       "                                                ('sc3',\n",
       "                                                 SGDClassifier(loss='log',\n",
       "                                                               random_state=42))],\n",
       "                                    final_estimator=LogisticRegression(max_iter=2000)))])"
      ]
     },
     "execution_count": 33,
     "metadata": {
      "tags": []
     },
     "output_type": "execute_result"
    }
   ],
   "source": [
    "# Look at parameters of best model (StackingClassifier)\n",
    "best_model = sc_model.best_estimator\n",
    "best_model"
   ]
  },
  {
   "cell_type": "markdown",
   "metadata": {},
   "source": [
    "Here, we can see the hyperparameters that were chosen for the Stacking Classifier."
   ]
  },
  {
   "cell_type": "markdown",
   "metadata": {},
   "source": [
    "Let's use this model to predict our test set. This will help us to see if the model is likely to generalise well."
   ]
  },
  {
   "cell_type": "code",
   "execution_count": 34,
   "metadata": {
    "colab": {
     "base_uri": "https://localhost:8080/"
    },
    "executionInfo": {
     "elapsed": 1317,
     "status": "ok",
     "timestamp": 1616958449799,
     "user": {
      "displayName": "Don Glover",
      "photoUrl": "",
      "userId": "16302218703465787964"
     },
     "user_tz": -60
    },
    "id": "qWO9bhGd7e5s",
    "outputId": "3fe92719-f37e-4fbd-aaee-df42b95cace8"
   },
   "outputs": [
    {
     "name": "stdout",
     "output_type": "stream",
     "text": [
      "Accuracy Score: 0.605\n"
     ]
    }
   ],
   "source": [
    "# Predict test set\n",
    "preds = best_model.predict(X_test)\n",
    "print(f'Accuracy Score: {accuracy_score(y_test, preds):.3f}')"
   ]
  },
  {
   "cell_type": "markdown",
   "metadata": {},
   "source": [
    "That's good. The accuracy is very similar to what was achieved on the validation data. This means that our model should generalise well. Finally, let's train the model on the training and validation data."
   ]
  },
  {
   "cell_type": "code",
   "execution_count": 36,
   "metadata": {
    "colab": {
     "base_uri": "https://localhost:8080/"
    },
    "executionInfo": {
     "elapsed": 179471,
     "status": "ok",
     "timestamp": 1616958685126,
     "user": {
      "displayName": "Don Glover",
      "photoUrl": "",
      "userId": "16302218703465787964"
     },
     "user_tz": -60
    },
    "id": "VugfnkcJ7ex-",
    "outputId": "e3f321e1-6ce5-4608-b783-7cf20a9f358e"
   },
   "outputs": [
    {
     "name": "stdout",
     "output_type": "stream",
     "text": [
      "Accuracy Score: 0.599\n"
     ]
    }
   ],
   "source": [
    "# Train model on entire training set \n",
    "\n",
    "# Split data\n",
    "X_train, X_test, y_train, y_test = train_test_split(X, y, test_size=0.1, stratify=y, random_state=42)\n",
    "\n",
    "# Fit data\n",
    "best_model.fit(X_train, y_train)\n",
    "preds_all = best_model.predict(X_test)\n",
    "print(f'Accuracy Score: {accuracy_score(y_test, preds_all):.3f}')"
   ]
  },
  {
   "cell_type": "markdown",
   "metadata": {},
   "source": [
    "Again, we see that the accuracy is consistent so we can be confident with the model. In the next and final notebook, we will explore deep learning techniques as well as pretrained models to see if we can improve upon our current best model."
   ]
  },
  {
   "cell_type": "markdown",
   "metadata": {},
   "source": [
    "**[Back to Top](#top)**"
   ]
  }
 ],
 "metadata": {
  "colab": {
   "authorship_tag": "ABX9TyN2pIaFwz73bYBT8SoW3wyW",
   "collapsed_sections": [],
   "mount_file_id": "1sQqmYAcsmdFRGlHnIHKcjE68pz8ioJLZ",
   "name": "NLP_Regular_Classification_Modelling_Final.ipynb",
   "provenance": []
  },
  "kernelspec": {
   "display_name": "Python 3",
   "language": "python",
   "name": "python3"
  },
  "language_info": {
   "codemirror_mode": {
    "name": "ipython",
    "version": 3
   },
   "file_extension": ".py",
   "mimetype": "text/x-python",
   "name": "python",
   "nbconvert_exporter": "python",
   "pygments_lexer": "ipython3",
   "version": "3.8.5"
  }
 },
 "nbformat": 4,
 "nbformat_minor": 1
}
