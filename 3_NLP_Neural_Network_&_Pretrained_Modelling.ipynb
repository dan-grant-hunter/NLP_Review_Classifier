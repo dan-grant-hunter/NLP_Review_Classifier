{
 "cells": [
  {
   "cell_type": "markdown",
   "metadata": {},
   "source": [
    "<a id=\"top\"></a>\n",
    "# NLP Hotel Review Classification\n",
    "---\n",
    "### *Notebook 3/3: Neural Network & Pretrained Model Building*\n",
    "---"
   ]
  },
  {
   "cell_type": "markdown",
   "metadata": {},
   "source": [
    "## Contents\n",
    "---\n",
    "\n",
    "**1.  [Data Reading & Preparation](#data_reading_prep)** <br>\n",
    "**2.  [Neural Network Model 1 - Dense](#model_1)** <br>\n",
    "**3.  [Neural Network Model 2 - Embedding](#model_2)** <br>\n",
    "**4.  [Neural Network Model 3 - Convolutional](#model_3)** <br>\n",
    "**5.  [Evaluate Best Neural Network Model](#best_nn_model)** <br>\n",
    "**6.  [BERT Model](#bert_model)** <br>\n",
    "**7.  [Model Summary](#model_summary)** <br>\n",
    "**8.  [Model Deployment](#model_deployment)** <br>\n",
    "\n",
    "---"
   ]
  },
  {
   "cell_type": "markdown",
   "metadata": {},
   "source": [
    "<a id=\"data_reading_prep\"></a>\n",
    "## 1. Data Reading & Preparation"
   ]
  },
  {
   "cell_type": "code",
   "execution_count": 2,
   "metadata": {
    "executionInfo": {
     "elapsed": 4585,
     "status": "ok",
     "timestamp": 1617039146262,
     "user": {
      "displayName": "Don Glover",
      "photoUrl": "",
      "userId": "16302218703465787964"
     },
     "user_tz": -60
    },
    "id": "HPlpr9h_GZ2b"
   },
   "outputs": [],
   "source": [
    "# Imports\n",
    "from helper_functions import acc_loss_plot\n",
    "import pandas as pd\n",
    "import numpy as np\n",
    "import matplotlib.pyplot as plt\n",
    "from sklearn.model_selection import train_test_split\n",
    "from sklearn.feature_extraction.text import TfidfVectorizer\n",
    "from sklearn.preprocessing import LabelEncoder\n",
    "from sklearn.metrics import accuracy_score, confusion_matrix, ConfusionMatrixDisplay\n",
    "from keras.preprocessing import sequence\n",
    "from keras.models import Sequential\n",
    "from keras.layers import Dense, Dropout, GlobalAveragePooling1D, Embedding, Conv1D, BatchNormalization\n",
    "from keras.utils import np_utils\n",
    "from keras.callbacks import EarlyStopping\n",
    "import ktrain\n",
    "from ktrain import text"
   ]
  },
  {
   "cell_type": "code",
   "execution_count": 3,
   "metadata": {
    "executionInfo": {
     "elapsed": 674,
     "status": "ok",
     "timestamp": 1617039148732,
     "user": {
      "displayName": "Don Glover",
      "photoUrl": "",
      "userId": "16302218703465787964"
     },
     "user_tz": -60
    },
    "id": "hnw1ppB5GuOv"
   },
   "outputs": [],
   "source": [
    "# Read in data\n",
    "df = pd.read_csv('drive/MyDrive/data/df_final.csv')"
   ]
  },
  {
   "cell_type": "code",
   "execution_count": 4,
   "metadata": {
    "colab": {
     "base_uri": "https://localhost:8080/",
     "height": 419
    },
    "executionInfo": {
     "elapsed": 1100,
     "status": "ok",
     "timestamp": 1617039151095,
     "user": {
      "displayName": "Don Glover",
      "photoUrl": "",
      "userId": "16302218703465787964"
     },
     "user_tz": -60
    },
    "id": "Y_J-N69NG1xs",
    "outputId": "363bb1e6-46ec-4843-a780-8d4baa6ca92d"
   },
   "outputs": [
    {
     "data": {
      "text/html": [
       "<div>\n",
       "<style scoped>\n",
       "    .dataframe tbody tr th:only-of-type {\n",
       "        vertical-align: middle;\n",
       "    }\n",
       "\n",
       "    .dataframe tbody tr th {\n",
       "        vertical-align: top;\n",
       "    }\n",
       "\n",
       "    .dataframe thead th {\n",
       "        text-align: right;\n",
       "    }\n",
       "</style>\n",
       "<table border=\"1\" class=\"dataframe\">\n",
       "  <thead>\n",
       "    <tr style=\"text-align: right;\">\n",
       "      <th></th>\n",
       "      <th>Review</th>\n",
       "      <th>Rating</th>\n",
       "    </tr>\n",
       "  </thead>\n",
       "  <tbody>\n",
       "    <tr>\n",
       "      <th>0</th>\n",
       "      <td>ok nothing special charge diamond member hilto...</td>\n",
       "      <td>2</td>\n",
       "    </tr>\n",
       "    <tr>\n",
       "      <th>1</th>\n",
       "      <td>nice room not experience hotel monaco seattle ...</td>\n",
       "      <td>3</td>\n",
       "    </tr>\n",
       "    <tr>\n",
       "      <th>2</th>\n",
       "      <td>excellent staff housekeeping quality hotel cho...</td>\n",
       "      <td>4</td>\n",
       "    </tr>\n",
       "    <tr>\n",
       "      <th>3</th>\n",
       "      <td>poor value stayed monaco seattle july nice hot...</td>\n",
       "      <td>2</td>\n",
       "    </tr>\n",
       "    <tr>\n",
       "      <th>4</th>\n",
       "      <td>nice hotel not nice staff hotel lovely staff q...</td>\n",
       "      <td>3</td>\n",
       "    </tr>\n",
       "    <tr>\n",
       "      <th>...</th>\n",
       "      <td>...</td>\n",
       "      <td>...</td>\n",
       "    </tr>\n",
       "    <tr>\n",
       "      <th>18535</th>\n",
       "      <td>dirty hall dirty room nothing work tv didn wor...</td>\n",
       "      <td>1</td>\n",
       "    </tr>\n",
       "    <tr>\n",
       "      <th>18536</th>\n",
       "      <td>confortable room staff kind available polite g...</td>\n",
       "      <td>5</td>\n",
       "    </tr>\n",
       "    <tr>\n",
       "      <th>18537</th>\n",
       "      <td>stayed attending itb berlin heating system hot...</td>\n",
       "      <td>2</td>\n",
       "    </tr>\n",
       "    <tr>\n",
       "      <th>18538</th>\n",
       "      <td>hotel well located adenauerplatz ku damm reaso...</td>\n",
       "      <td>2</td>\n",
       "    </tr>\n",
       "    <tr>\n",
       "      <th>18539</th>\n",
       "      <td>ok want book double room get find twin no apol...</td>\n",
       "      <td>2</td>\n",
       "    </tr>\n",
       "  </tbody>\n",
       "</table>\n",
       "<p>18540 rows × 2 columns</p>\n",
       "</div>"
      ],
      "text/plain": [
       "                                                  Review  Rating\n",
       "0      ok nothing special charge diamond member hilto...       2\n",
       "1      nice room not experience hotel monaco seattle ...       3\n",
       "2      excellent staff housekeeping quality hotel cho...       4\n",
       "3      poor value stayed monaco seattle july nice hot...       2\n",
       "4      nice hotel not nice staff hotel lovely staff q...       3\n",
       "...                                                  ...     ...\n",
       "18535  dirty hall dirty room nothing work tv didn wor...       1\n",
       "18536  confortable room staff kind available polite g...       5\n",
       "18537  stayed attending itb berlin heating system hot...       2\n",
       "18538  hotel well located adenauerplatz ku damm reaso...       2\n",
       "18539  ok want book double room get find twin no apol...       2\n",
       "\n",
       "[18540 rows x 2 columns]"
      ]
     },
     "execution_count": 4,
     "metadata": {
      "tags": []
     },
     "output_type": "execute_result"
    }
   ],
   "source": [
    "# Check data\n",
    "df"
   ]
  },
  {
   "cell_type": "code",
   "execution_count": 5,
   "metadata": {
    "executionInfo": {
     "elapsed": 824,
     "status": "ok",
     "timestamp": 1617039153202,
     "user": {
      "displayName": "Don Glover",
      "photoUrl": "",
      "userId": "16302218703465787964"
     },
     "user_tz": -60
    },
    "id": "S8dRye0ZhUBy"
   },
   "outputs": [],
   "source": [
    "# Save all class names\n",
    "class_names = np.sort(df['Rating'].unique()).tolist()"
   ]
  },
  {
   "cell_type": "markdown",
   "metadata": {
    "id": "aXh9v9ibH7Mm"
   },
   "source": [
    "<a id=\"model_1\"></a>\n",
    "## 2. Neural Network Model 1 - Dense\n",
    "---"
   ]
  },
  {
   "cell_type": "markdown",
   "metadata": {},
   "source": [
    "For our first neural network model, let's try starting out with just a simple dense architecture. We will need to vectorize our reviews as before and also label encode our ratings. We will also need to one hot encode our labels for this type of model."
   ]
  },
  {
   "cell_type": "code",
   "execution_count": 6,
   "metadata": {
    "executionInfo": {
     "elapsed": 621,
     "status": "ok",
     "timestamp": 1617039159121,
     "user": {
      "displayName": "Don Glover",
      "photoUrl": "",
      "userId": "16302218703465787964"
     },
     "user_tz": -60
    },
    "id": "A6QtcYBUHDmV"
   },
   "outputs": [],
   "source": [
    "# Split data\n",
    "X1 = df['Review']\n",
    "y1 = df['Rating']\n",
    "\n",
    "# 80% Train, 10% Validation, 10% Test\n",
    "X1_train, X1_test, y1_train, y1_test = train_test_split(X1, y1, test_size=.2, \n",
    "                                                    stratify=y1, random_state=42)\n",
    "\n",
    "X1_val, X1_test, y1_val, y1_test = train_test_split(X1_test, y1_test, test_size=.5, \n",
    "                                                stratify=y1_test, random_state=42)"
   ]
  },
  {
   "cell_type": "code",
   "execution_count": 7,
   "metadata": {
    "executionInfo": {
     "elapsed": 4406,
     "status": "ok",
     "timestamp": 1617039167083,
     "user": {
      "displayName": "Don Glover",
      "photoUrl": "",
      "userId": "16302218703465787964"
     },
     "user_tz": -60
    },
    "id": "mruJIPqHHGRv"
   },
   "outputs": [],
   "source": [
    "# Vectorize data\n",
    "tfidf = TfidfVectorizer()\n",
    "X1_train = tfidf.fit_transform(X1_train).toarray()\n",
    "X1_val = tfidf.transform(X1_val).toarray()\n",
    "X1_test = tfidf.transform(X1_test).toarray()"
   ]
  },
  {
   "cell_type": "code",
   "execution_count": 8,
   "metadata": {
    "executionInfo": {
     "elapsed": 576,
     "status": "ok",
     "timestamp": 1617039168761,
     "user": {
      "displayName": "Don Glover",
      "photoUrl": "",
      "userId": "16302218703465787964"
     },
     "user_tz": -60
    },
    "id": "-PslaWfLHMUS"
   },
   "outputs": [],
   "source": [
    "# Encode labels (shifts labels from 1-5 to 0-4)\n",
    "le = LabelEncoder()\n",
    "y1_train = le.fit_transform(y1_train)\n",
    "y1_val = le.transform(y1_val)\n",
    "y1_test = le.transform(y1_test)"
   ]
  },
  {
   "cell_type": "code",
   "execution_count": 9,
   "metadata": {
    "executionInfo": {
     "elapsed": 804,
     "status": "ok",
     "timestamp": 1617039173685,
     "user": {
      "displayName": "Don Glover",
      "photoUrl": "",
      "userId": "16302218703465787964"
     },
     "user_tz": -60
    },
    "id": "X0e0rVrTHPzp"
   },
   "outputs": [],
   "source": [
    "# One hot encode labels ready for model\n",
    "y1_train  = np_utils.to_categorical(y1_train)\n",
    "y1_val = np_utils.to_categorical(y1_val)\n",
    "y1_test = np_utils.to_categorical(y1_test)"
   ]
  },
  {
   "cell_type": "code",
   "execution_count": 10,
   "metadata": {
    "colab": {
     "base_uri": "https://localhost:8080/"
    },
    "executionInfo": {
     "elapsed": 868,
     "status": "ok",
     "timestamp": 1617039176005,
     "user": {
      "displayName": "Don Glover",
      "photoUrl": "",
      "userId": "16302218703465787964"
     },
     "user_tz": -60
    },
    "id": "uzIR4XNzdl9A",
    "outputId": "735e1c74-7c34-4527-b919-96a573728082"
   },
   "outputs": [
    {
     "data": {
      "text/plain": [
       "array([[0., 0., 0., 1., 0.],\n",
       "       [0., 0., 0., 1., 0.],\n",
       "       [1., 0., 0., 0., 0.],\n",
       "       ...,\n",
       "       [0., 0., 0., 1., 0.],\n",
       "       [1., 0., 0., 0., 0.],\n",
       "       [0., 1., 0., 0., 0.]], dtype=float32)"
      ]
     },
     "execution_count": 10,
     "metadata": {
      "tags": []
     },
     "output_type": "execute_result"
    }
   ],
   "source": [
    "# Show labels for training data\n",
    "y1_train"
   ]
  },
  {
   "cell_type": "markdown",
   "metadata": {},
   "source": [
    "Here we can see the labels in their one hot encoded form."
   ]
  },
  {
   "cell_type": "markdown",
   "metadata": {},
   "source": [
    "For the first neural network model, we will use the following architecture."
   ]
  },
  {
   "cell_type": "code",
   "execution_count": 11,
   "metadata": {
    "executionInfo": {
     "elapsed": 1792,
     "status": "ok",
     "timestamp": 1617039183328,
     "user": {
      "displayName": "Don Glover",
      "photoUrl": "",
      "userId": "16302218703465787964"
     },
     "user_tz": -60
    },
    "id": "K6h45yJkHUQp"
   },
   "outputs": [],
   "source": [
    "# Build model architecture\n",
    "model_1 = Sequential()\n",
    "model_1.add(Dense(32, input_dim=X1_train.shape[1], activation='relu'))\n",
    "model_1.add(Dropout(0.5))\n",
    "model_1.add(Dense(16, activation='relu'))\n",
    "model_1.add(Dropout(0.5))\n",
    "model_1.add(BatchNormalization())\n",
    "model_1.add(Dense(16, activation='relu'))\n",
    "model_1.add(Dense(5, activation='sigmoid'))"
   ]
  },
  {
   "cell_type": "code",
   "execution_count": 12,
   "metadata": {
    "executionInfo": {
     "elapsed": 448,
     "status": "ok",
     "timestamp": 1617039183671,
     "user": {
      "displayName": "Don Glover",
      "photoUrl": "",
      "userId": "16302218703465787964"
     },
     "user_tz": -60
    },
    "id": "eY-MggWSR_pb"
   },
   "outputs": [],
   "source": [
    "# Compile model\n",
    "model_1.compile(loss='binary_crossentropy', optimizer='adam', metrics=['accuracy'])"
   ]
  },
  {
   "cell_type": "code",
   "execution_count": 13,
   "metadata": {
    "executionInfo": {
     "elapsed": 16289,
     "status": "ok",
     "timestamp": 1617039207146,
     "user": {
      "displayName": "Don Glover",
      "photoUrl": "",
      "userId": "16302218703465787964"
     },
     "user_tz": -60
    },
    "id": "InqphUxdHW4p"
   },
   "outputs": [],
   "source": [
    "# Fit data\n",
    "epochs = 10\n",
    "history_1 = model_1.fit(\n",
    "    X1_train, y1_train, batch_size=128, epochs=epochs, \n",
    "    verbose=0, validation_data=(X1_val, y1_val)\n",
    ")"
   ]
  },
  {
   "cell_type": "code",
   "execution_count": 14,
   "metadata": {
    "colab": {
     "base_uri": "https://localhost:8080/",
     "height": 350
    },
    "executionInfo": {
     "elapsed": 1468,
     "status": "ok",
     "timestamp": 1617039210415,
     "user": {
      "displayName": "Don Glover",
      "photoUrl": "",
      "userId": "16302218703465787964"
     },
     "user_tz": -60
    },
    "id": "PN4VoTy7HYiD",
    "outputId": "79c35d2d-3837-409e-8972-2a3136e206bb"
   },
   "outputs": [
    {
     "data": {
      "image/png": "[encoded data removed]",
      "text/plain": [
       "<Figure size 1080x360 with 2 Axes>"
      ]
     },
     "metadata": {
      "needs_background": "light",
      "tags": []
     },
     "output_type": "display_data"
    }
   ],
   "source": [
    "# Plot accuracy and loss\n",
    "acc_loss_plot(history_1, epochs)"
   ]
  },
  {
   "cell_type": "markdown",
   "metadata": {},
   "source": [
    "We can see that after around 4 epochs, the validation loss starts increasing. Accuracy also plateaus pretty quickly."
   ]
  },
  {
   "cell_type": "code",
   "execution_count": 15,
   "metadata": {
    "colab": {
     "base_uri": "https://localhost:8080/"
    },
    "executionInfo": {
     "elapsed": 1299,
     "status": "ok",
     "timestamp": 1617039217142,
     "user": {
      "displayName": "Don Glover",
      "photoUrl": "",
      "userId": "16302218703465787964"
     },
     "user_tz": -60
    },
    "id": "nII2CXVXHi_Y",
    "outputId": "20337c37-6daf-4024-c278-c515b093474e"
   },
   "outputs": [
    {
     "name": "stdout",
     "output_type": "stream",
     "text": [
      "58/58 [==============================] - 0s 4ms/step - loss: 0.3689 - accuracy: 0.5485\n"
     ]
    },
    {
     "data": {
      "text/plain": [
       "0.5485436916351318"
      ]
     },
     "execution_count": 15,
     "metadata": {
      "tags": []
     },
     "output_type": "execute_result"
    }
   ],
   "source": [
    "# Evaluate model on validation set\n",
    "model_1.evaluate(X1_val, y1_val)[1]"
   ]
  },
  {
   "cell_type": "code",
   "execution_count": 16,
   "metadata": {
    "colab": {
     "base_uri": "https://localhost:8080/"
    },
    "executionInfo": {
     "elapsed": 1117,
     "status": "ok",
     "timestamp": 1617039219407,
     "user": {
      "displayName": "Don Glover",
      "photoUrl": "",
      "userId": "16302218703465787964"
     },
     "user_tz": -60
    },
    "id": "pkHhMU-PHrr1",
    "outputId": "e26c76cd-c684-4c55-a292-4778934aaa48"
   },
   "outputs": [
    {
     "name": "stdout",
     "output_type": "stream",
     "text": [
      "58/58 [==============================] - 0s 4ms/step - loss: 0.3580 - accuracy: 0.5874\n"
     ]
    },
    {
     "data": {
      "text/plain": [
       "0.5873786211013794"
      ]
     },
     "execution_count": 16,
     "metadata": {
      "tags": []
     },
     "output_type": "execute_result"
    }
   ],
   "source": [
    "# Evaluate model on test set\n",
    "model_1_accuracy = model_1.evaluate(X1_test, y1_test)[1]\n",
    "model_1_accuracy"
   ]
  },
  {
   "cell_type": "markdown",
   "metadata": {},
   "source": [
    "The accuracy of the model is around the same as what we were seeing with some of our earlier classification models."
   ]
  },
  {
   "cell_type": "code",
   "execution_count": 17,
   "metadata": {
    "executionInfo": {
     "elapsed": 1763,
     "status": "ok",
     "timestamp": 1617039227896,
     "user": {
      "displayName": "Don Glover",
      "photoUrl": "",
      "userId": "16302218703465787964"
     },
     "user_tz": -60
    },
    "id": "UmWj6apCYW39"
   },
   "outputs": [],
   "source": [
    "# Save model 1\n",
    "model_1.save('drive/MyDrive/models/nn_model_1.h5')"
   ]
  },
  {
   "cell_type": "markdown",
   "metadata": {
    "id": "yIwf7HDLIDlT"
   },
   "source": [
    "<a id=\"model_2\"></a>\n",
    "## 3. Neural Network Model 2 - Embedding\n",
    "---"
   ]
  },
  {
   "cell_type": "markdown",
   "metadata": {},
   "source": [
    "Let's try using a model with an embedding layer. For this model, we will vectorize the reviews by assigning each unique word a number. We will also set a maximum length for the review and pad any reviews which are shorter than the maximum length."
   ]
  },
  {
   "cell_type": "code",
   "execution_count": 18,
   "metadata": {
    "colab": {
     "base_uri": "https://localhost:8080/",
     "height": 419
    },
    "executionInfo": {
     "elapsed": 756,
     "status": "ok",
     "timestamp": 1617039233237,
     "user": {
      "displayName": "Don Glover",
      "photoUrl": "",
      "userId": "16302218703465787964"
     },
     "user_tz": -60
    },
    "id": "b5zx8YkrIGfg",
    "outputId": "21f3b8c7-5fa0-452b-a808-e47830e74537"
   },
   "outputs": [
    {
     "data": {
      "text/html": [
       "<div>\n",
       "<style scoped>\n",
       "    .dataframe tbody tr th:only-of-type {\n",
       "        vertical-align: middle;\n",
       "    }\n",
       "\n",
       "    .dataframe tbody tr th {\n",
       "        vertical-align: top;\n",
       "    }\n",
       "\n",
       "    .dataframe thead th {\n",
       "        text-align: right;\n",
       "    }\n",
       "</style>\n",
       "<table border=\"1\" class=\"dataframe\">\n",
       "  <thead>\n",
       "    <tr style=\"text-align: right;\">\n",
       "      <th></th>\n",
       "      <th>Review</th>\n",
       "      <th>Rating_1</th>\n",
       "      <th>Rating_2</th>\n",
       "      <th>Rating_3</th>\n",
       "      <th>Rating_4</th>\n",
       "      <th>Rating_5</th>\n",
       "    </tr>\n",
       "  </thead>\n",
       "  <tbody>\n",
       "    <tr>\n",
       "      <th>0</th>\n",
       "      <td>ok nothing special charge diamond member hilto...</td>\n",
       "      <td>0</td>\n",
       "      <td>1</td>\n",
       "      <td>0</td>\n",
       "      <td>0</td>\n",
       "      <td>0</td>\n",
       "    </tr>\n",
       "    <tr>\n",
       "      <th>1</th>\n",
       "      <td>nice room not experience hotel monaco seattle ...</td>\n",
       "      <td>0</td>\n",
       "      <td>0</td>\n",
       "      <td>1</td>\n",
       "      <td>0</td>\n",
       "      <td>0</td>\n",
       "    </tr>\n",
       "    <tr>\n",
       "      <th>2</th>\n",
       "      <td>excellent staff housekeeping quality hotel cho...</td>\n",
       "      <td>0</td>\n",
       "      <td>0</td>\n",
       "      <td>0</td>\n",
       "      <td>1</td>\n",
       "      <td>0</td>\n",
       "    </tr>\n",
       "    <tr>\n",
       "      <th>3</th>\n",
       "      <td>poor value stayed monaco seattle july nice hot...</td>\n",
       "      <td>0</td>\n",
       "      <td>1</td>\n",
       "      <td>0</td>\n",
       "      <td>0</td>\n",
       "      <td>0</td>\n",
       "    </tr>\n",
       "    <tr>\n",
       "      <th>4</th>\n",
       "      <td>nice hotel not nice staff hotel lovely staff q...</td>\n",
       "      <td>0</td>\n",
       "      <td>0</td>\n",
       "      <td>1</td>\n",
       "      <td>0</td>\n",
       "      <td>0</td>\n",
       "    </tr>\n",
       "    <tr>\n",
       "      <th>...</th>\n",
       "      <td>...</td>\n",
       "      <td>...</td>\n",
       "      <td>...</td>\n",
       "      <td>...</td>\n",
       "      <td>...</td>\n",
       "      <td>...</td>\n",
       "    </tr>\n",
       "    <tr>\n",
       "      <th>18535</th>\n",
       "      <td>dirty hall dirty room nothing work tv didn wor...</td>\n",
       "      <td>1</td>\n",
       "      <td>0</td>\n",
       "      <td>0</td>\n",
       "      <td>0</td>\n",
       "      <td>0</td>\n",
       "    </tr>\n",
       "    <tr>\n",
       "      <th>18536</th>\n",
       "      <td>confortable room staff kind available polite g...</td>\n",
       "      <td>0</td>\n",
       "      <td>0</td>\n",
       "      <td>0</td>\n",
       "      <td>0</td>\n",
       "      <td>1</td>\n",
       "    </tr>\n",
       "    <tr>\n",
       "      <th>18537</th>\n",
       "      <td>stayed attending itb berlin heating system hot...</td>\n",
       "      <td>0</td>\n",
       "      <td>1</td>\n",
       "      <td>0</td>\n",
       "      <td>0</td>\n",
       "      <td>0</td>\n",
       "    </tr>\n",
       "    <tr>\n",
       "      <th>18538</th>\n",
       "      <td>hotel well located adenauerplatz ku damm reaso...</td>\n",
       "      <td>0</td>\n",
       "      <td>1</td>\n",
       "      <td>0</td>\n",
       "      <td>0</td>\n",
       "      <td>0</td>\n",
       "    </tr>\n",
       "    <tr>\n",
       "      <th>18539</th>\n",
       "      <td>ok want book double room get find twin no apol...</td>\n",
       "      <td>0</td>\n",
       "      <td>1</td>\n",
       "      <td>0</td>\n",
       "      <td>0</td>\n",
       "      <td>0</td>\n",
       "    </tr>\n",
       "  </tbody>\n",
       "</table>\n",
       "<p>18540 rows × 6 columns</p>\n",
       "</div>"
      ],
      "text/plain": [
       "                                                  Review  ...  Rating_5\n",
       "0      ok nothing special charge diamond member hilto...  ...         0\n",
       "1      nice room not experience hotel monaco seattle ...  ...         0\n",
       "2      excellent staff housekeeping quality hotel cho...  ...         0\n",
       "3      poor value stayed monaco seattle july nice hot...  ...         0\n",
       "4      nice hotel not nice staff hotel lovely staff q...  ...         0\n",
       "...                                                  ...  ...       ...\n",
       "18535  dirty hall dirty room nothing work tv didn wor...  ...         0\n",
       "18536  confortable room staff kind available polite g...  ...         1\n",
       "18537  stayed attending itb berlin heating system hot...  ...         0\n",
       "18538  hotel well located adenauerplatz ku damm reaso...  ...         0\n",
       "18539  ok want book double room get find twin no apol...  ...         0\n",
       "\n",
       "[18540 rows x 6 columns]"
      ]
     },
     "execution_count": 18,
     "metadata": {
      "tags": []
     },
     "output_type": "execute_result"
    }
   ],
   "source": [
    "# One hot encode labels\n",
    "df_ohe = pd.get_dummies(df, columns=['Rating'])\n",
    "df_ohe"
   ]
  },
  {
   "cell_type": "code",
   "execution_count": 19,
   "metadata": {
    "executionInfo": {
     "elapsed": 896,
     "status": "ok",
     "timestamp": 1617039242804,
     "user": {
      "displayName": "Don Glover",
      "photoUrl": "",
      "userId": "16302218703465787964"
     },
     "user_tz": -60
    },
    "id": "OkfKFy4lIria"
   },
   "outputs": [],
   "source": [
    "# Split data into training, validation and test\n",
    "X2 = df_ohe.loc[:,['Review']]\n",
    "y2 = np.array(df_ohe.drop('Review', axis=1))\n",
    "\n",
    "# 80% Train, 10% Validation, 10% Test\n",
    "X2_train, X2_test, y2_train, y2_test = train_test_split(X2, y2, test_size=.2, \n",
    "                                                    stratify=y2, random_state=42)\n",
    "\n",
    "X2_val, X2_test, y2_val, y2_test = train_test_split(X2_test, y2_test, test_size=.5, \n",
    "                                                stratify=y2_test, random_state=42)"
   ]
  },
  {
   "cell_type": "code",
   "execution_count": 20,
   "metadata": {
    "executionInfo": {
     "elapsed": 1057,
     "status": "ok",
     "timestamp": 1617039245253,
     "user": {
      "displayName": "Don Glover",
      "photoUrl": "",
      "userId": "16302218703465787964"
     },
     "user_tz": -60
    },
    "id": "9EV_NjSRIvTS"
   },
   "outputs": [],
   "source": [
    "# Join all reviews in training set and split\n",
    "train_words = \" \".join(X2_train['Review'].values).split()"
   ]
  },
  {
   "cell_type": "code",
   "execution_count": 21,
   "metadata": {
    "colab": {
     "base_uri": "https://localhost:8080/"
    },
    "executionInfo": {
     "elapsed": 526,
     "status": "ok",
     "timestamp": 1617039246554,
     "user": {
      "displayName": "Don Glover",
      "photoUrl": "",
      "userId": "16302218703465787964"
     },
     "user_tz": -60
    },
    "id": "yLfUsonvIxre",
    "outputId": "513446de-5909-4849-b1e2-dde1f17022f5",
    "scrolled": true
   },
   "outputs": [
    {
     "data": {
      "text/plain": [
       "1122445"
      ]
     },
     "execution_count": 21,
     "metadata": {
      "tags": []
     },
     "output_type": "execute_result"
    }
   ],
   "source": [
    "# All words\n",
    "len(train_words)"
   ]
  },
  {
   "cell_type": "markdown",
   "metadata": {},
   "source": [
    "We can see that we have a total of 1,122,445 words in our reviews. To extract just the unique words, we can convert the list to a set."
   ]
  },
  {
   "cell_type": "code",
   "execution_count": 22,
   "metadata": {
    "executionInfo": {
     "elapsed": 760,
     "status": "ok",
     "timestamp": 1617039249290,
     "user": {
      "displayName": "Don Glover",
      "photoUrl": "",
      "userId": "16302218703465787964"
     },
     "user_tz": -60
    },
    "id": "Y38_oePTIzL_"
   },
   "outputs": [],
   "source": [
    "# Get all unique words only\n",
    "train_unique = set(train_words)"
   ]
  },
  {
   "cell_type": "code",
   "execution_count": 23,
   "metadata": {
    "colab": {
     "base_uri": "https://localhost:8080/"
    },
    "executionInfo": {
     "elapsed": 783,
     "status": "ok",
     "timestamp": 1617039252864,
     "user": {
      "displayName": "Don Glover",
      "photoUrl": "",
      "userId": "16302218703465787964"
     },
     "user_tz": -60
    },
    "id": "y7lWAOj-I0mv",
    "outputId": "2e353375-d355-4eed-ca7f-ec3c1dd1e570"
   },
   "outputs": [
    {
     "data": {
      "text/plain": [
       "30191"
      ]
     },
     "execution_count": 23,
     "metadata": {
      "tags": []
     },
     "output_type": "execute_result"
    }
   ],
   "source": [
    "# Number of unique words\n",
    "len(train_unique)"
   ]
  },
  {
   "cell_type": "markdown",
   "metadata": {},
   "source": [
    "After extracting just the unique words, we are left with 30,191 words. Now we can assign each unique word a number based on its index within the set."
   ]
  },
  {
   "cell_type": "code",
   "execution_count": 24,
   "metadata": {
    "executionInfo": {
     "elapsed": 864,
     "status": "ok",
     "timestamp": 1617039257696,
     "user": {
      "displayName": "Don Glover",
      "photoUrl": "",
      "userId": "16302218703465787964"
     },
     "user_tz": -60
    },
    "id": "M_luCFfaI2m9"
   },
   "outputs": [],
   "source": [
    "# Factorize all unique words (assign each word a unique number)\n",
    "unique_idx = pd.factorize(list(train_unique))[0]"
   ]
  },
  {
   "cell_type": "code",
   "execution_count": 25,
   "metadata": {
    "colab": {
     "base_uri": "https://localhost:8080/"
    },
    "executionInfo": {
     "elapsed": 677,
     "status": "ok",
     "timestamp": 1617039259276,
     "user": {
      "displayName": "Don Glover",
      "photoUrl": "",
      "userId": "16302218703465787964"
     },
     "user_tz": -60
    },
    "id": "R9-9YyySI4XF",
    "outputId": "e4463538-2a42-41bf-8f8b-592e91866d00"
   },
   "outputs": [
    {
     "data": {
      "text/plain": [
       "[('stazione', 0),\n",
       " ('insider', 1),\n",
       " ('instance', 2),\n",
       " ('minutues', 3),\n",
       " ('reccomendation', 4),\n",
       " ('ml', 5),\n",
       " ('golf', 6),\n",
       " ('beter', 7),\n",
       " ('doubltree', 8),\n",
       " ('dubious', 9)]"
      ]
     },
     "execution_count": 25,
     "metadata": {
      "tags": []
     },
     "output_type": "execute_result"
    }
   ],
   "source": [
    "# Check data\n",
    "list(zip(train_unique, unique_idx))[:10]"
   ]
  },
  {
   "cell_type": "markdown",
   "metadata": {},
   "source": [
    "Let's put each word and its index into a dictionary to make it easier to access."
   ]
  },
  {
   "cell_type": "code",
   "execution_count": 26,
   "metadata": {
    "executionInfo": {
     "elapsed": 625,
     "status": "ok",
     "timestamp": 1617039263842,
     "user": {
      "displayName": "Don Glover",
      "photoUrl": "",
      "userId": "16302218703465787964"
     },
     "user_tz": -60
    },
    "id": "VclCZcznI5zD"
   },
   "outputs": [],
   "source": [
    "# Create dictionary for word and unique number\n",
    "word_idx_zip = zip(train_unique, unique_idx)\n",
    "word_idx = dict((x, y) for x, y in list(word_idx_zip))"
   ]
  },
  {
   "cell_type": "markdown",
   "metadata": {},
   "source": [
    "We will also have to add numbers to our word index to represent empty space and unknown words. In this case, we will shift all dictionary entries by 2 so that we can assign padding an index of 0 and unknown words an index of 1."
   ]
  },
  {
   "cell_type": "code",
   "execution_count": 27,
   "metadata": {
    "executionInfo": {
     "elapsed": 671,
     "status": "ok",
     "timestamp": 1617039266497,
     "user": {
      "displayName": "Don Glover",
      "photoUrl": "",
      "userId": "16302218703465787964"
     },
     "user_tz": -60
    },
    "id": "4m7C-NVuJQSR"
   },
   "outputs": [],
   "source": [
    "# Adding padding and unknown for empty space and unknown words\n",
    "word_idx = {k:(v+2) for k,v in word_idx.items()}\n",
    "word_idx['<PAD>'] = 0\n",
    "word_idx['<UNK>'] = 1"
   ]
  },
  {
   "cell_type": "code",
   "execution_count": 28,
   "metadata": {
    "colab": {
     "base_uri": "https://localhost:8080/"
    },
    "executionInfo": {
     "elapsed": 817,
     "status": "ok",
     "timestamp": 1617039268570,
     "user": {
      "displayName": "Don Glover",
      "photoUrl": "",
      "userId": "16302218703465787964"
     },
     "user_tz": -60
    },
    "id": "GmOwjLefKUWW",
    "outputId": "b4dde2aa-c33d-4443-bdcc-bede020a46f4"
   },
   "outputs": [
    {
     "data": {
      "text/plain": [
       "30193"
      ]
     },
     "execution_count": 28,
     "metadata": {
      "tags": []
     },
     "output_type": "execute_result"
    }
   ],
   "source": [
    "# Check size of dict\n",
    "len(word_idx)"
   ]
  },
  {
   "cell_type": "markdown",
   "metadata": {},
   "source": [
    "With indices for padding and unknown words added, we now have a total of 30,193 unique word representations."
   ]
  },
  {
   "cell_type": "code",
   "execution_count": 29,
   "metadata": {
    "executionInfo": {
     "elapsed": 971,
     "status": "ok",
     "timestamp": 1617039271242,
     "user": {
      "displayName": "Don Glover",
      "photoUrl": "",
      "userId": "16302218703465787964"
     },
     "user_tz": -60
    },
    "id": "k7QoFa2uKaYR"
   },
   "outputs": [],
   "source": [
    "# Suppress SettingWithCopyWarning\n",
    "pd.options.mode.chained_assignment = None"
   ]
  },
  {
   "cell_type": "markdown",
   "metadata": {},
   "source": [
    "We can now apply our word representations to our data."
   ]
  },
  {
   "cell_type": "code",
   "execution_count": 30,
   "metadata": {
    "executionInfo": {
     "elapsed": 1152,
     "status": "ok",
     "timestamp": 1617039276267,
     "user": {
      "displayName": "Don Glover",
      "photoUrl": "",
      "userId": "16302218703465787964"
     },
     "user_tz": -60
    },
    "id": "nx0IfWEuKhSp"
   },
   "outputs": [],
   "source": [
    "# Vectorize reviews in training set\n",
    "X2_train['vect_review'] = X2_train['Review'].str.split().map(\n",
    "    lambda x: [word_idx.get(word, word_idx['<UNK>']) for word in x]\n",
    ")"
   ]
  },
  {
   "cell_type": "code",
   "execution_count": 31,
   "metadata": {
    "colab": {
     "base_uri": "https://localhost:8080/",
     "height": 419
    },
    "executionInfo": {
     "elapsed": 1374,
     "status": "ok",
     "timestamp": 1617039278329,
     "user": {
      "displayName": "Don Glover",
      "photoUrl": "",
      "userId": "16302218703465787964"
     },
     "user_tz": -60
    },
    "id": "SIy4M6XoKibY",
    "outputId": "c4a8b629-5038-40a9-d510-2405dd2e1640"
   },
   "outputs": [
    {
     "data": {
      "text/html": [
       "<div>\n",
       "<style scoped>\n",
       "    .dataframe tbody tr th:only-of-type {\n",
       "        vertical-align: middle;\n",
       "    }\n",
       "\n",
       "    .dataframe tbody tr th {\n",
       "        vertical-align: top;\n",
       "    }\n",
       "\n",
       "    .dataframe thead th {\n",
       "        text-align: right;\n",
       "    }\n",
       "</style>\n",
       "<table border=\"1\" class=\"dataframe\">\n",
       "  <thead>\n",
       "    <tr style=\"text-align: right;\">\n",
       "      <th></th>\n",
       "      <th>Review</th>\n",
       "      <th>vect_review</th>\n",
       "    </tr>\n",
       "  </thead>\n",
       "  <tbody>\n",
       "    <tr>\n",
       "      <th>11117</th>\n",
       "      <td>stayed night last minute stop parking limited ...</td>\n",
       "      <td>[16880, 12633, 28781, 1379, 29844, 15201, 1693...</td>\n",
       "    </tr>\n",
       "    <tr>\n",
       "      <th>17749</th>\n",
       "      <td>hostel not used longer stay maybe young people...</td>\n",
       "      <td>[25530, 13678, 27328, 10648, 19635, 21370, 442...</td>\n",
       "    </tr>\n",
       "    <tr>\n",
       "      <th>9253</th>\n",
       "      <td>stayed night moment went room perfect clean mo...</td>\n",
       "      <td>[16880, 12633, 21939, 21267, 22483, 13670, 415...</td>\n",
       "    </tr>\n",
       "    <tr>\n",
       "      <th>9986</th>\n",
       "      <td>nice hotel nice architecture right river thame...</td>\n",
       "      <td>[19409, 20273, 19409, 6713, 15751, 340, 28450,...</td>\n",
       "    </tr>\n",
       "    <tr>\n",
       "      <th>17853</th>\n",
       "      <td>first arrive check time room isn ready hour la...</td>\n",
       "      <td>[8222, 18185, 22537, 13000, 22483, 7640, 12528...</td>\n",
       "    </tr>\n",
       "    <tr>\n",
       "      <th>...</th>\n",
       "      <td>...</td>\n",
       "      <td>...</td>\n",
       "    </tr>\n",
       "    <tr>\n",
       "      <th>95</th>\n",
       "      <td>great location reservation mixup great hotel s...</td>\n",
       "      <td>[16158, 25801, 4439, 10610, 16158, 20273, 3177...</td>\n",
       "    </tr>\n",
       "    <tr>\n",
       "      <th>15433</th>\n",
       "      <td>location really great near metro station marke...</td>\n",
       "      <td>[25801, 23252, 16158, 16193, 25371, 21910, 263...</td>\n",
       "    </tr>\n",
       "    <tr>\n",
       "      <th>7513</th>\n",
       "      <td>very basic small single bed called double no s...</td>\n",
       "      <td>[11735, 15424, 28368, 1737, 28028, 10071, 2469...</td>\n",
       "    </tr>\n",
       "    <tr>\n",
       "      <th>12423</th>\n",
       "      <td>needed hotel stay only london day recommended ...</td>\n",
       "      <td>[10771, 20273, 19635, 23365, 16355, 3777, 2536...</td>\n",
       "    </tr>\n",
       "    <tr>\n",
       "      <th>16809</th>\n",
       "      <td>fairly modern one bedroom apartment hotel faci...</td>\n",
       "      <td>[29610, 19099, 18567, 10630, 491, 20273, 25791...</td>\n",
       "    </tr>\n",
       "  </tbody>\n",
       "</table>\n",
       "<p>14832 rows × 2 columns</p>\n",
       "</div>"
      ],
      "text/plain": [
       "                                                  Review                                        vect_review\n",
       "11117  stayed night last minute stop parking limited ...  [16880, 12633, 28781, 1379, 29844, 15201, 1693...\n",
       "17749  hostel not used longer stay maybe young people...  [25530, 13678, 27328, 10648, 19635, 21370, 442...\n",
       "9253   stayed night moment went room perfect clean mo...  [16880, 12633, 21939, 21267, 22483, 13670, 415...\n",
       "9986   nice hotel nice architecture right river thame...  [19409, 20273, 19409, 6713, 15751, 340, 28450,...\n",
       "17853  first arrive check time room isn ready hour la...  [8222, 18185, 22537, 13000, 22483, 7640, 12528...\n",
       "...                                                  ...                                                ...\n",
       "95     great location reservation mixup great hotel s...  [16158, 25801, 4439, 10610, 16158, 20273, 3177...\n",
       "15433  location really great near metro station marke...  [25801, 23252, 16158, 16193, 25371, 21910, 263...\n",
       "7513   very basic small single bed called double no s...  [11735, 15424, 28368, 1737, 28028, 10071, 2469...\n",
       "12423  needed hotel stay only london day recommended ...  [10771, 20273, 19635, 23365, 16355, 3777, 2536...\n",
       "16809  fairly modern one bedroom apartment hotel faci...  [29610, 19099, 18567, 10630, 491, 20273, 25791...\n",
       "\n",
       "[14832 rows x 2 columns]"
      ]
     },
     "execution_count": 31,
     "metadata": {
      "tags": []
     },
     "output_type": "execute_result"
    }
   ],
   "source": [
    "# Check data\n",
    "X2_train"
   ]
  },
  {
   "cell_type": "code",
   "execution_count": 32,
   "metadata": {
    "executionInfo": {
     "elapsed": 564,
     "status": "ok",
     "timestamp": 1617039282776,
     "user": {
      "displayName": "Don Glover",
      "photoUrl": "",
      "userId": "16302218703465787964"
     },
     "user_tz": -60
    },
    "id": "KEaGu_tFKui-"
   },
   "outputs": [],
   "source": [
    "# Vectorize reviews in validation set\n",
    "X2_val['vect_review'] = X2_val['Review'].str.split().map(\n",
    "    lambda x: [word_idx.get(word, word_idx['<UNK>']) for word in x]\n",
    ")"
   ]
  },
  {
   "cell_type": "code",
   "execution_count": 33,
   "metadata": {
    "colab": {
     "base_uri": "https://localhost:8080/",
     "height": 419
    },
    "executionInfo": {
     "elapsed": 790,
     "status": "ok",
     "timestamp": 1617039285000,
     "user": {
      "displayName": "Don Glover",
      "photoUrl": "",
      "userId": "16302218703465787964"
     },
     "user_tz": -60
    },
    "id": "SH6KtLh1K4o0",
    "outputId": "bf4f51de-7cac-4425-ea0a-b13a90a627f7"
   },
   "outputs": [
    {
     "data": {
      "text/html": [
       "<div>\n",
       "<style scoped>\n",
       "    .dataframe tbody tr th:only-of-type {\n",
       "        vertical-align: middle;\n",
       "    }\n",
       "\n",
       "    .dataframe tbody tr th {\n",
       "        vertical-align: top;\n",
       "    }\n",
       "\n",
       "    .dataframe thead th {\n",
       "        text-align: right;\n",
       "    }\n",
       "</style>\n",
       "<table border=\"1\" class=\"dataframe\">\n",
       "  <thead>\n",
       "    <tr style=\"text-align: right;\">\n",
       "      <th></th>\n",
       "      <th>Review</th>\n",
       "      <th>vect_review</th>\n",
       "    </tr>\n",
       "  </thead>\n",
       "  <tbody>\n",
       "    <tr>\n",
       "      <th>15471</th>\n",
       "      <td>friend stayed three night called hotel simply ...</td>\n",
       "      <td>[24036, 16880, 25727, 12633, 10071, 20273, 160...</td>\n",
       "    </tr>\n",
       "    <tr>\n",
       "      <th>12316</th>\n",
       "      <td>experience good room rather small basically no...</td>\n",
       "      <td>[13783, 19918, 22483, 13539, 28368, 18525, 112...</td>\n",
       "    </tr>\n",
       "    <tr>\n",
       "      <th>10604</th>\n",
       "      <td>got very worst hotel ever stayed value disgrac...</td>\n",
       "      <td>[11688, 11735, 24946, 20273, 12930, 16880, 126...</td>\n",
       "    </tr>\n",
       "    <tr>\n",
       "      <th>15457</th>\n",
       "      <td>one major negative aspect hotel wifi not free ...</td>\n",
       "      <td>[18567, 24654, 24113, 28173, 20273, 7625, 1367...</td>\n",
       "    </tr>\n",
       "    <tr>\n",
       "      <th>10227</th>\n",
       "      <td>hotel fraud booked room holiday one day move r...</td>\n",
       "      <td>[20273, 26494, 1768, 22483, 16302, 18567, 3777...</td>\n",
       "    </tr>\n",
       "    <tr>\n",
       "      <th>...</th>\n",
       "      <td>...</td>\n",
       "      <td>...</td>\n",
       "    </tr>\n",
       "    <tr>\n",
       "      <th>2713</th>\n",
       "      <td>not recommended stayed labor day weekend paid ...</td>\n",
       "      <td>[13678, 25363, 16880, 2302, 3777, 7807, 1410, ...</td>\n",
       "    </tr>\n",
       "    <tr>\n",
       "      <th>7572</th>\n",
       "      <td>room very small staff make not telling truth f...</td>\n",
       "      <td>[22483, 11735, 28368, 13209, 15297, 13678, 656...</td>\n",
       "    </tr>\n",
       "    <tr>\n",
       "      <th>5899</th>\n",
       "      <td>good location stayed night ginza tsukiji fish ...</td>\n",
       "      <td>[19918, 25801, 16880, 12633, 28981, 4612, 2966...</td>\n",
       "    </tr>\n",
       "    <tr>\n",
       "      <th>8969</th>\n",
       "      <td>want bed night premier always reliable first t...</td>\n",
       "      <td>[15316, 28028, 12633, 13914, 717, 22407, 8222,...</td>\n",
       "    </tr>\n",
       "    <tr>\n",
       "      <th>14904</th>\n",
       "      <td>great location nice hotel only thing not expec...</td>\n",
       "      <td>[16158, 25801, 19409, 20273, 23365, 29416, 136...</td>\n",
       "    </tr>\n",
       "  </tbody>\n",
       "</table>\n",
       "<p>1854 rows × 2 columns</p>\n",
       "</div>"
      ],
      "text/plain": [
       "                                                  Review                                        vect_review\n",
       "15471  friend stayed three night called hotel simply ...  [24036, 16880, 25727, 12633, 10071, 20273, 160...\n",
       "12316  experience good room rather small basically no...  [13783, 19918, 22483, 13539, 28368, 18525, 112...\n",
       "10604  got very worst hotel ever stayed value disgrac...  [11688, 11735, 24946, 20273, 12930, 16880, 126...\n",
       "15457  one major negative aspect hotel wifi not free ...  [18567, 24654, 24113, 28173, 20273, 7625, 1367...\n",
       "10227  hotel fraud booked room holiday one day move r...  [20273, 26494, 1768, 22483, 16302, 18567, 3777...\n",
       "...                                                  ...                                                ...\n",
       "2713   not recommended stayed labor day weekend paid ...  [13678, 25363, 16880, 2302, 3777, 7807, 1410, ...\n",
       "7572   room very small staff make not telling truth f...  [22483, 11735, 28368, 13209, 15297, 13678, 656...\n",
       "5899   good location stayed night ginza tsukiji fish ...  [19918, 25801, 16880, 12633, 28981, 4612, 2966...\n",
       "8969   want bed night premier always reliable first t...  [15316, 28028, 12633, 13914, 717, 22407, 8222,...\n",
       "14904  great location nice hotel only thing not expec...  [16158, 25801, 19409, 20273, 23365, 29416, 136...\n",
       "\n",
       "[1854 rows x 2 columns]"
      ]
     },
     "execution_count": 33,
     "metadata": {
      "tags": []
     },
     "output_type": "execute_result"
    }
   ],
   "source": [
    "# Check data\n",
    "X2_val"
   ]
  },
  {
   "cell_type": "code",
   "execution_count": 34,
   "metadata": {
    "executionInfo": {
     "elapsed": 801,
     "status": "ok",
     "timestamp": 1617039288721,
     "user": {
      "displayName": "Don Glover",
      "photoUrl": "",
      "userId": "16302218703465787964"
     },
     "user_tz": -60
    },
    "id": "SArft7i64if1"
   },
   "outputs": [],
   "source": [
    "# Vectorize reviews in test set\n",
    "X2_test['vect_review'] = X2_test['Review'].str.split().map(\n",
    "    lambda x: [word_idx.get(word, word_idx['<UNK>']) for word in x]\n",
    ")"
   ]
  },
  {
   "cell_type": "markdown",
   "metadata": {},
   "source": [
    "Next, we will set our max length to be 200 and add padding."
   ]
  },
  {
   "cell_type": "code",
   "execution_count": 35,
   "metadata": {
    "executionInfo": {
     "elapsed": 973,
     "status": "ok",
     "timestamp": 1617039297624,
     "user": {
      "displayName": "Don Glover",
      "photoUrl": "",
      "userId": "16302218703465787964"
     },
     "user_tz": -60
    },
    "id": "XC-BsXZlLDzf"
   },
   "outputs": [],
   "source": [
    "# Add padding to reviews and cap length\n",
    "X2_train = sequence.pad_sequences(\n",
    "    X2_train['vect_review'], value=word_idx['<PAD>'], padding='post', maxlen=200\n",
    ")\n",
    "\n",
    "X2_val = sequence.pad_sequences(\n",
    "    X2_val['vect_review'], value=word_idx['<PAD>'], padding='post', maxlen=200\n",
    ")\n",
    "\n",
    "X2_test = sequence.pad_sequences(\n",
    "    X2_test['vect_review'], value=word_idx['<PAD>'], padding='post', maxlen=200\n",
    ")"
   ]
  },
  {
   "cell_type": "code",
   "execution_count": 36,
   "metadata": {
    "colab": {
     "base_uri": "https://localhost:8080/"
    },
    "executionInfo": {
     "elapsed": 854,
     "status": "ok",
     "timestamp": 1617039300408,
     "user": {
      "displayName": "Don Glover",
      "photoUrl": "",
      "userId": "16302218703465787964"
     },
     "user_tz": -60
    },
    "id": "zlcs10i5Ld7t",
    "outputId": "158af662-03f8-4549-e7ed-e91eac565c26"
   },
   "outputs": [
    {
     "data": {
      "text/plain": [
       "array([ 6133, 20270,  1054, 12633,  4798, 20273, 19448, 23502, 13482,\n",
       "        7517,  1054, 12633,  2011, 28384, 25279, 16962,  2459, 28544,\n",
       "       19131, 12351, 21910, 17247, 13823, 10690, 22483, 21242,   346,\n",
       "       17084, 21276, 12633, 13357, 24695, 28028,  1737, 28028, 21709,\n",
       "        8010, 23365,  1054, 24463,  7153,  5253,  3722, 22483, 13539,\n",
       "        7615,  1768, 22483, 22483, 26266, 13678, 23365, 19118, 25399,\n",
       "       22483, 15221, 28028,  4677, 22483,  5824,  6747,  2408,  8538,\n",
       "        7527, 25399, 22483, 23365,  1054, 28028, 25019, 24715, 12659,\n",
       "       24975,   981, 16163, 30108,  6747,  2408, 10205, 10686,  2393,\n",
       "       16522, 20010,  6371, 15221, 28028, 23365, 18567,  3701, 21053,\n",
       "       23511, 22483, 26357, 23293, 26766, 22483, 24695, 28028, 29750,\n",
       "       20273,  6126, 17959,  3239, 22483, 19847,  8966, 22483,  2332,\n",
       "       27004,  2578, 25367, 22177, 17245, 14485, 26761, 21223, 21820,\n",
       "        2543, 24129,  5913,  7841, 25367, 23365,  1737,  7885, 24770,\n",
       "        4011, 28522,  5920,  1910, 24252, 20273, 21018, 11497, 16460,\n",
       "       11279,   944,     0,     0,     0,     0,     0,     0,     0,\n",
       "           0,     0,     0,     0,     0,     0,     0,     0,     0,\n",
       "           0,     0,     0,     0,     0,     0,     0,     0,     0,\n",
       "           0,     0,     0,     0,     0,     0,     0,     0,     0,\n",
       "           0,     0,     0,     0,     0,     0,     0,     0,     0,\n",
       "           0,     0,     0,     0,     0,     0,     0,     0,     0,\n",
       "           0,     0,     0,     0,     0,     0,     0,     0,     0,\n",
       "           0,     0], dtype=int32)"
      ]
     },
     "execution_count": 36,
     "metadata": {
      "tags": []
     },
     "output_type": "execute_result"
    }
   ],
   "source": [
    "# Example\n",
    "X2_train[9]"
   ]
  },
  {
   "cell_type": "markdown",
   "metadata": {},
   "source": [
    "Above is an example of what one of our reviews now looks like. Each number above 1 represents a word. A value of 0 represents empty space and a value of 1 represents an unknown word i.e. a word that has not been seen in the training data. As this review is from the training data, it will not contain the number 1."
   ]
  },
  {
   "cell_type": "markdown",
   "metadata": {},
   "source": [
    "In this model architecture, we will use an embedding input layer. We will then pool the features using a global average pooling layer before feeding them into a fully connected layer."
   ]
  },
  {
   "cell_type": "code",
   "execution_count": 37,
   "metadata": {
    "executionInfo": {
     "elapsed": 588,
     "status": "ok",
     "timestamp": 1617039304698,
     "user": {
      "displayName": "Don Glover",
      "photoUrl": "",
      "userId": "16302218703465787964"
     },
     "user_tz": -60
    },
    "id": "odKBKhSuNIwJ"
   },
   "outputs": [],
   "source": [
    "# Build model architecture\n",
    "model_2 = Sequential()\n",
    "model_2.add(Embedding(len(word_idx), 32))\n",
    "model_2.add(GlobalAveragePooling1D())\n",
    "model_2.add(Dense(32, activation='relu'))\n",
    "model_2.add(Dense(5, activation='sigmoid'))"
   ]
  },
  {
   "cell_type": "code",
   "execution_count": 38,
   "metadata": {
    "colab": {
     "base_uri": "https://localhost:8080/"
    },
    "executionInfo": {
     "elapsed": 986,
     "status": "ok",
     "timestamp": 1617039308399,
     "user": {
      "displayName": "Don Glover",
      "photoUrl": "",
      "userId": "16302218703465787964"
     },
     "user_tz": -60
    },
    "id": "Rk-uG8wxNRsS",
    "outputId": "8f015795-d8d9-4c01-c949-f73b2c857e7a"
   },
   "outputs": [
    {
     "name": "stdout",
     "output_type": "stream",
     "text": [
      "Model: \"sequential_1\"\n",
      "_________________________________________________________________\n",
      "Layer (type)                 Output Shape              Param #   \n",
      "=================================================================\n",
      "embedding (Embedding)        (None, None, 32)          966176    \n",
      "_________________________________________________________________\n",
      "global_average_pooling1d (Gl (None, 32)                0         \n",
      "_________________________________________________________________\n",
      "dense_4 (Dense)              (None, 32)                1056      \n",
      "_________________________________________________________________\n",
      "dense_5 (Dense)              (None, 5)                 165       \n",
      "=================================================================\n",
      "Total params: 967,397\n",
      "Trainable params: 967,397\n",
      "Non-trainable params: 0\n",
      "_________________________________________________________________\n"
     ]
    }
   ],
   "source": [
    "# View model summary\n",
    "model_2.summary()"
   ]
  },
  {
   "cell_type": "code",
   "execution_count": 39,
   "metadata": {
    "executionInfo": {
     "elapsed": 1200,
     "status": "ok",
     "timestamp": 1617039312387,
     "user": {
      "displayName": "Don Glover",
      "photoUrl": "",
      "userId": "16302218703465787964"
     },
     "user_tz": -60
    },
    "id": "1ddRTggsNTwd"
   },
   "outputs": [],
   "source": [
    "# Compile model\n",
    "model_2.compile(optimizer='adam', loss='binary_crossentropy', metrics=['accuracy'])"
   ]
  },
  {
   "cell_type": "code",
   "execution_count": 40,
   "metadata": {
    "executionInfo": {
     "elapsed": 27041,
     "status": "ok",
     "timestamp": 1617039375053,
     "user": {
      "displayName": "Don Glover",
      "photoUrl": "",
      "userId": "16302218703465787964"
     },
     "user_tz": -60
    },
    "id": "Q-2zJsakOL9D"
   },
   "outputs": [],
   "source": [
    "# Callback for early stopping\n",
    "early_stopping = EarlyStopping(monitor='val_loss', patience=5)\n",
    "\n",
    "# Fit model\n",
    "epochs = 50\n",
    "history_2 = model_2.fit(\n",
    "    X2_train, y2_train, batch_size=250, epochs=epochs, validation_data=(X2_val, y2_val), \n",
    "    callbacks=[early_stopping], verbose=0\n",
    ")"
   ]
  },
  {
   "cell_type": "code",
   "execution_count": 41,
   "metadata": {
    "colab": {
     "base_uri": "https://localhost:8080/",
     "height": 350
    },
    "executionInfo": {
     "elapsed": 1460,
     "status": "ok",
     "timestamp": 1617039385540,
     "user": {
      "displayName": "Don Glover",
      "photoUrl": "",
      "userId": "16302218703465787964"
     },
     "user_tz": -60
    },
    "id": "GdnQvYa_ObBG",
    "outputId": "b4e046d1-44b0-4525-fae1-f60653ecc717"
   },
   "outputs": [
    {
     "data": {
      "image/png": "[encoded data removed]",
      "text/plain": [
       "<Figure size 1080x360 with 2 Axes>"
      ]
     },
     "metadata": {
      "needs_background": "light",
      "tags": []
     },
     "output_type": "display_data"
    }
   ],
   "source": [
    "# Plot accuracy and loss\n",
    "last_epoch = early_stopping.stopped_epoch\n",
    "acc_loss_plot(history_2, last_epoch)"
   ]
  },
  {
   "cell_type": "markdown",
   "metadata": {},
   "source": [
    "We can see that this model performed slighlty better than our initial neural network. The training and validation loss stays together for longer before it starts to diverge at around epoch 12. Accuracy also starts to plateau again around 0.6."
   ]
  },
  {
   "cell_type": "code",
   "execution_count": 42,
   "metadata": {
    "colab": {
     "base_uri": "https://localhost:8080/"
    },
    "executionInfo": {
     "elapsed": 939,
     "status": "ok",
     "timestamp": 1617039389874,
     "user": {
      "displayName": "Don Glover",
      "photoUrl": "",
      "userId": "16302218703465787964"
     },
     "user_tz": -60
    },
    "id": "Df-xPJlAObuU",
    "outputId": "b6298b76-8504-4cfc-bfb3-2c5c11dd778f"
   },
   "outputs": [
    {
     "name": "stdout",
     "output_type": "stream",
     "text": [
      "58/58 [==============================] - 0s 3ms/step - loss: 0.3326 - accuracy: 0.5917\n"
     ]
    },
    {
     "data": {
      "text/plain": [
       "0.591693639755249"
      ]
     },
     "execution_count": 42,
     "metadata": {
      "tags": []
     },
     "output_type": "execute_result"
    }
   ],
   "source": [
    "# Evaluate model on validation set\n",
    "model_2.evaluate(X2_val, y2_val)[1]"
   ]
  },
  {
   "cell_type": "code",
   "execution_count": 43,
   "metadata": {
    "colab": {
     "base_uri": "https://localhost:8080/"
    },
    "executionInfo": {
     "elapsed": 776,
     "status": "ok",
     "timestamp": 1617039393422,
     "user": {
      "displayName": "Don Glover",
      "photoUrl": "",
      "userId": "16302218703465787964"
     },
     "user_tz": -60
    },
    "id": "jH7pz3sBOdHo",
    "outputId": "e34aa3ce-fac6-484d-f7ab-f2540e3a321a"
   },
   "outputs": [
    {
     "name": "stdout",
     "output_type": "stream",
     "text": [
      "58/58 [==============================] - 0s 3ms/step - loss: 0.3423 - accuracy: 0.5895\n"
     ]
    },
    {
     "data": {
      "text/plain": [
       "0.5895361304283142"
      ]
     },
     "execution_count": 43,
     "metadata": {
      "tags": []
     },
     "output_type": "execute_result"
    }
   ],
   "source": [
    "# Evaluate model on test set\n",
    "model_2_accuracy = model_2.evaluate(X2_test, y2_test)[1]\n",
    "model_2_accuracy"
   ]
  },
  {
   "cell_type": "markdown",
   "metadata": {},
   "source": [
    "Test accuracy for this model is marginally better than our first neural network model."
   ]
  },
  {
   "cell_type": "code",
   "execution_count": 44,
   "metadata": {
    "executionInfo": {
     "elapsed": 2089,
     "status": "ok",
     "timestamp": 1617039401162,
     "user": {
      "displayName": "Don Glover",
      "photoUrl": "",
      "userId": "16302218703465787964"
     },
     "user_tz": -60
    },
    "id": "TyxVGV3WYpcT"
   },
   "outputs": [],
   "source": [
    "# Save model 2\n",
    "model_2.save('drive/MyDrive/models/nn_model_2.h5')"
   ]
  },
  {
   "cell_type": "markdown",
   "metadata": {
    "id": "zoogbIn8O0aS"
   },
   "source": [
    "<a id=\"model_3\"></a>\n",
    "## 4. Neural Network Model 3 - Convolutional\n",
    "---"
   ]
  },
  {
   "cell_type": "markdown",
   "metadata": {},
   "source": [
    "For our final neural network model, we will use an architecture that uses a convolutional layer to extract features. For this model, we can use the same training, validation and test data that we used for the previous model."
   ]
  },
  {
   "cell_type": "code",
   "execution_count": 45,
   "metadata": {
    "executionInfo": {
     "elapsed": 827,
     "status": "ok",
     "timestamp": 1617039407038,
     "user": {
      "displayName": "Don Glover",
      "photoUrl": "",
      "userId": "16302218703465787964"
     },
     "user_tz": -60
    },
    "id": "dbzxJThRPY8M"
   },
   "outputs": [],
   "source": [
    "# Build convolutional model architecture\n",
    "model_3 = Sequential()\n",
    "model_3.add(Embedding(len(word_idx), 32))\n",
    "model_3.add(Conv1D(128, 5, activation='relu'))\n",
    "model_3.add(GlobalAveragePooling1D())\n",
    "model_3.add(Dense(10, activation='relu'))\n",
    "model_3.add(Dense(5, activation='sigmoid'))"
   ]
  },
  {
   "cell_type": "code",
   "execution_count": 46,
   "metadata": {
    "executionInfo": {
     "elapsed": 1139,
     "status": "ok",
     "timestamp": 1617039409166,
     "user": {
      "displayName": "Don Glover",
      "photoUrl": "",
      "userId": "16302218703465787964"
     },
     "user_tz": -60
    },
    "id": "48zxl5Q7PE8i"
   },
   "outputs": [],
   "source": [
    "# Compile model\n",
    "model_3.compile(optimizer='adam', loss='binary_crossentropy', metrics=['accuracy'])"
   ]
  },
  {
   "cell_type": "code",
   "execution_count": 47,
   "metadata": {
    "colab": {
     "base_uri": "https://localhost:8080/"
    },
    "executionInfo": {
     "elapsed": 721,
     "status": "ok",
     "timestamp": 1617039414056,
     "user": {
      "displayName": "Don Glover",
      "photoUrl": "",
      "userId": "16302218703465787964"
     },
     "user_tz": -60
    },
    "id": "pmki8GNkPy0_",
    "outputId": "2dbc6adf-2fca-4829-b155-5c53b969b49a"
   },
   "outputs": [
    {
     "name": "stdout",
     "output_type": "stream",
     "text": [
      "Model: \"sequential_2\"\n",
      "_________________________________________________________________\n",
      "Layer (type)                 Output Shape              Param #   \n",
      "=================================================================\n",
      "embedding_1 (Embedding)      (None, None, 32)          966176    \n",
      "_________________________________________________________________\n",
      "conv1d (Conv1D)              (None, None, 128)         20608     \n",
      "_________________________________________________________________\n",
      "global_average_pooling1d_1 ( (None, 128)               0         \n",
      "_________________________________________________________________\n",
      "dense_6 (Dense)              (None, 10)                1290      \n",
      "_________________________________________________________________\n",
      "dense_7 (Dense)              (None, 5)                 55        \n",
      "=================================================================\n",
      "Total params: 988,129\n",
      "Trainable params: 988,129\n",
      "Non-trainable params: 0\n",
      "_________________________________________________________________\n"
     ]
    }
   ],
   "source": [
    "# Model summary\n",
    "model_3.summary()"
   ]
  },
  {
   "cell_type": "code",
   "execution_count": 48,
   "metadata": {
    "executionInfo": {
     "elapsed": 31962,
     "status": "ok",
     "timestamp": 1617039450010,
     "user": {
      "displayName": "Don Glover",
      "photoUrl": "",
      "userId": "16302218703465787964"
     },
     "user_tz": -60
    },
    "id": "5pi0RNt6Sfum"
   },
   "outputs": [],
   "source": [
    "# Fit model\n",
    "epochs = 50\n",
    "history_3 = model_3.fit(\n",
    "    X2_train, y2_train, batch_size=250, epochs=epochs, validation_data=(X2_val, y2_val), \n",
    "    callbacks=[early_stopping], verbose=0\n",
    ")"
   ]
  },
  {
   "cell_type": "code",
   "execution_count": 49,
   "metadata": {
    "colab": {
     "base_uri": "https://localhost:8080/",
     "height": 350
    },
    "executionInfo": {
     "elapsed": 1454,
     "status": "ok",
     "timestamp": 1617039455350,
     "user": {
      "displayName": "Don Glover",
      "photoUrl": "",
      "userId": "16302218703465787964"
     },
     "user_tz": -60
    },
    "id": "zCiQ3H7_Ug0x",
    "outputId": "eacb488e-50a1-4d38-bb5a-53bb2517b7f6"
   },
   "outputs": [
    {
     "data": {
      "image/png": "[encoded data removed]",
      "text/plain": [
       "<Figure size 1080x360 with 2 Axes>"
      ]
     },
     "metadata": {
      "needs_background": "light",
      "tags": []
     },
     "output_type": "display_data"
    }
   ],
   "source": [
    "# Plot accuracy and loss\n",
    "last_epoch = early_stopping.stopped_epoch\n",
    "acc_loss_plot(history_3, last_epoch)"
   ]
  },
  {
   "cell_type": "markdown",
   "metadata": {},
   "source": [
    "Again, we see very similar results with validation loss starting to increase around epoch 6 and validation accuracy plateauing between 0.5 and 0.6."
   ]
  },
  {
   "cell_type": "code",
   "execution_count": 50,
   "metadata": {
    "colab": {
     "base_uri": "https://localhost:8080/"
    },
    "executionInfo": {
     "elapsed": 1391,
     "status": "ok",
     "timestamp": 1617039460246,
     "user": {
      "displayName": "Don Glover",
      "photoUrl": "",
      "userId": "16302218703465787964"
     },
     "user_tz": -60
    },
    "id": "8VaV4TQ0Sqc7",
    "outputId": "83c9f3f9-75e7-47d0-b0ae-f7c9e9ee195f"
   },
   "outputs": [
    {
     "name": "stdout",
     "output_type": "stream",
     "text": [
      "58/58 [==============================] - 1s 7ms/step - loss: 0.3733 - accuracy: 0.5523\n"
     ]
    },
    {
     "data": {
      "text/plain": [
       "0.5523192882537842"
      ]
     },
     "execution_count": 50,
     "metadata": {
      "tags": []
     },
     "output_type": "execute_result"
    }
   ],
   "source": [
    "# Evaluate model on validation set\n",
    "model_3.evaluate(X2_val, y2_val)[1]"
   ]
  },
  {
   "cell_type": "code",
   "execution_count": 51,
   "metadata": {
    "colab": {
     "base_uri": "https://localhost:8080/"
    },
    "executionInfo": {
     "elapsed": 1231,
     "status": "ok",
     "timestamp": 1617039462838,
     "user": {
      "displayName": "Don Glover",
      "photoUrl": "",
      "userId": "16302218703465787964"
     },
     "user_tz": -60
    },
    "id": "PPGfeUGoUYEm",
    "outputId": "0df7147d-03f2-47f5-9c9b-c6dca3b4b139"
   },
   "outputs": [
    {
     "name": "stdout",
     "output_type": "stream",
     "text": [
      "58/58 [==============================] - 0s 3ms/step - loss: 0.3863 - accuracy: 0.5518\n"
     ]
    },
    {
     "data": {
      "text/plain": [
       "0.5517799258232117"
      ]
     },
     "execution_count": 51,
     "metadata": {
      "tags": []
     },
     "output_type": "execute_result"
    }
   ],
   "source": [
    "# Evaluate model on test set\n",
    "model_3_accuracy = model_3.evaluate(X2_test, y2_test)[1]\n",
    "model_3_accuracy"
   ]
  },
  {
   "cell_type": "markdown",
   "metadata": {},
   "source": [
    "As we can see, this model performed the worst out of all of our neural network models."
   ]
  },
  {
   "cell_type": "code",
   "execution_count": 52,
   "metadata": {
    "executionInfo": {
     "elapsed": 2014,
     "status": "ok",
     "timestamp": 1617039468139,
     "user": {
      "displayName": "Don Glover",
      "photoUrl": "",
      "userId": "16302218703465787964"
     },
     "user_tz": -60
    },
    "id": "FT525AwnZDk2"
   },
   "outputs": [],
   "source": [
    "# Save model 3\n",
    "model_3.save('drive/MyDrive/models/nn_model_3.h5')"
   ]
  },
  {
   "cell_type": "markdown",
   "metadata": {
    "id": "ddkIQvKfgCY8"
   },
   "source": [
    "<a id=\"best_nn_model\"></a>\n",
    "## 5. Evaluate Best Neural Network Model\n",
    "---"
   ]
  },
  {
   "cell_type": "markdown",
   "metadata": {},
   "source": [
    "Now let's take the model that performed the best and use it to predict our test set. This will help us to get a better idea of the model's actual performance if it were to be productionized. In this instance, the best model was model 2, the model with the embedding input layer."
   ]
  },
  {
   "cell_type": "code",
   "execution_count": 53,
   "metadata": {
    "executionInfo": {
     "elapsed": 650,
     "status": "ok",
     "timestamp": 1617039470602,
     "user": {
      "displayName": "Don Glover",
      "photoUrl": "",
      "userId": "16302218703465787964"
     },
     "user_tz": -60
    },
    "id": "1IFwEP53ZHeP"
   },
   "outputs": [],
   "source": [
    "# Select best model\n",
    "best_model = model_2"
   ]
  },
  {
   "cell_type": "markdown",
   "metadata": {},
   "source": [
    "Here, we will reverse one hot encode our test labels and add 1 so that they fall within the range of 1-5."
   ]
  },
  {
   "cell_type": "code",
   "execution_count": 54,
   "metadata": {
    "executionInfo": {
     "elapsed": 765,
     "status": "ok",
     "timestamp": 1617039478290,
     "user": {
      "displayName": "Don Glover",
      "photoUrl": "",
      "userId": "16302218703465787964"
     },
     "user_tz": -60
    },
    "id": "0wDVXsVjhOVp"
   },
   "outputs": [],
   "source": [
    "# Reverse one hot encode labels\n",
    "y_test_rohe = np.argmax(y2_test, axis=1)+1 # For an array"
   ]
  },
  {
   "cell_type": "markdown",
   "metadata": {},
   "source": [
    "We can also add 1 to our predictions to put them on the same scale (between 1 and 5)."
   ]
  },
  {
   "cell_type": "code",
   "execution_count": 55,
   "metadata": {
    "executionInfo": {
     "elapsed": 542,
     "status": "ok",
     "timestamp": 1617039481154,
     "user": {
      "displayName": "Don Glover",
      "photoUrl": "",
      "userId": "16302218703465787964"
     },
     "user_tz": -60
    },
    "id": "KvfhpuJsi--u"
   },
   "outputs": [],
   "source": [
    "# Make predictions with best neural network model\n",
    "y_test_preds = np.argmax(best_model.predict(X2_test), axis=1)+1"
   ]
  },
  {
   "cell_type": "code",
   "execution_count": 56,
   "metadata": {
    "executionInfo": {
     "elapsed": 1154,
     "status": "ok",
     "timestamp": 1617039484728,
     "user": {
      "displayName": "Don Glover",
      "photoUrl": "",
      "userId": "16302218703465787964"
     },
     "user_tz": -60
    },
    "id": "1XewP3jssEZn"
   },
   "outputs": [],
   "source": [
    "# Get best model's final accuracy on test set\n",
    "model_accuracy = accuracy_score(y_test_rohe, y_test_preds)"
   ]
  },
  {
   "cell_type": "code",
   "execution_count": 57,
   "metadata": {
    "colab": {
     "base_uri": "https://localhost:8080/",
     "height": 310
    },
    "executionInfo": {
     "elapsed": 1312,
     "status": "ok",
     "timestamp": 1617039488755,
     "user": {
      "displayName": "Don Glover",
      "photoUrl": "",
      "userId": "16302218703465787964"
     },
     "user_tz": -60
    },
    "id": "DdJsirWDjapR",
    "outputId": "1a24332b-8912-415a-9cac-4a9165a93fc6"
   },
   "outputs": [
    {
     "data": {
      "image/png": "[encoded data removed]",
      "text/plain": [
       "<Figure size 432x288 with 2 Axes>"
      ]
     },
     "metadata": {
      "needs_background": "light",
      "tags": []
     },
     "output_type": "display_data"
    }
   ],
   "source": [
    "# Plot confusion matrix for best neural network model\n",
    "cm = confusion_matrix(y_test_rohe, y_test_preds)\n",
    "disp = ConfusionMatrixDisplay(cm, display_labels=class_names)\n",
    "disp.plot(values_format='d')\n",
    "disp.ax_.set_title(f'Best Neural Network\\nAccuracy: {model_accuracy:.3f}', fontweight='bold');"
   ]
  },
  {
   "cell_type": "markdown",
   "metadata": {},
   "source": [
    "We can see that the model performs reasonably well but still does not beat the accuracy that we achieved with our Stacking Classifier. Let's see what accuracy we can achieve if we use a pretrained model."
   ]
  },
  {
   "cell_type": "markdown",
   "metadata": {
    "id": "aN0mD4tHGsvh"
   },
   "source": [
    "<a id=\"bert_model\"></a>\n",
    "## 6. BERT Model\n",
    "---"
   ]
  },
  {
   "cell_type": "markdown",
   "metadata": {},
   "source": [
    "BERT, which stands for Bidirectional Encoder Representations from Transformers, is a language representation model  designed to pre-train deep bidirectional representations from unlabeled text by jointly conditioning on both left and right context in all layers. As a result, the pre-trained BERT model can be fine-tuned with just one additional output layer to create state-of-the-art models for a wide range of tasks. \n",
    "\n",
    "We can implement BERT using the ktrain library, a lightweight wrapper for the deep learning library TensorFlow Keras which helps to build, train, and deploy neural networks and other machine learning models."
   ]
  },
  {
   "cell_type": "code",
   "execution_count": 58,
   "metadata": {
    "colab": {
     "base_uri": "https://localhost:8080/",
     "height": 419
    },
    "executionInfo": {
     "elapsed": 921,
     "status": "ok",
     "timestamp": 1617039505347,
     "user": {
      "displayName": "Don Glover",
      "photoUrl": "",
      "userId": "16302218703465787964"
     },
     "user_tz": -60
    },
    "id": "GiuhP5IrHAKg",
    "outputId": "51e24cbe-2de3-4895-b1d4-c872bec4edd2"
   },
   "outputs": [
    {
     "data": {
      "text/html": [
       "<div>\n",
       "<style scoped>\n",
       "    .dataframe tbody tr th:only-of-type {\n",
       "        vertical-align: middle;\n",
       "    }\n",
       "\n",
       "    .dataframe tbody tr th {\n",
       "        vertical-align: top;\n",
       "    }\n",
       "\n",
       "    .dataframe thead th {\n",
       "        text-align: right;\n",
       "    }\n",
       "</style>\n",
       "<table border=\"1\" class=\"dataframe\">\n",
       "  <thead>\n",
       "    <tr style=\"text-align: right;\">\n",
       "      <th></th>\n",
       "      <th>Review</th>\n",
       "      <th>Rating</th>\n",
       "    </tr>\n",
       "  </thead>\n",
       "  <tbody>\n",
       "    <tr>\n",
       "      <th>0</th>\n",
       "      <td>ok nothing special charge diamond member hilto...</td>\n",
       "      <td>2</td>\n",
       "    </tr>\n",
       "    <tr>\n",
       "      <th>1</th>\n",
       "      <td>nice room not experience hotel monaco seattle ...</td>\n",
       "      <td>3</td>\n",
       "    </tr>\n",
       "    <tr>\n",
       "      <th>2</th>\n",
       "      <td>excellent staff housekeeping quality hotel cho...</td>\n",
       "      <td>4</td>\n",
       "    </tr>\n",
       "    <tr>\n",
       "      <th>3</th>\n",
       "      <td>poor value stayed monaco seattle july nice hot...</td>\n",
       "      <td>2</td>\n",
       "    </tr>\n",
       "    <tr>\n",
       "      <th>4</th>\n",
       "      <td>nice hotel not nice staff hotel lovely staff q...</td>\n",
       "      <td>3</td>\n",
       "    </tr>\n",
       "    <tr>\n",
       "      <th>...</th>\n",
       "      <td>...</td>\n",
       "      <td>...</td>\n",
       "    </tr>\n",
       "    <tr>\n",
       "      <th>18535</th>\n",
       "      <td>dirty hall dirty room nothing work tv didn wor...</td>\n",
       "      <td>1</td>\n",
       "    </tr>\n",
       "    <tr>\n",
       "      <th>18536</th>\n",
       "      <td>confortable room staff kind available polite g...</td>\n",
       "      <td>5</td>\n",
       "    </tr>\n",
       "    <tr>\n",
       "      <th>18537</th>\n",
       "      <td>stayed attending itb berlin heating system hot...</td>\n",
       "      <td>2</td>\n",
       "    </tr>\n",
       "    <tr>\n",
       "      <th>18538</th>\n",
       "      <td>hotel well located adenauerplatz ku damm reaso...</td>\n",
       "      <td>2</td>\n",
       "    </tr>\n",
       "    <tr>\n",
       "      <th>18539</th>\n",
       "      <td>ok want book double room get find twin no apol...</td>\n",
       "      <td>2</td>\n",
       "    </tr>\n",
       "  </tbody>\n",
       "</table>\n",
       "<p>18540 rows × 2 columns</p>\n",
       "</div>"
      ],
      "text/plain": [
       "                                                  Review  Rating\n",
       "0      ok nothing special charge diamond member hilto...       2\n",
       "1      nice room not experience hotel monaco seattle ...       3\n",
       "2      excellent staff housekeeping quality hotel cho...       4\n",
       "3      poor value stayed monaco seattle july nice hot...       2\n",
       "4      nice hotel not nice staff hotel lovely staff q...       3\n",
       "...                                                  ...     ...\n",
       "18535  dirty hall dirty room nothing work tv didn wor...       1\n",
       "18536  confortable room staff kind available polite g...       5\n",
       "18537  stayed attending itb berlin heating system hot...       2\n",
       "18538  hotel well located adenauerplatz ku damm reaso...       2\n",
       "18539  ok want book double room get find twin no apol...       2\n",
       "\n",
       "[18540 rows x 2 columns]"
      ]
     },
     "execution_count": 58,
     "metadata": {
      "tags": []
     },
     "output_type": "execute_result"
    }
   ],
   "source": [
    "# Check data\n",
    "df"
   ]
  },
  {
   "cell_type": "code",
   "execution_count": 59,
   "metadata": {
    "executionInfo": {
     "elapsed": 959,
     "status": "ok",
     "timestamp": 1617039511130,
     "user": {
      "displayName": "Don Glover",
      "photoUrl": "",
      "userId": "16302218703465787964"
     },
     "user_tz": -60
    },
    "id": "JL4lKWRaCUIW"
   },
   "outputs": [],
   "source": [
    "# Label encode targets\n",
    "le = LabelEncoder()\n",
    "df['Rating'] = le.fit_transform(df['Rating'])"
   ]
  },
  {
   "cell_type": "markdown",
   "metadata": {},
   "source": [
    "As usual, let's split our data into training, validation and testing."
   ]
  },
  {
   "cell_type": "code",
   "execution_count": 60,
   "metadata": {
    "executionInfo": {
     "elapsed": 556,
     "status": "ok",
     "timestamp": 1617039514382,
     "user": {
      "displayName": "Don Glover",
      "photoUrl": "",
      "userId": "16302218703465787964"
     },
     "user_tz": -60
    },
    "id": "d-KLAvGA4dMt"
   },
   "outputs": [],
   "source": [
    "# Remove 10% of data for testing and 10% for validation\n",
    "df_train, df_test = train_test_split(df, test_size=0.2, random_state=42)\n",
    "df_test, df_val = train_test_split(df_test, test_size=0.5, random_state=42)"
   ]
  },
  {
   "cell_type": "code",
   "execution_count": 61,
   "metadata": {
    "executionInfo": {
     "elapsed": 1140,
     "status": "ok",
     "timestamp": 1617039517906,
     "user": {
      "displayName": "Don Glover",
      "photoUrl": "",
      "userId": "16302218703465787964"
     },
     "user_tz": -60
    },
    "id": "excp6mZgj9Zm"
   },
   "outputs": [],
   "source": [
    "# Get features and labels from test set\n",
    "X_test = df_test['Review']\n",
    "y_test = df_test['Rating']"
   ]
  },
  {
   "cell_type": "code",
   "execution_count": 62,
   "metadata": {
    "colab": {
     "base_uri": "https://localhost:8080/",
     "height": 393
    },
    "executionInfo": {
     "elapsed": 26011,
     "status": "ok",
     "timestamp": 1617039546850,
     "user": {
      "displayName": "Don Glover",
      "photoUrl": "",
      "userId": "16302218703465787964"
     },
     "user_tz": -60
    },
    "id": "2DpQwFO_CUIX",
    "outputId": "be5bd632-e98f-471d-bbc4-aedc01d324bb"
   },
   "outputs": [
    {
     "name": "stdout",
     "output_type": "stream",
     "text": [
      "['Rating_0', 'Rating_1', 'Rating_2', 'Rating_3', 'Rating_4']\n",
      "      Rating_0  Rating_1  Rating_2  Rating_3  Rating_4\n",
      "1127       1.0       0.0       0.0       0.0       0.0\n",
      "6725       0.0       0.0       0.0       1.0       0.0\n",
      "4966       0.0       0.0       0.0       1.0       0.0\n",
      "1799       1.0       0.0       0.0       0.0       0.0\n",
      "4484       1.0       0.0       0.0       0.0       0.0\n",
      "['Rating_0', 'Rating_1', 'Rating_2', 'Rating_3', 'Rating_4']\n",
      "       Rating_0  Rating_1  Rating_2  Rating_3  Rating_4\n",
      "11525       1.0       0.0       0.0       0.0       0.0\n",
      "4024        0.0       0.0       0.0       0.0       1.0\n",
      "16598       0.0       0.0       0.0       0.0       1.0\n",
      "6987        0.0       0.0       0.0       0.0       1.0\n",
      "13390       0.0       0.0       0.0       1.0       0.0\n",
      "preprocessing train...\n",
      "language: en\n"
     ]
    },
    {
     "data": {
      "text/html": [
       "done."
      ],
      "text/plain": [
       "<IPython.core.display.HTML object>"
      ]
     },
     "metadata": {
      "tags": []
     },
     "output_type": "display_data"
    },
    {
     "name": "stdout",
     "output_type": "stream",
     "text": [
      "Is Multi-Label? False\n",
      "preprocessing test...\n",
      "language: en\n"
     ]
    },
    {
     "data": {
      "text/html": [
       "done."
      ],
      "text/plain": [
       "<IPython.core.display.HTML object>"
      ]
     },
     "metadata": {
      "tags": []
     },
     "output_type": "display_data"
    }
   ],
   "source": [
    "# Split & preprocess training and validation data\n",
    "(X_train, y_train), (X_val, y_val), preproc = text.texts_from_df(df_train, 'Review', \n",
    "                                                                 label_columns=['Rating'],\n",
    "                                                                 val_df=df_val, \n",
    "                                                                 preprocess_mode='bert',\n",
    "                                                                 random_state=42)"
   ]
  },
  {
   "cell_type": "markdown",
   "metadata": {},
   "source": [
    "To implement this model, I followed the documentation provided by ktrain at https://pypi.org/project/ktrain/"
   ]
  },
  {
   "cell_type": "code",
   "execution_count": 63,
   "metadata": {
    "colab": {
     "base_uri": "https://localhost:8080/"
    },
    "executionInfo": {
     "elapsed": 16307,
     "status": "ok",
     "timestamp": 1617039571975,
     "user": {
      "displayName": "Don Glover",
      "photoUrl": "",
      "userId": "16302218703465787964"
     },
     "user_tz": -60
    },
    "id": "tdGqX-8PCUIY",
    "outputId": "9c9c7336-3081-4bf0-f117-2a9fecdbacd1"
   },
   "outputs": [
    {
     "name": "stdout",
     "output_type": "stream",
     "text": [
      "Is Multi-Label? False\n",
      "maxlen is 400\n",
      "done.\n"
     ]
    }
   ],
   "source": [
    "# Create model\n",
    "bert_model = text.text_classifier(name='bert', train_data=(X_train, y_train), preproc=preproc)"
   ]
  },
  {
   "cell_type": "code",
   "execution_count": 64,
   "metadata": {
    "executionInfo": {
     "elapsed": 2849,
     "status": "ok",
     "timestamp": 1617039576316,
     "user": {
      "displayName": "Don Glover",
      "photoUrl": "",
      "userId": "16302218703465787964"
     },
     "user_tz": -60
    },
    "id": "Q_X7R0yfCUIY"
   },
   "outputs": [],
   "source": [
    "# Create learner\n",
    "learner = ktrain.get_learner(model=bert_model, train_data=(X_train, y_train), val_data=(X_val, y_val),\n",
    "                             batch_size=6)"
   ]
  },
  {
   "cell_type": "code",
   "execution_count": 65,
   "metadata": {
    "colab": {
     "base_uri": "https://localhost:8080/"
    },
    "executionInfo": {
     "elapsed": 3500415,
     "status": "ok",
     "timestamp": 1617043079982,
     "user": {
      "displayName": "Don Glover",
      "photoUrl": "",
      "userId": "16302218703465787964"
     },
     "user_tz": -60
    },
    "id": "dum4wbbUCUIZ",
    "outputId": "aefefb8a-32bd-47c0-ecdc-303077dcfa7d"
   },
   "outputs": [
    {
     "name": "stdout",
     "output_type": "stream",
     "text": [
      "\n",
      "\n",
      "begin training using onecycle policy with max lr of 2e-05...\n",
      "2472/2472 [==============================] - 3499s 1s/step - loss: 1.2958 - accuracy: 0.4217 - val_loss: 0.8427 - val_accuracy: 0.6257\n"
     ]
    }
   ],
   "source": [
    "# Fit data\n",
    "history = learner.fit_onecycle(lr=2e-5, epochs=1)"
   ]
  },
  {
   "cell_type": "markdown",
   "metadata": {},
   "source": [
    "We can see that this model achieves the best validation accuracy we have seen so far. Let's use this model to make a few predictions on some example data."
   ]
  },
  {
   "cell_type": "code",
   "execution_count": 66,
   "metadata": {
    "executionInfo": {
     "elapsed": 909,
     "status": "ok",
     "timestamp": 1617043098786,
     "user": {
      "displayName": "Don Glover",
      "photoUrl": "",
      "userId": "16302218703465787964"
     },
     "user_tz": -60
    },
    "id": "LyBJOxSvCjdl"
   },
   "outputs": [],
   "source": [
    "# Get predictor\n",
    "predictor = ktrain.get_predictor(learner.model, preproc)"
   ]
  },
  {
   "cell_type": "code",
   "execution_count": 67,
   "metadata": {
    "colab": {
     "base_uri": "https://localhost:8080/"
    },
    "executionInfo": {
     "elapsed": 5729,
     "status": "ok",
     "timestamp": 1617043106068,
     "user": {
      "displayName": "Don Glover",
      "photoUrl": "",
      "userId": "16302218703465787964"
     },
     "user_tz": -60
    },
    "id": "na6lAU-ECjdl",
    "outputId": "81bb0079-139c-4974-87f7-90a071dce3ae"
   },
   "outputs": [
    {
     "data": {
      "text/plain": [
       "['Rating_0', 'Rating_0', 'Rating_4']"
      ]
     },
     "execution_count": 67,
     "metadata": {
      "tags": []
     },
     "output_type": "execute_result"
    }
   ],
   "source": [
    "# Example prediction\n",
    "example_data = [\n",
    "        'The hotel was really bad I do not like it',\n",
    "        'the room really sucked, I want my money back',\n",
    "        'what a beautiful place'        \n",
    "]\n",
    "\n",
    "# Make predictions on example data\n",
    "predictor.predict(example_data)"
   ]
  },
  {
   "cell_type": "markdown",
   "metadata": {},
   "source": [
    "That looks about right. 'Rating_0' is equivalent to a rating of 1 in our original labels and 'Rating_4' is equivalent to a rating of 5. If we convert these labels back to our original labels, as shown below, we can see the actual ratings for these examples."
   ]
  },
  {
   "cell_type": "code",
   "execution_count": 68,
   "metadata": {
    "colab": {
     "base_uri": "https://localhost:8080/"
    },
    "executionInfo": {
     "elapsed": 689,
     "status": "ok",
     "timestamp": 1617043108833,
     "user": {
      "displayName": "Don Glover",
      "photoUrl": "",
      "userId": "16302218703465787964"
     },
     "user_tz": -60
    },
    "id": "0kMqIA8iFTq3",
    "outputId": "3f295f38-4a0a-4b74-bee9-e448c215e19d"
   },
   "outputs": [
    {
     "data": {
      "text/plain": [
       "[1, 1, 5]"
      ]
     },
     "execution_count": 68,
     "metadata": {
      "tags": []
     },
     "output_type": "execute_result"
    }
   ],
   "source": [
    "# Get original labels for predictions\n",
    "label_dict = {\n",
    "    'Rating_0': 1,\n",
    "    'Rating_1': 2,\n",
    "    'Rating_2': 3,\n",
    "    'Rating_3': 4,\n",
    "    'Rating_4': 5\n",
    "}\n",
    "\n",
    "[label_dict[k] for k in predictor.predict(example_data)]"
   ]
  },
  {
   "cell_type": "code",
   "execution_count": 69,
   "metadata": {
    "colab": {
     "base_uri": "https://localhost:8080/"
    },
    "executionInfo": {
     "elapsed": 110990,
     "status": "ok",
     "timestamp": 1617043224299,
     "user": {
      "displayName": "Don Glover",
      "photoUrl": "",
      "userId": "16302218703465787964"
     },
     "user_tz": -60
    },
    "id": "Uzidu5dvDxOP",
    "outputId": "aaadb75a-9e51-4810-99af-5dfe9c03778e"
   },
   "outputs": [
    {
     "name": "stdout",
     "output_type": "stream",
     "text": [
      "              precision    recall  f1-score   support\n",
      "\n",
      "           1       0.77      0.73      0.75       382\n",
      "           2       0.54      0.61      0.57       365\n",
      "           3       0.57      0.59      0.58       393\n",
      "           4       0.50      0.49      0.49       330\n",
      "           5       0.76      0.70      0.73       384\n",
      "\n",
      "    accuracy                           0.63      1854\n",
      "   macro avg       0.63      0.62      0.62      1854\n",
      "weighted avg       0.63      0.63      0.63      1854\n",
      "\n"
     ]
    },
    {
     "data": {
      "text/plain": [
       "array([[278,  98,   6,   0,   0],\n",
       "       [ 70, 221,  71,   3,   0],\n",
       "       [ 11,  82, 232,  58,  10],\n",
       "       [  1,   9,  85, 161,  74],\n",
       "       [  1,   2,  14,  99, 268]])"
      ]
     },
     "execution_count": 69,
     "metadata": {
      "tags": []
     },
     "output_type": "execute_result"
    }
   ],
   "source": [
    "# Evaluate model on validation set\n",
    "learner.validate(val_data=(X_val, y_val), class_names=class_names)"
   ]
  },
  {
   "cell_type": "markdown",
   "metadata": {},
   "source": [
    "Finally, we will use our model to predict our test set to ensure that our model will generalise well to new data."
   ]
  },
  {
   "cell_type": "code",
   "execution_count": 70,
   "metadata": {
    "executionInfo": {
     "elapsed": 113847,
     "status": "ok",
     "timestamp": 1617043445600,
     "user": {
      "displayName": "Don Glover",
      "photoUrl": "",
      "userId": "16302218703465787964"
     },
     "user_tz": -60
    },
    "id": "xcItb7Da0Sdh"
   },
   "outputs": [],
   "source": [
    "# Get predictions using test set\n",
    "test_preds = predictor.predict(X_test.to_list())"
   ]
  },
  {
   "cell_type": "code",
   "execution_count": 71,
   "metadata": {
    "executionInfo": {
     "elapsed": 992,
     "status": "ok",
     "timestamp": 1617043449946,
     "user": {
      "displayName": "Don Glover",
      "photoUrl": "",
      "userId": "16302218703465787964"
     },
     "user_tz": -60
    },
    "id": "dIqH7r1YGPaU"
   },
   "outputs": [],
   "source": [
    "# Convert textual predictions and ground truth labels into arrays\n",
    "y_preds_arr = np.array([int(x[-1]) for x in test_preds])\n",
    "y_test_arr = np.array(y_test)"
   ]
  },
  {
   "cell_type": "code",
   "execution_count": 72,
   "metadata": {
    "executionInfo": {
     "elapsed": 811,
     "status": "ok",
     "timestamp": 1617043454128,
     "user": {
      "displayName": "Don Glover",
      "photoUrl": "",
      "userId": "16302218703465787964"
     },
     "user_tz": -60
    },
    "id": "i0skXFtXGzHw"
   },
   "outputs": [],
   "source": [
    "# Calculate BERT model test accuracy\n",
    "bert_accuracy = accuracy_score(y_test_arr, y_preds_arr)"
   ]
  },
  {
   "cell_type": "code",
   "execution_count": 73,
   "metadata": {
    "colab": {
     "base_uri": "https://localhost:8080/",
     "height": 310
    },
    "executionInfo": {
     "elapsed": 736,
     "status": "ok",
     "timestamp": 1617043457086,
     "user": {
      "displayName": "Don Glover",
      "photoUrl": "",
      "userId": "16302218703465787964"
     },
     "user_tz": -60
    },
    "id": "cBXREDMDHqwD",
    "outputId": "f06520cf-46b3-4467-9633-19131ee4ddef"
   },
   "outputs": [
    {
     "data": {
      "image/png": "[encoded data removed]",
      "text/plain": [
       "<Figure size 432x288 with 2 Axes>"
      ]
     },
     "metadata": {
      "needs_background": "light",
      "tags": []
     },
     "output_type": "display_data"
    }
   ],
   "source": [
    "# Plot confusion matrix and accuracy for BERT model\n",
    "cm = confusion_matrix(y_test_arr, y_preds_arr)\n",
    "disp = ConfusionMatrixDisplay(cm, display_labels=class_names)\n",
    "disp.plot(values_format='d')\n",
    "disp.ax_.set_title(f'BERT Model:\\nAccuracy: {bert_accuracy:.3f}', fontweight='bold');"
   ]
  },
  {
   "cell_type": "markdown",
   "metadata": {},
   "source": [
    "This is our most accurate model yet. However, like all of our other models, we can see that this model also confuses ratings which are close together. As mentioned before, this could reflect the subjective nature of how people leave and interpret reviews. For example, for one person, a rating of 4 might be considered really good but for others, anything lower than a 5 is unacceptable. Similarly, a rating of 3 for one person could just as easily be a 2 or 1 for somebody else."
   ]
  },
  {
   "cell_type": "code",
   "execution_count": 84,
   "metadata": {
    "executionInfo": {
     "elapsed": 115565,
     "status": "ok",
     "timestamp": 1617045638974,
     "user": {
      "displayName": "Don Glover",
      "photoUrl": "",
      "userId": "16302218703465787964"
     },
     "user_tz": -60
    },
    "id": "S5DpISubel66"
   },
   "outputs": [],
   "source": [
    "# Save model and predictor\n",
    "learner.save_model('drive/MyDrive/models/bert_model.h5')\n",
    "predictor.save('drive/MyDrive/models/bert_model_predictor.h5')"
   ]
  },
  {
   "cell_type": "markdown",
   "metadata": {},
   "source": [
    "<a id=\"model_summary\"></a>\n",
    "## 7. Model Summary"
   ]
  },
  {
   "cell_type": "code",
   "execution_count": 89,
   "metadata": {
    "colab": {
     "base_uri": "https://localhost:8080/",
     "height": 145
    },
    "executionInfo": {
     "elapsed": 703,
     "status": "ok",
     "timestamp": 1617046263826,
     "user": {
      "displayName": "Don Glover",
      "photoUrl": "",
      "userId": "16302218703465787964"
     },
     "user_tz": -60
    },
    "id": "6UMKPgxYnm4V",
    "outputId": "64d44397-bcfa-46b6-ecf2-6f579a38efe8",
    "scrolled": true
   },
   "outputs": [
    {
     "data": {
      "text/html": [
       "<style  type=\"text/css\" >\n",
       "#T_4c9e2124_90c5_11eb_a7d5_0242ac1c0002row3_col0{\n",
       "            background-color:  #b3ff66;\n",
       "        }</style><table id=\"T_4c9e2124_90c5_11eb_a7d5_0242ac1c0002\" ><thead>    <tr>        <th class=\"blank level0\" ></th>        <th class=\"col_heading level0 col0\" >accuracy</th>    </tr>    <tr>        <th class=\"index_name level0\" >model</th>        <th class=\"blank\" ></th>    </tr></thead><tbody>\n",
       "                <tr>\n",
       "                        <th id=\"T_4c9e2124_90c5_11eb_a7d5_0242ac1c0002level0_row0\" class=\"row_heading level0 row0\" >Neural Network Model 1</th>\n",
       "                        <td id=\"T_4c9e2124_90c5_11eb_a7d5_0242ac1c0002row0_col0\" class=\"data row0 col0\" >0.587</td>\n",
       "            </tr>\n",
       "            <tr>\n",
       "                        <th id=\"T_4c9e2124_90c5_11eb_a7d5_0242ac1c0002level0_row1\" class=\"row_heading level0 row1\" >Neural Network Model 2</th>\n",
       "                        <td id=\"T_4c9e2124_90c5_11eb_a7d5_0242ac1c0002row1_col0\" class=\"data row1 col0\" >0.59</td>\n",
       "            </tr>\n",
       "            <tr>\n",
       "                        <th id=\"T_4c9e2124_90c5_11eb_a7d5_0242ac1c0002level0_row2\" class=\"row_heading level0 row2\" >Neural Network Model 3</th>\n",
       "                        <td id=\"T_4c9e2124_90c5_11eb_a7d5_0242ac1c0002row2_col0\" class=\"data row2 col0\" >0.552</td>\n",
       "            </tr>\n",
       "            <tr>\n",
       "                        <th id=\"T_4c9e2124_90c5_11eb_a7d5_0242ac1c0002level0_row3\" class=\"row_heading level0 row3\" >BERT Model</th>\n",
       "                        <td id=\"T_4c9e2124_90c5_11eb_a7d5_0242ac1c0002row3_col0\" class=\"data row3 col0\" >0.627</td>\n",
       "            </tr>\n",
       "    </tbody></table>"
      ],
      "text/plain": [
       "<pandas.io.formats.style.Styler at 0x7f67d90c4e10>"
      ]
     },
     "execution_count": 89,
     "metadata": {
      "tags": []
     },
     "output_type": "execute_result"
    }
   ],
   "source": [
    "# Model summary\n",
    "all_models_acc = [\n",
    "    ('Neural Network Model 1', model_1_accuracy), \n",
    "    ('Neural Network Model 2', model_2_accuracy),\n",
    "    ('Neural Network Model 3', model_3_accuracy),\n",
    "    ('BERT Model', bert_accuracy)\n",
    "]\n",
    "\n",
    "all_models_df = pd.DataFrame(all_models_acc, columns=['model', 'accuracy']).set_index('model')\n",
    "all_models_df.style.highlight_max(axis=0, color='#b3ff66').format(\"{:.3}\")"
   ]
  },
  {
   "cell_type": "markdown",
   "metadata": {},
   "source": [
    "Here, we can see the accuracy of the models. Out of all of our models, including our initial classification models, the BERT model performs the best with an accuracy of 0.63."
   ]
  },
  {
   "cell_type": "markdown",
   "metadata": {},
   "source": [
    "<a id=\"model_deployment\"></a>\n",
    "## 8. Model Deployment\n",
    "---"
   ]
  },
  {
   "cell_type": "markdown",
   "metadata": {},
   "source": [
    "Although we have identified BERT as the best performing model, it is over 1GB in size. Our Stacking Classifier on the other hand performs almost as well and yet is only around 70MB. Therefore, we will use the Stacking Classifier model in our app as this should be easier to host and make inference faster. \n",
    "\n",
    "To create the app, we will use Streamlit, an open-source app framework for machine learning and data science projects. We will then deploy the app using Heroku."
   ]
  },
  {
   "cell_type": "markdown",
   "metadata": {},
   "source": [
    "**[Back to Top](#top)**"
   ]
  }
 ],
 "metadata": {
  "accelerator": "GPU",
  "colab": {
   "collapsed_sections": [],
   "name": "Final_NLP_Neural_Network_&_Pretrained_Modelling.ipynb",
   "provenance": [
    {
     "file_id": "1_ITnmYXJQYEytE1k3Zdcr6JHsiZ1-32E",
     "timestamp": 1617023305528
    }
   ]
  },
  "kernelspec": {
   "display_name": "Python 3",
   "language": "python",
   "name": "python3"
  },
  "language_info": {
   "codemirror_mode": {
    "name": "ipython",
    "version": 3
   },
   "file_extension": ".py",
   "mimetype": "text/x-python",
   "name": "python",
   "nbconvert_exporter": "python",
   "pygments_lexer": "ipython3",
   "version": "3.8.5"
  }
 },
 "nbformat": 4,
 "nbformat_minor": 1
}
