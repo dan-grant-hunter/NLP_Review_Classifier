{
 "cells": [
  {
   "cell_type": "code",
   "execution_count": 1,
   "metadata": {
    "executionInfo": {
     "elapsed": 4648,
     "status": "ok",
     "timestamp": 1616878514174,
     "user": {
      "displayName": "Don Glover",
      "photoUrl": "",
      "userId": "16302218703465787964"
     },
     "user_tz": 0
    },
    "id": "HPlpr9h_GZ2b"
   },
   "outputs": [],
   "source": [
    "# Imports\n",
    "import pandas as pd\n",
    "import numpy as np\n",
    "import matplotlib.pyplot as plt\n",
    "from sklearn.model_selection import train_test_split\n",
    "from sklearn.feature_extraction.text import TfidfVectorizer\n",
    "from sklearn.preprocessing import LabelEncoder\n",
    "from sklearn.metrics import accuracy_score, confusion_matrix, ConfusionMatrixDisplay\n",
    "from keras.preprocessing import sequence\n",
    "from keras.models import Sequential\n",
    "from keras.layers import Dense, Dropout, GlobalAveragePooling1D, Embedding, Conv1D, BatchNormalization\n",
    "from keras.utils import np_utils\n",
    "from keras.callbacks import EarlyStopping"
   ]
  },
  {
   "cell_type": "code",
   "execution_count": 2,
   "metadata": {
    "executionInfo": {
     "elapsed": 562,
     "status": "ok",
     "timestamp": 1616878515711,
     "user": {
      "displayName": "Don Glover",
      "photoUrl": "",
      "userId": "16302218703465787964"
     },
     "user_tz": 0
    },
    "id": "ySnwYzIAGr5z"
   },
   "outputs": [],
   "source": [
    "# Function for plotting the accuracy and loss for training and validation data\n",
    "def acc_loss_plot(history, epochs):\n",
    "    fig, axs = plt.subplots(1, 2, figsize=(15,5))\n",
    "    axs[0].plot(history.history['accuracy'], label='Training Accuracy')\n",
    "    axs[0].plot(history.history['val_accuracy'], label='Validation Accuracy')\n",
    "    axs[0].legend(loc='lower right')\n",
    "    axs[0].set_title('Training and Validation Accuracy')\n",
    "    axs[0].set_xticks(range(0, epochs, 2))\n",
    "    axs[0].set_xlabel('Epochs')\n",
    "    axs[0].set_ylabel('Accuracy')\n",
    "\n",
    "    axs[1].plot(history.history['loss'], label='Training Loss')\n",
    "    axs[1].plot(history.history['val_loss'], label='Validation Loss')\n",
    "    axs[1].legend(loc='upper right')\n",
    "    axs[1].set_title('Training and Validation Loss')\n",
    "    axs[1].set_xticks(range(0, epochs, 2))\n",
    "    axs[1].set_xlabel('Epochs')\n",
    "    axs[1].set_ylabel('Loss');"
   ]
  },
  {
   "cell_type": "code",
   "execution_count": 3,
   "metadata": {
    "executionInfo": {
     "elapsed": 661,
     "status": "ok",
     "timestamp": 1616878518404,
     "user": {
      "displayName": "Don Glover",
      "photoUrl": "",
      "userId": "16302218703465787964"
     },
     "user_tz": 0
    },
    "id": "hnw1ppB5GuOv"
   },
   "outputs": [],
   "source": [
    "# Read in data\n",
    "df = pd.read_csv('drive/MyDrive/data/df_final.csv')"
   ]
  },
  {
   "cell_type": "code",
   "execution_count": 4,
   "metadata": {
    "colab": {
     "base_uri": "https://localhost:8080/",
     "height": 419
    },
    "executionInfo": {
     "elapsed": 366,
     "status": "ok",
     "timestamp": 1616878519950,
     "user": {
      "displayName": "Don Glover",
      "photoUrl": "",
      "userId": "16302218703465787964"
     },
     "user_tz": 0
    },
    "id": "Y_J-N69NG1xs",
    "outputId": "9df2a64e-1594-43c2-d28a-5b3a4353cb07"
   },
   "outputs": [
    {
     "data": {
      "text/html": [
       "<div>\n",
       "<style scoped>\n",
       "    .dataframe tbody tr th:only-of-type {\n",
       "        vertical-align: middle;\n",
       "    }\n",
       "\n",
       "    .dataframe tbody tr th {\n",
       "        vertical-align: top;\n",
       "    }\n",
       "\n",
       "    .dataframe thead th {\n",
       "        text-align: right;\n",
       "    }\n",
       "</style>\n",
       "<table border=\"1\" class=\"dataframe\">\n",
       "  <thead>\n",
       "    <tr style=\"text-align: right;\">\n",
       "      <th></th>\n",
       "      <th>Review</th>\n",
       "      <th>Rating</th>\n",
       "    </tr>\n",
       "  </thead>\n",
       "  <tbody>\n",
       "    <tr>\n",
       "      <th>0</th>\n",
       "      <td>ok nothing special charge diamond member hilto...</td>\n",
       "      <td>2</td>\n",
       "    </tr>\n",
       "    <tr>\n",
       "      <th>1</th>\n",
       "      <td>nice room not experience hotel monaco seattle ...</td>\n",
       "      <td>3</td>\n",
       "    </tr>\n",
       "    <tr>\n",
       "      <th>2</th>\n",
       "      <td>excellent staff housekeeping quality hotel cho...</td>\n",
       "      <td>4</td>\n",
       "    </tr>\n",
       "    <tr>\n",
       "      <th>3</th>\n",
       "      <td>poor value stayed monaco seattle july nice hot...</td>\n",
       "      <td>2</td>\n",
       "    </tr>\n",
       "    <tr>\n",
       "      <th>4</th>\n",
       "      <td>nice hotel not nice staff hotel lovely staff q...</td>\n",
       "      <td>3</td>\n",
       "    </tr>\n",
       "    <tr>\n",
       "      <th>...</th>\n",
       "      <td>...</td>\n",
       "      <td>...</td>\n",
       "    </tr>\n",
       "    <tr>\n",
       "      <th>18535</th>\n",
       "      <td>dirty hall dirty room nothing work tv didn wor...</td>\n",
       "      <td>1</td>\n",
       "    </tr>\n",
       "    <tr>\n",
       "      <th>18536</th>\n",
       "      <td>confortable room staff kind available polite g...</td>\n",
       "      <td>5</td>\n",
       "    </tr>\n",
       "    <tr>\n",
       "      <th>18537</th>\n",
       "      <td>stayed attending itb berlin heating system hot...</td>\n",
       "      <td>2</td>\n",
       "    </tr>\n",
       "    <tr>\n",
       "      <th>18538</th>\n",
       "      <td>hotel well located adenauerplatz ku damm reaso...</td>\n",
       "      <td>2</td>\n",
       "    </tr>\n",
       "    <tr>\n",
       "      <th>18539</th>\n",
       "      <td>ok want book double room get find twin no apol...</td>\n",
       "      <td>2</td>\n",
       "    </tr>\n",
       "  </tbody>\n",
       "</table>\n",
       "<p>18540 rows × 2 columns</p>\n",
       "</div>"
      ],
      "text/plain": [
       "                                                  Review  Rating\n",
       "0      ok nothing special charge diamond member hilto...       2\n",
       "1      nice room not experience hotel monaco seattle ...       3\n",
       "2      excellent staff housekeeping quality hotel cho...       4\n",
       "3      poor value stayed monaco seattle july nice hot...       2\n",
       "4      nice hotel not nice staff hotel lovely staff q...       3\n",
       "...                                                  ...     ...\n",
       "18535  dirty hall dirty room nothing work tv didn wor...       1\n",
       "18536  confortable room staff kind available polite g...       5\n",
       "18537  stayed attending itb berlin heating system hot...       2\n",
       "18538  hotel well located adenauerplatz ku damm reaso...       2\n",
       "18539  ok want book double room get find twin no apol...       2\n",
       "\n",
       "[18540 rows x 2 columns]"
      ]
     },
     "execution_count": 4,
     "metadata": {
      "tags": []
     },
     "output_type": "execute_result"
    }
   ],
   "source": [
    "# Check data\n",
    "df"
   ]
  },
  {
   "cell_type": "code",
   "execution_count": 65,
   "metadata": {
    "executionInfo": {
     "elapsed": 325,
     "status": "ok",
     "timestamp": 1616879377994,
     "user": {
      "displayName": "Don Glover",
      "photoUrl": "",
      "userId": "16302218703465787964"
     },
     "user_tz": 0
    },
    "id": "S8dRye0ZhUBy"
   },
   "outputs": [],
   "source": [
    "# Save all class names\n",
    "class_names = np.sort(df['Rating'].unique()).tolist()"
   ]
  },
  {
   "cell_type": "markdown",
   "metadata": {
    "id": "aXh9v9ibH7Mm"
   },
   "source": [
    "## Model 1 - Regular Neural Network"
   ]
  },
  {
   "cell_type": "code",
   "execution_count": 5,
   "metadata": {
    "executionInfo": {
     "elapsed": 619,
     "status": "ok",
     "timestamp": 1616878522781,
     "user": {
      "displayName": "Don Glover",
      "photoUrl": "",
      "userId": "16302218703465787964"
     },
     "user_tz": 0
    },
    "id": "A6QtcYBUHDmV"
   },
   "outputs": [],
   "source": [
    "# Split data\n",
    "X = df['Review']\n",
    "y = df['Rating']\n",
    "X_train, X_test, y_train, y_test = train_test_split(X, y, test_size=.2, stratify=y, random_state=42)"
   ]
  },
  {
   "cell_type": "code",
   "execution_count": 6,
   "metadata": {
    "executionInfo": {
     "elapsed": 3573,
     "status": "ok",
     "timestamp": 1616878527694,
     "user": {
      "displayName": "Don Glover",
      "photoUrl": "",
      "userId": "16302218703465787964"
     },
     "user_tz": 0
    },
    "id": "mruJIPqHHGRv"
   },
   "outputs": [],
   "source": [
    "# Vectorize data\n",
    "tfidf = TfidfVectorizer()\n",
    "X_train = tfidf.fit_transform(X_train).toarray()\n",
    "X_test = tfidf.transform(X_test).toarray()"
   ]
  },
  {
   "cell_type": "code",
   "execution_count": 7,
   "metadata": {
    "executionInfo": {
     "elapsed": 1523,
     "status": "ok",
     "timestamp": 1616878527699,
     "user": {
      "displayName": "Don Glover",
      "photoUrl": "",
      "userId": "16302218703465787964"
     },
     "user_tz": 0
    },
    "id": "-PslaWfLHMUS"
   },
   "outputs": [],
   "source": [
    "# Encode labels (utilises 0th index by shifting labels from 1-5 to 0-4)\n",
    "lb = LabelEncoder()\n",
    "y_train = lb.fit_transform(y_train)\n",
    "y_test = lb.transform(y_test)"
   ]
  },
  {
   "cell_type": "code",
   "execution_count": 8,
   "metadata": {
    "executionInfo": {
     "elapsed": 636,
     "status": "ok",
     "timestamp": 1616878527700,
     "user": {
      "displayName": "Don Glover",
      "photoUrl": "",
      "userId": "16302218703465787964"
     },
     "user_tz": 0
    },
    "id": "X0e0rVrTHPzp"
   },
   "outputs": [],
   "source": [
    "# One hot encode labels ready for model\n",
    "y_train  = np_utils.to_categorical(y_train)\n",
    "y_test = np_utils.to_categorical(y_test)"
   ]
  },
  {
   "cell_type": "code",
   "execution_count": 9,
   "metadata": {
    "colab": {
     "base_uri": "https://localhost:8080/"
    },
    "executionInfo": {
     "elapsed": 741,
     "status": "ok",
     "timestamp": 1616878528753,
     "user": {
      "displayName": "Don Glover",
      "photoUrl": "",
      "userId": "16302218703465787964"
     },
     "user_tz": 0
    },
    "id": "uzIR4XNzdl9A",
    "outputId": "af9514b8-0a8e-4d9f-bcf4-4bf22d0454d1"
   },
   "outputs": [
    {
     "data": {
      "text/plain": [
       "array([[0., 0., 0., 1., 0.],\n",
       "       [0., 0., 0., 1., 0.],\n",
       "       [1., 0., 0., 0., 0.],\n",
       "       ...,\n",
       "       [0., 0., 0., 1., 0.],\n",
       "       [1., 0., 0., 0., 0.],\n",
       "       [0., 1., 0., 0., 0.]], dtype=float32)"
      ]
     },
     "execution_count": 9,
     "metadata": {
      "tags": []
     },
     "output_type": "execute_result"
    }
   ],
   "source": [
    "# Show labels\n",
    "y_train"
   ]
  },
  {
   "cell_type": "code",
   "execution_count": 10,
   "metadata": {
    "executionInfo": {
     "elapsed": 1980,
     "status": "ok",
     "timestamp": 1616878531721,
     "user": {
      "displayName": "Don Glover",
      "photoUrl": "",
      "userId": "16302218703465787964"
     },
     "user_tz": 0
    },
    "id": "DDmaZj1QHReE"
   },
   "outputs": [],
   "source": [
    "# Create validation set\n",
    "X_train, X_val, y_train, y_val = train_test_split(X_train, y_train ,test_size=.2, \n",
    "                                                  stratify=y_train, random_state=42)"
   ]
  },
  {
   "cell_type": "code",
   "execution_count": 11,
   "metadata": {
    "executionInfo": {
     "elapsed": 5769,
     "status": "ok",
     "timestamp": 1616878538208,
     "user": {
      "displayName": "Don Glover",
      "photoUrl": "",
      "userId": "16302218703465787964"
     },
     "user_tz": 0
    },
    "id": "K6h45yJkHUQp"
   },
   "outputs": [],
   "source": [
    "# Build model architecture\n",
    "model_1 = Sequential()\n",
    "model_1.add(Dense(32, input_dim=X_train.shape[1], activation='relu'))\n",
    "model_1.add(Dropout(0.5))\n",
    "model_1.add(Dense(16, activation='relu'))\n",
    "model_1.add(Dropout(0.5))\n",
    "model_1.add(BatchNormalization())\n",
    "model_1.add(Dense(16, activation='relu'))\n",
    "model_1.add(Dense(5, activation='sigmoid'))"
   ]
  },
  {
   "cell_type": "code",
   "execution_count": 12,
   "metadata": {
    "executionInfo": {
     "elapsed": 405,
     "status": "ok",
     "timestamp": 1616878539677,
     "user": {
      "displayName": "Don Glover",
      "photoUrl": "",
      "userId": "16302218703465787964"
     },
     "user_tz": 0
    },
    "id": "eY-MggWSR_pb"
   },
   "outputs": [],
   "source": [
    "# Compile model\n",
    "model_1.compile(loss='binary_crossentropy', optimizer='adam', metrics=['accuracy'])"
   ]
  },
  {
   "cell_type": "code",
   "execution_count": 13,
   "metadata": {
    "executionInfo": {
     "elapsed": 16322,
     "status": "ok",
     "timestamp": 1616878557910,
     "user": {
      "displayName": "Don Glover",
      "photoUrl": "",
      "userId": "16302218703465787964"
     },
     "user_tz": 0
    },
    "id": "InqphUxdHW4p"
   },
   "outputs": [],
   "source": [
    "# Fit data\n",
    "epochs = 10\n",
    "history_1 = model_1.fit(\n",
    "    X_train, y_train, batch_size=128, epochs=epochs, verbose=0, validation_data=(X_val, y_val)\n",
    ")"
   ]
  },
  {
   "cell_type": "code",
   "execution_count": 14,
   "metadata": {
    "colab": {
     "base_uri": "https://localhost:8080/",
     "height": 350
    },
    "executionInfo": {
     "elapsed": 940,
     "status": "ok",
     "timestamp": 1616878562721,
     "user": {
      "displayName": "Don Glover",
      "photoUrl": "",
      "userId": "16302218703465787964"
     },
     "user_tz": 0
    },
    "id": "PN4VoTy7HYiD",
    "outputId": "96e39673-fdca-4405-b0e4-3672cfe6168c"
   },
   "outputs": [
    {
     "data": {
      "image/png": "[encoded data removed]",
      "text/plain": [
       "<Figure size 1080x360 with 2 Axes>"
      ]
     },
     "metadata": {
      "needs_background": "light",
      "tags": []
     },
     "output_type": "display_data"
    }
   ],
   "source": [
    "# Plot accuracy and loss\n",
    "acc_loss_plot(history_1, epochs)"
   ]
  },
  {
   "cell_type": "code",
   "execution_count": 15,
   "metadata": {
    "colab": {
     "base_uri": "https://localhost:8080/"
    },
    "executionInfo": {
     "elapsed": 911,
     "status": "ok",
     "timestamp": 1616878568425,
     "user": {
      "displayName": "Don Glover",
      "photoUrl": "",
      "userId": "16302218703465787964"
     },
     "user_tz": 0
    },
    "id": "nII2CXVXHi_Y",
    "outputId": "d93f9687-4616-451d-ed33-cec976b50e7f"
   },
   "outputs": [
    {
     "name": "stdout",
     "output_type": "stream",
     "text": [
      "93/93 [==============================] - 0s 3ms/step - loss: 0.3495 - accuracy: 0.5652\n"
     ]
    },
    {
     "data": {
      "text/plain": [
       "0.5652173757553101"
      ]
     },
     "execution_count": 15,
     "metadata": {
      "tags": []
     },
     "output_type": "execute_result"
    }
   ],
   "source": [
    "# Evalate model on validation set\n",
    "model_1.evaluate(X_val, y_val)[1]"
   ]
  },
  {
   "cell_type": "code",
   "execution_count": 16,
   "metadata": {
    "colab": {
     "base_uri": "https://localhost:8080/"
    },
    "executionInfo": {
     "elapsed": 1011,
     "status": "ok",
     "timestamp": 1616878571322,
     "user": {
      "displayName": "Don Glover",
      "photoUrl": "",
      "userId": "16302218703465787964"
     },
     "user_tz": 0
    },
    "id": "pkHhMU-PHrr1",
    "outputId": "250d646a-8c80-4e4b-d76d-f190540a7918"
   },
   "outputs": [
    {
     "name": "stdout",
     "output_type": "stream",
     "text": [
      "116/116 [==============================] - 0s 3ms/step - loss: 0.3477 - accuracy: 0.5761\n"
     ]
    },
    {
     "data": {
      "text/plain": [
       "0.5760517716407776"
      ]
     },
     "execution_count": 16,
     "metadata": {
      "tags": []
     },
     "output_type": "execute_result"
    }
   ],
   "source": [
    "# Evalate model on test set\n",
    "model_1.evaluate(X_test, y_test)[1]"
   ]
  },
  {
   "cell_type": "code",
   "execution_count": 18,
   "metadata": {
    "executionInfo": {
     "elapsed": 525,
     "status": "ok",
     "timestamp": 1616878622120,
     "user": {
      "displayName": "Don Glover",
      "photoUrl": "",
      "userId": "16302218703465787964"
     },
     "user_tz": 0
    },
    "id": "UmWj6apCYW39"
   },
   "outputs": [],
   "source": [
    "# Save model 1\n",
    "model_1.save('nn_model_1.h5')"
   ]
  },
  {
   "cell_type": "markdown",
   "metadata": {
    "id": "yIwf7HDLIDlT"
   },
   "source": [
    "## **Model 2** - Neural Network with Embedding Layer"
   ]
  },
  {
   "cell_type": "code",
   "execution_count": 19,
   "metadata": {
    "colab": {
     "base_uri": "https://localhost:8080/",
     "height": 419
    },
    "executionInfo": {
     "elapsed": 578,
     "status": "ok",
     "timestamp": 1616878661850,
     "user": {
      "displayName": "Don Glover",
      "photoUrl": "",
      "userId": "16302218703465787964"
     },
     "user_tz": 0
    },
    "id": "b5zx8YkrIGfg",
    "outputId": "9faffa61-03eb-42b7-ac7c-7bcfb12cf245"
   },
   "outputs": [
    {
     "data": {
      "text/html": [
       "<div>\n",
       "<style scoped>\n",
       "    .dataframe tbody tr th:only-of-type {\n",
       "        vertical-align: middle;\n",
       "    }\n",
       "\n",
       "    .dataframe tbody tr th {\n",
       "        vertical-align: top;\n",
       "    }\n",
       "\n",
       "    .dataframe thead th {\n",
       "        text-align: right;\n",
       "    }\n",
       "</style>\n",
       "<table border=\"1\" class=\"dataframe\">\n",
       "  <thead>\n",
       "    <tr style=\"text-align: right;\">\n",
       "      <th></th>\n",
       "      <th>Review</th>\n",
       "      <th>Rating_1</th>\n",
       "      <th>Rating_2</th>\n",
       "      <th>Rating_3</th>\n",
       "      <th>Rating_4</th>\n",
       "      <th>Rating_5</th>\n",
       "    </tr>\n",
       "  </thead>\n",
       "  <tbody>\n",
       "    <tr>\n",
       "      <th>0</th>\n",
       "      <td>ok nothing special charge diamond member hilto...</td>\n",
       "      <td>0</td>\n",
       "      <td>1</td>\n",
       "      <td>0</td>\n",
       "      <td>0</td>\n",
       "      <td>0</td>\n",
       "    </tr>\n",
       "    <tr>\n",
       "      <th>1</th>\n",
       "      <td>nice room not experience hotel monaco seattle ...</td>\n",
       "      <td>0</td>\n",
       "      <td>0</td>\n",
       "      <td>1</td>\n",
       "      <td>0</td>\n",
       "      <td>0</td>\n",
       "    </tr>\n",
       "    <tr>\n",
       "      <th>2</th>\n",
       "      <td>excellent staff housekeeping quality hotel cho...</td>\n",
       "      <td>0</td>\n",
       "      <td>0</td>\n",
       "      <td>0</td>\n",
       "      <td>1</td>\n",
       "      <td>0</td>\n",
       "    </tr>\n",
       "    <tr>\n",
       "      <th>3</th>\n",
       "      <td>poor value stayed monaco seattle july nice hot...</td>\n",
       "      <td>0</td>\n",
       "      <td>1</td>\n",
       "      <td>0</td>\n",
       "      <td>0</td>\n",
       "      <td>0</td>\n",
       "    </tr>\n",
       "    <tr>\n",
       "      <th>4</th>\n",
       "      <td>nice hotel not nice staff hotel lovely staff q...</td>\n",
       "      <td>0</td>\n",
       "      <td>0</td>\n",
       "      <td>1</td>\n",
       "      <td>0</td>\n",
       "      <td>0</td>\n",
       "    </tr>\n",
       "    <tr>\n",
       "      <th>...</th>\n",
       "      <td>...</td>\n",
       "      <td>...</td>\n",
       "      <td>...</td>\n",
       "      <td>...</td>\n",
       "      <td>...</td>\n",
       "      <td>...</td>\n",
       "    </tr>\n",
       "    <tr>\n",
       "      <th>18535</th>\n",
       "      <td>dirty hall dirty room nothing work tv didn wor...</td>\n",
       "      <td>1</td>\n",
       "      <td>0</td>\n",
       "      <td>0</td>\n",
       "      <td>0</td>\n",
       "      <td>0</td>\n",
       "    </tr>\n",
       "    <tr>\n",
       "      <th>18536</th>\n",
       "      <td>confortable room staff kind available polite g...</td>\n",
       "      <td>0</td>\n",
       "      <td>0</td>\n",
       "      <td>0</td>\n",
       "      <td>0</td>\n",
       "      <td>1</td>\n",
       "    </tr>\n",
       "    <tr>\n",
       "      <th>18537</th>\n",
       "      <td>stayed attending itb berlin heating system hot...</td>\n",
       "      <td>0</td>\n",
       "      <td>1</td>\n",
       "      <td>0</td>\n",
       "      <td>0</td>\n",
       "      <td>0</td>\n",
       "    </tr>\n",
       "    <tr>\n",
       "      <th>18538</th>\n",
       "      <td>hotel well located adenauerplatz ku damm reaso...</td>\n",
       "      <td>0</td>\n",
       "      <td>1</td>\n",
       "      <td>0</td>\n",
       "      <td>0</td>\n",
       "      <td>0</td>\n",
       "    </tr>\n",
       "    <tr>\n",
       "      <th>18539</th>\n",
       "      <td>ok want book double room get find twin no apol...</td>\n",
       "      <td>0</td>\n",
       "      <td>1</td>\n",
       "      <td>0</td>\n",
       "      <td>0</td>\n",
       "      <td>0</td>\n",
       "    </tr>\n",
       "  </tbody>\n",
       "</table>\n",
       "<p>18540 rows × 6 columns</p>\n",
       "</div>"
      ],
      "text/plain": [
       "                                                  Review  ...  Rating_5\n",
       "0      ok nothing special charge diamond member hilto...  ...         0\n",
       "1      nice room not experience hotel monaco seattle ...  ...         0\n",
       "2      excellent staff housekeeping quality hotel cho...  ...         0\n",
       "3      poor value stayed monaco seattle july nice hot...  ...         0\n",
       "4      nice hotel not nice staff hotel lovely staff q...  ...         0\n",
       "...                                                  ...  ...       ...\n",
       "18535  dirty hall dirty room nothing work tv didn wor...  ...         0\n",
       "18536  confortable room staff kind available polite g...  ...         1\n",
       "18537  stayed attending itb berlin heating system hot...  ...         0\n",
       "18538  hotel well located adenauerplatz ku damm reaso...  ...         0\n",
       "18539  ok want book double room get find twin no apol...  ...         0\n",
       "\n",
       "[18540 rows x 6 columns]"
      ]
     },
     "execution_count": 19,
     "metadata": {
      "tags": []
     },
     "output_type": "execute_result"
    }
   ],
   "source": [
    "# One hot encode target variables\n",
    "df_ohe = pd.get_dummies(df, columns=['Rating'])\n",
    "df_ohe"
   ]
  },
  {
   "cell_type": "code",
   "execution_count": 20,
   "metadata": {
    "executionInfo": {
     "elapsed": 628,
     "status": "ok",
     "timestamp": 1616878677231,
     "user": {
      "displayName": "Don Glover",
      "photoUrl": "",
      "userId": "16302218703465787964"
     },
     "user_tz": 0
    },
    "id": "OkfKFy4lIria"
   },
   "outputs": [],
   "source": [
    "# Split data into training and test\n",
    "X = df_ohe.loc[:,['Review']]\n",
    "y = np.array(df_ohe.drop('Review', axis=1))\n",
    "X_train, X_test, y_train, y_test = train_test_split(X, y, test_size=.2, stratify=y, random_state=42)"
   ]
  },
  {
   "cell_type": "code",
   "execution_count": 21,
   "metadata": {
    "executionInfo": {
     "elapsed": 359,
     "status": "ok",
     "timestamp": 1616878685452,
     "user": {
      "displayName": "Don Glover",
      "photoUrl": "",
      "userId": "16302218703465787964"
     },
     "user_tz": 0
    },
    "id": "9EV_NjSRIvTS"
   },
   "outputs": [],
   "source": [
    "# Join all reviews in training set and split\n",
    "train_words = \" \".join(X_train['Review'].values).split()"
   ]
  },
  {
   "cell_type": "code",
   "execution_count": 22,
   "metadata": {
    "colab": {
     "base_uri": "https://localhost:8080/"
    },
    "executionInfo": {
     "elapsed": 368,
     "status": "ok",
     "timestamp": 1616878686681,
     "user": {
      "displayName": "Don Glover",
      "photoUrl": "",
      "userId": "16302218703465787964"
     },
     "user_tz": 0
    },
    "id": "yLfUsonvIxre",
    "outputId": "d9809bde-214e-48b9-c22d-608883b8a254"
   },
   "outputs": [
    {
     "data": {
      "text/plain": [
       "1122445"
      ]
     },
     "execution_count": 22,
     "metadata": {
      "tags": []
     },
     "output_type": "execute_result"
    }
   ],
   "source": [
    "# All words\n",
    "len(train_words)"
   ]
  },
  {
   "cell_type": "code",
   "execution_count": 23,
   "metadata": {
    "executionInfo": {
     "elapsed": 765,
     "status": "ok",
     "timestamp": 1616878689257,
     "user": {
      "displayName": "Don Glover",
      "photoUrl": "",
      "userId": "16302218703465787964"
     },
     "user_tz": 0
    },
    "id": "Y38_oePTIzL_"
   },
   "outputs": [],
   "source": [
    "# Get all unique words only\n",
    "train_unique = set(train_words)"
   ]
  },
  {
   "cell_type": "code",
   "execution_count": 24,
   "metadata": {
    "colab": {
     "base_uri": "https://localhost:8080/"
    },
    "executionInfo": {
     "elapsed": 501,
     "status": "ok",
     "timestamp": 1616878690413,
     "user": {
      "displayName": "Don Glover",
      "photoUrl": "",
      "userId": "16302218703465787964"
     },
     "user_tz": 0
    },
    "id": "y7lWAOj-I0mv",
    "outputId": "4dd654ad-11af-46a0-b274-78deb772f926"
   },
   "outputs": [
    {
     "data": {
      "text/plain": [
       "30191"
      ]
     },
     "execution_count": 24,
     "metadata": {
      "tags": []
     },
     "output_type": "execute_result"
    }
   ],
   "source": [
    "# Number of unique words\n",
    "len(train_unique)"
   ]
  },
  {
   "cell_type": "code",
   "execution_count": 25,
   "metadata": {
    "executionInfo": {
     "elapsed": 352,
     "status": "ok",
     "timestamp": 1616878692244,
     "user": {
      "displayName": "Don Glover",
      "photoUrl": "",
      "userId": "16302218703465787964"
     },
     "user_tz": 0
    },
    "id": "M_luCFfaI2m9"
   },
   "outputs": [],
   "source": [
    "# Factorize all unique words (assign each word a unique number)\n",
    "unique_idx = pd.factorize(list(train_unique))[0]"
   ]
  },
  {
   "cell_type": "code",
   "execution_count": 26,
   "metadata": {
    "colab": {
     "base_uri": "https://localhost:8080/"
    },
    "executionInfo": {
     "elapsed": 398,
     "status": "ok",
     "timestamp": 1616878693701,
     "user": {
      "displayName": "Don Glover",
      "photoUrl": "",
      "userId": "16302218703465787964"
     },
     "user_tz": 0
    },
    "id": "R9-9YyySI4XF",
    "outputId": "f82e04af-3ac8-4ea1-bd6d-d41a73d083b3"
   },
   "outputs": [
    {
     "data": {
      "text/plain": [
       "[('tiegarten', 0),\n",
       " ('marginal', 1),\n",
       " ('openned', 2),\n",
       " ('national', 3),\n",
       " ('rewarmed', 4),\n",
       " ('kp', 5),\n",
       " ('unknowingly', 6),\n",
       " ('alerternative', 7),\n",
       " ('maiden', 8),\n",
       " ('soct', 9)]"
      ]
     },
     "execution_count": 26,
     "metadata": {
      "tags": []
     },
     "output_type": "execute_result"
    }
   ],
   "source": [
    "# Check data\n",
    "list(zip(train_unique, unique_idx))[:10]"
   ]
  },
  {
   "cell_type": "code",
   "execution_count": 27,
   "metadata": {
    "executionInfo": {
     "elapsed": 347,
     "status": "ok",
     "timestamp": 1616878700012,
     "user": {
      "displayName": "Don Glover",
      "photoUrl": "",
      "userId": "16302218703465787964"
     },
     "user_tz": 0
    },
    "id": "VclCZcznI5zD"
   },
   "outputs": [],
   "source": [
    "# Create dictionary for word and unique number\n",
    "word_idx_zip = zip(train_unique, unique_idx)\n",
    "word_idx = dict((x, y) for x, y in list(word_idx_zip))"
   ]
  },
  {
   "cell_type": "code",
   "execution_count": 28,
   "metadata": {
    "executionInfo": {
     "elapsed": 484,
     "status": "ok",
     "timestamp": 1616878702696,
     "user": {
      "displayName": "Don Glover",
      "photoUrl": "",
      "userId": "16302218703465787964"
     },
     "user_tz": 0
    },
    "id": "4m7C-NVuJQSR"
   },
   "outputs": [],
   "source": [
    "# Adding padding and unknown for empty space and unknown words\n",
    "word_idx = {k:(v+2) for k,v in word_idx.items()}\n",
    "word_idx['<PAD>'] = 0\n",
    "word_idx['<UNK>'] = 1"
   ]
  },
  {
   "cell_type": "code",
   "execution_count": 29,
   "metadata": {
    "colab": {
     "base_uri": "https://localhost:8080/"
    },
    "executionInfo": {
     "elapsed": 343,
     "status": "ok",
     "timestamp": 1616878704138,
     "user": {
      "displayName": "Don Glover",
      "photoUrl": "",
      "userId": "16302218703465787964"
     },
     "user_tz": 0
    },
    "id": "GmOwjLefKUWW",
    "outputId": "887b0298-a4cc-44d8-b72b-1b27302099be"
   },
   "outputs": [
    {
     "data": {
      "text/plain": [
       "30193"
      ]
     },
     "execution_count": 29,
     "metadata": {
      "tags": []
     },
     "output_type": "execute_result"
    }
   ],
   "source": [
    "# Size of dict\n",
    "len(word_idx)"
   ]
  },
  {
   "cell_type": "code",
   "execution_count": 30,
   "metadata": {
    "executionInfo": {
     "elapsed": 404,
     "status": "ok",
     "timestamp": 1616878706265,
     "user": {
      "displayName": "Don Glover",
      "photoUrl": "",
      "userId": "16302218703465787964"
     },
     "user_tz": 0
    },
    "id": "k7QoFa2uKaYR"
   },
   "outputs": [],
   "source": [
    "# Suppress SettingWithCopyWarning\n",
    "pd.options.mode.chained_assignment = None"
   ]
  },
  {
   "cell_type": "code",
   "execution_count": 35,
   "metadata": {
    "executionInfo": {
     "elapsed": 911,
     "status": "ok",
     "timestamp": 1616878809873,
     "user": {
      "displayName": "Don Glover",
      "photoUrl": "",
      "userId": "16302218703465787964"
     },
     "user_tz": 0
    },
    "id": "nx0IfWEuKhSp"
   },
   "outputs": [],
   "source": [
    "# Vectorize reviews in training set\n",
    "X_train['vect_review'] = X_train['Review'].str.split().map(\n",
    "    lambda x: [word_idx.get(word, word_idx['<UNK>']) for word in x]\n",
    ")"
   ]
  },
  {
   "cell_type": "code",
   "execution_count": 36,
   "metadata": {
    "colab": {
     "base_uri": "https://localhost:8080/",
     "height": 419
    },
    "executionInfo": {
     "elapsed": 411,
     "status": "ok",
     "timestamp": 1616878811166,
     "user": {
      "displayName": "Don Glover",
      "photoUrl": "",
      "userId": "16302218703465787964"
     },
     "user_tz": 0
    },
    "id": "SIy4M6XoKibY",
    "outputId": "7d7f6ae4-6884-4a79-b121-e93fcb785d47"
   },
   "outputs": [
    {
     "data": {
      "text/html": [
       "<div>\n",
       "<style scoped>\n",
       "    .dataframe tbody tr th:only-of-type {\n",
       "        vertical-align: middle;\n",
       "    }\n",
       "\n",
       "    .dataframe tbody tr th {\n",
       "        vertical-align: top;\n",
       "    }\n",
       "\n",
       "    .dataframe thead th {\n",
       "        text-align: right;\n",
       "    }\n",
       "</style>\n",
       "<table border=\"1\" class=\"dataframe\">\n",
       "  <thead>\n",
       "    <tr style=\"text-align: right;\">\n",
       "      <th></th>\n",
       "      <th>Review</th>\n",
       "      <th>vect_review</th>\n",
       "    </tr>\n",
       "  </thead>\n",
       "  <tbody>\n",
       "    <tr>\n",
       "      <th>11117</th>\n",
       "      <td>stayed night last minute stop parking limited ...</td>\n",
       "      <td>[18677, 5241, 17260, 9433, 29245, 24712, 214, ...</td>\n",
       "    </tr>\n",
       "    <tr>\n",
       "      <th>17749</th>\n",
       "      <td>hostel not used longer stay maybe young people...</td>\n",
       "      <td>[27759, 24873, 21477, 6646, 13235, 9614, 7602,...</td>\n",
       "    </tr>\n",
       "    <tr>\n",
       "      <th>9253</th>\n",
       "      <td>stayed night moment went room perfect clean mo...</td>\n",
       "      <td>[18677, 5241, 26602, 13940, 21710, 779, 25332,...</td>\n",
       "    </tr>\n",
       "    <tr>\n",
       "      <th>9986</th>\n",
       "      <td>nice hotel nice architecture right river thame...</td>\n",
       "      <td>[364, 20345, 364, 2918, 8283, 9349, 11138, 203...</td>\n",
       "    </tr>\n",
       "    <tr>\n",
       "      <th>17853</th>\n",
       "      <td>first arrive check time room isn ready hour la...</td>\n",
       "      <td>[9022, 10164, 25565, 19727, 21710, 12159, 2662...</td>\n",
       "    </tr>\n",
       "    <tr>\n",
       "      <th>...</th>\n",
       "      <td>...</td>\n",
       "      <td>...</td>\n",
       "    </tr>\n",
       "    <tr>\n",
       "      <th>95</th>\n",
       "      <td>great location reservation mixup great hotel s...</td>\n",
       "      <td>[3915, 17411, 16077, 7530, 3915, 20345, 11397,...</td>\n",
       "    </tr>\n",
       "    <tr>\n",
       "      <th>15433</th>\n",
       "      <td>location really great near metro station marke...</td>\n",
       "      <td>[17411, 10314, 3915, 15568, 24373, 26209, 1159...</td>\n",
       "    </tr>\n",
       "    <tr>\n",
       "      <th>7513</th>\n",
       "      <td>very basic small single bed called double no s...</td>\n",
       "      <td>[16978, 15709, 27279, 7276, 5917, 5910, 29008,...</td>\n",
       "    </tr>\n",
       "    <tr>\n",
       "      <th>12423</th>\n",
       "      <td>needed hotel stay only london day recommended ...</td>\n",
       "      <td>[4526, 20345, 13235, 26170, 26682, 220, 3701, ...</td>\n",
       "    </tr>\n",
       "    <tr>\n",
       "      <th>16809</th>\n",
       "      <td>fairly modern one bedroom apartment hotel faci...</td>\n",
       "      <td>[18525, 22792, 27872, 11818, 3194, 20345, 4998...</td>\n",
       "    </tr>\n",
       "  </tbody>\n",
       "</table>\n",
       "<p>14832 rows × 2 columns</p>\n",
       "</div>"
      ],
      "text/plain": [
       "                                                  Review                                        vect_review\n",
       "11117  stayed night last minute stop parking limited ...  [18677, 5241, 17260, 9433, 29245, 24712, 214, ...\n",
       "17749  hostel not used longer stay maybe young people...  [27759, 24873, 21477, 6646, 13235, 9614, 7602,...\n",
       "9253   stayed night moment went room perfect clean mo...  [18677, 5241, 26602, 13940, 21710, 779, 25332,...\n",
       "9986   nice hotel nice architecture right river thame...  [364, 20345, 364, 2918, 8283, 9349, 11138, 203...\n",
       "17853  first arrive check time room isn ready hour la...  [9022, 10164, 25565, 19727, 21710, 12159, 2662...\n",
       "...                                                  ...                                                ...\n",
       "95     great location reservation mixup great hotel s...  [3915, 17411, 16077, 7530, 3915, 20345, 11397,...\n",
       "15433  location really great near metro station marke...  [17411, 10314, 3915, 15568, 24373, 26209, 1159...\n",
       "7513   very basic small single bed called double no s...  [16978, 15709, 27279, 7276, 5917, 5910, 29008,...\n",
       "12423  needed hotel stay only london day recommended ...  [4526, 20345, 13235, 26170, 26682, 220, 3701, ...\n",
       "16809  fairly modern one bedroom apartment hotel faci...  [18525, 22792, 27872, 11818, 3194, 20345, 4998...\n",
       "\n",
       "[14832 rows x 2 columns]"
      ]
     },
     "execution_count": 36,
     "metadata": {
      "tags": []
     },
     "output_type": "execute_result"
    }
   ],
   "source": [
    "# Check data\n",
    "X_train"
   ]
  },
  {
   "cell_type": "code",
   "execution_count": 40,
   "metadata": {
    "executionInfo": {
     "elapsed": 390,
     "status": "ok",
     "timestamp": 1616878864557,
     "user": {
      "displayName": "Don Glover",
      "photoUrl": "",
      "userId": "16302218703465787964"
     },
     "user_tz": 0
    },
    "id": "KEaGu_tFKui-"
   },
   "outputs": [],
   "source": [
    "# Vectorize reviews in test set\n",
    "X_test['vect_review'] = X_test['Review'].str.split().map(\n",
    "    lambda x: [word_idx.get(word, word_idx['<UNK>']) for word in x]\n",
    ")"
   ]
  },
  {
   "cell_type": "code",
   "execution_count": 41,
   "metadata": {
    "colab": {
     "base_uri": "https://localhost:8080/",
     "height": 419
    },
    "executionInfo": {
     "elapsed": 481,
     "status": "ok",
     "timestamp": 1616878866243,
     "user": {
      "displayName": "Don Glover",
      "photoUrl": "",
      "userId": "16302218703465787964"
     },
     "user_tz": 0
    },
    "id": "SH6KtLh1K4o0",
    "outputId": "f35fd4df-91c2-4f03-ca19-a07c284e7c46"
   },
   "outputs": [
    {
     "data": {
      "text/html": [
       "<div>\n",
       "<style scoped>\n",
       "    .dataframe tbody tr th:only-of-type {\n",
       "        vertical-align: middle;\n",
       "    }\n",
       "\n",
       "    .dataframe tbody tr th {\n",
       "        vertical-align: top;\n",
       "    }\n",
       "\n",
       "    .dataframe thead th {\n",
       "        text-align: right;\n",
       "    }\n",
       "</style>\n",
       "<table border=\"1\" class=\"dataframe\">\n",
       "  <thead>\n",
       "    <tr style=\"text-align: right;\">\n",
       "      <th></th>\n",
       "      <th>Review</th>\n",
       "      <th>vect_review</th>\n",
       "    </tr>\n",
       "  </thead>\n",
       "  <tbody>\n",
       "    <tr>\n",
       "      <th>10759</th>\n",
       "      <td>booked hotel booking com upon arrival hotel ou...</td>\n",
       "      <td>[6057, 20345, 24399, 2949, 7947, 25059, 20345,...</td>\n",
       "    </tr>\n",
       "    <tr>\n",
       "      <th>4996</th>\n",
       "      <td>great party people stayed lti week june fantas...</td>\n",
       "      <td>[3915, 24340, 8942, 18677, 14774, 5120, 1194, ...</td>\n",
       "    </tr>\n",
       "    <tr>\n",
       "      <th>3972</th>\n",
       "      <td>boutique relais husband recently returned pari...</td>\n",
       "      <td>[15749, 17846, 27698, 28327, 18766, 16832, 186...</td>\n",
       "    </tr>\n",
       "    <tr>\n",
       "      <th>1178</th>\n",
       "      <td>melia caribe tropical little bit heaven return...</td>\n",
       "      <td>[7964, 8419, 27496, 13817, 7240, 26233, 18766,...</td>\n",
       "    </tr>\n",
       "    <tr>\n",
       "      <th>9603</th>\n",
       "      <td>booked hotel online well advance trip olympic ...</td>\n",
       "      <td>[6057, 20345, 29138, 19645, 18711, 6897, 23982...</td>\n",
       "    </tr>\n",
       "    <tr>\n",
       "      <th>...</th>\n",
       "      <td>...</td>\n",
       "      <td>...</td>\n",
       "    </tr>\n",
       "    <tr>\n",
       "      <th>7717</th>\n",
       "      <td>combined business trip weekend away partner un...</td>\n",
       "      <td>[21280, 16451, 6897, 5222, 18454, 11210, 21149...</td>\n",
       "    </tr>\n",
       "    <tr>\n",
       "      <th>9494</th>\n",
       "      <td>stayed one night room covered cobweb window si...</td>\n",
       "      <td>[18677, 27872, 5241, 21710, 19609, 16425, 2048...</td>\n",
       "    </tr>\n",
       "    <tr>\n",
       "      <th>12738</th>\n",
       "      <td>staff unfriendly unhelpful good position visit...</td>\n",
       "      <td>[17159, 9631, 25694, 3336, 9588, 18868, 26682,...</td>\n",
       "    </tr>\n",
       "    <tr>\n",
       "      <th>2578</th>\n",
       "      <td>great honeymoon beautiful wife paula returned ...</td>\n",
       "      <td>[3915, 9896, 16734, 21356, 1, 18766, 9896, 119...</td>\n",
       "    </tr>\n",
       "    <tr>\n",
       "      <th>4284</th>\n",
       "      <td>birthday treat room visited hilton hotel sydne...</td>\n",
       "      <td>[26423, 11654, 21710, 29198, 23134, 20345, 527...</td>\n",
       "    </tr>\n",
       "  </tbody>\n",
       "</table>\n",
       "<p>3708 rows × 2 columns</p>\n",
       "</div>"
      ],
      "text/plain": [
       "                                                  Review                                        vect_review\n",
       "10759  booked hotel booking com upon arrival hotel ou...  [6057, 20345, 24399, 2949, 7947, 25059, 20345,...\n",
       "4996   great party people stayed lti week june fantas...  [3915, 24340, 8942, 18677, 14774, 5120, 1194, ...\n",
       "3972   boutique relais husband recently returned pari...  [15749, 17846, 27698, 28327, 18766, 16832, 186...\n",
       "1178   melia caribe tropical little bit heaven return...  [7964, 8419, 27496, 13817, 7240, 26233, 18766,...\n",
       "9603   booked hotel online well advance trip olympic ...  [6057, 20345, 29138, 19645, 18711, 6897, 23982...\n",
       "...                                                  ...                                                ...\n",
       "7717   combined business trip weekend away partner un...  [21280, 16451, 6897, 5222, 18454, 11210, 21149...\n",
       "9494   stayed one night room covered cobweb window si...  [18677, 27872, 5241, 21710, 19609, 16425, 2048...\n",
       "12738  staff unfriendly unhelpful good position visit...  [17159, 9631, 25694, 3336, 9588, 18868, 26682,...\n",
       "2578   great honeymoon beautiful wife paula returned ...  [3915, 9896, 16734, 21356, 1, 18766, 9896, 119...\n",
       "4284   birthday treat room visited hilton hotel sydne...  [26423, 11654, 21710, 29198, 23134, 20345, 527...\n",
       "\n",
       "[3708 rows x 2 columns]"
      ]
     },
     "execution_count": 41,
     "metadata": {
      "tags": []
     },
     "output_type": "execute_result"
    }
   ],
   "source": [
    "# Check data\n",
    "X_test"
   ]
  },
  {
   "cell_type": "code",
   "execution_count": 42,
   "metadata": {
    "executionInfo": {
     "elapsed": 637,
     "status": "ok",
     "timestamp": 1616878900946,
     "user": {
      "displayName": "Don Glover",
      "photoUrl": "",
      "userId": "16302218703465787964"
     },
     "user_tz": 0
    },
    "id": "XC-BsXZlLDzf"
   },
   "outputs": [],
   "source": [
    "# Add padding to reviews and cap (train & test)\n",
    "X_train = sequence.pad_sequences(\n",
    "    X_train['vect_review'], value=word_idx['<PAD>'], padding='post', maxlen=200\n",
    ")\n",
    "\n",
    "X_test = sequence.pad_sequences(\n",
    "    X_test['vect_review'], value=word_idx['<PAD>'], padding='post', maxlen=200\n",
    ")"
   ]
  },
  {
   "cell_type": "code",
   "execution_count": 43,
   "metadata": {
    "colab": {
     "base_uri": "https://localhost:8080/"
    },
    "executionInfo": {
     "elapsed": 344,
     "status": "ok",
     "timestamp": 1616878903750,
     "user": {
      "displayName": "Don Glover",
      "photoUrl": "",
      "userId": "16302218703465787964"
     },
     "user_tz": 0
    },
    "id": "zlcs10i5Ld7t",
    "outputId": "9a44beee-f99a-4804-b5a8-f47cf07e7318"
   },
   "outputs": [
    {
     "data": {
      "text/plain": [
       "array([ 9167, 24399, 25276,  5241, 25806, 20345, 16503, 27826, 12414,\n",
       "        1194, 25276,  5241, 20343, 11210, 26423,  7893, 12461, 21823,\n",
       "       13650,  2788, 26209, 27190, 20551, 14329, 21710,  6860, 15345,\n",
       "       17772,  9855,  5241, 13688, 29008,  5917,  7276,  5917, 27626,\n",
       "        5073, 26170, 25276, 28094,  8192,  8688,  7628, 21710, 13661,\n",
       "       17644,  6057, 21710, 21710, 30115, 24873, 26170,  3793,  7100,\n",
       "       21710,  2104,  5917, 10123, 21710, 21468, 10189, 12135,  2336,\n",
       "       11147,  7100, 21710, 26170, 25276,  5917, 18949,  2832, 19551,\n",
       "        4533, 12502,  9988, 28070, 10189, 12135, 24171, 25467, 21213,\n",
       "       16321, 12649, 24562,  2104,  5917, 26170, 27872, 10384,  1632,\n",
       "       23226, 21710,  6723, 17597, 25263, 21710, 29008,  5917,  4259,\n",
       "       20345, 27646,  3545,  8872, 21710,  1087,  8942, 21710, 17356,\n",
       "        7426,  9213, 20481, 10458, 15725, 16122, 14420, 12638,  1849,\n",
       "       28333,  4487, 26642, 14089, 20481, 26170,  7276,   181, 24196,\n",
       "       20906, 17382,  1711, 14103, 21610, 20345, 22993,  6896,  5447,\n",
       "        3740, 19589,     0,     0,     0,     0,     0,     0,     0,\n",
       "           0,     0,     0,     0,     0,     0,     0,     0,     0,\n",
       "           0,     0,     0,     0,     0,     0,     0,     0,     0,\n",
       "           0,     0,     0,     0,     0,     0,     0,     0,     0,\n",
       "           0,     0,     0,     0,     0,     0,     0,     0,     0,\n",
       "           0,     0,     0,     0,     0,     0,     0,     0,     0,\n",
       "           0,     0,     0,     0,     0,     0,     0,     0,     0,\n",
       "           0,     0], dtype=int32)"
      ]
     },
     "execution_count": 43,
     "metadata": {
      "tags": []
     },
     "output_type": "execute_result"
    }
   ],
   "source": [
    "# Example\n",
    "X_train[9]"
   ]
  },
  {
   "cell_type": "code",
   "execution_count": 44,
   "metadata": {
    "executionInfo": {
     "elapsed": 653,
     "status": "ok",
     "timestamp": 1616878909241,
     "user": {
      "displayName": "Don Glover",
      "photoUrl": "",
      "userId": "16302218703465787964"
     },
     "user_tz": 0
    },
    "id": "WYqoH07lLiBU"
   },
   "outputs": [],
   "source": [
    "# Create validation set\n",
    "X_train, X_val, y_train, y_val = train_test_split(X_train, y_train, test_size=.2, stratify=y_train, random_state=42)"
   ]
  },
  {
   "cell_type": "code",
   "execution_count": 45,
   "metadata": {
    "executionInfo": {
     "elapsed": 783,
     "status": "ok",
     "timestamp": 1616878964343,
     "user": {
      "displayName": "Don Glover",
      "photoUrl": "",
      "userId": "16302218703465787964"
     },
     "user_tz": 0
    },
    "id": "odKBKhSuNIwJ"
   },
   "outputs": [],
   "source": [
    "# Build model architecture\n",
    "model_2 = Sequential()\n",
    "model_2.add(Embedding(len(word_idx), 32))\n",
    "model_2.add(GlobalAveragePooling1D())\n",
    "model_2.add(Dense(32, activation='relu'))\n",
    "model_2.add(Dense(5, activation='sigmoid'))"
   ]
  },
  {
   "cell_type": "code",
   "execution_count": 46,
   "metadata": {
    "colab": {
     "base_uri": "https://localhost:8080/"
    },
    "executionInfo": {
     "elapsed": 709,
     "status": "ok",
     "timestamp": 1616878966236,
     "user": {
      "displayName": "Don Glover",
      "photoUrl": "",
      "userId": "16302218703465787964"
     },
     "user_tz": 0
    },
    "id": "Rk-uG8wxNRsS",
    "outputId": "0a1755b3-6689-45c1-f318-67b68c32a1f7"
   },
   "outputs": [
    {
     "name": "stdout",
     "output_type": "stream",
     "text": [
      "Model: \"sequential_1\"\n",
      "_________________________________________________________________\n",
      "Layer (type)                 Output Shape              Param #   \n",
      "=================================================================\n",
      "embedding (Embedding)        (None, None, 32)          966176    \n",
      "_________________________________________________________________\n",
      "global_average_pooling1d (Gl (None, 32)                0         \n",
      "_________________________________________________________________\n",
      "dense_4 (Dense)              (None, 32)                1056      \n",
      "_________________________________________________________________\n",
      "dense_5 (Dense)              (None, 5)                 165       \n",
      "=================================================================\n",
      "Total params: 967,397\n",
      "Trainable params: 967,397\n",
      "Non-trainable params: 0\n",
      "_________________________________________________________________\n"
     ]
    }
   ],
   "source": [
    "# View model summary\n",
    "model_2.summary()"
   ]
  },
  {
   "cell_type": "code",
   "execution_count": 47,
   "metadata": {
    "executionInfo": {
     "elapsed": 635,
     "status": "ok",
     "timestamp": 1616878970067,
     "user": {
      "displayName": "Don Glover",
      "photoUrl": "",
      "userId": "16302218703465787964"
     },
     "user_tz": 0
    },
    "id": "1ddRTggsNTwd"
   },
   "outputs": [],
   "source": [
    "# Compile model\n",
    "model_2.compile(optimizer='adam', loss='binary_crossentropy', metrics=['accuracy'])"
   ]
  },
  {
   "cell_type": "code",
   "execution_count": 48,
   "metadata": {
    "executionInfo": {
     "elapsed": 20521,
     "status": "ok",
     "timestamp": 1616878993525,
     "user": {
      "displayName": "Don Glover",
      "photoUrl": "",
      "userId": "16302218703465787964"
     },
     "user_tz": 0
    },
    "id": "Q-2zJsakOL9D"
   },
   "outputs": [],
   "source": [
    "# Callback for early stopping\n",
    "early_stopping = EarlyStopping(monitor='val_loss', patience=5)\n",
    "\n",
    "# Fit model\n",
    "epochs = 50\n",
    "history_2 = model_2.fit(\n",
    "    X_train, y_train, batch_size=250, epochs=epochs, validation_data=(X_val, y_val), \n",
    "    callbacks=[early_stopping], verbose=0\n",
    ")"
   ]
  },
  {
   "cell_type": "code",
   "execution_count": 49,
   "metadata": {
    "colab": {
     "base_uri": "https://localhost:8080/",
     "height": 350
    },
    "executionInfo": {
     "elapsed": 783,
     "status": "ok",
     "timestamp": 1616879004857,
     "user": {
      "displayName": "Don Glover",
      "photoUrl": "",
      "userId": "16302218703465787964"
     },
     "user_tz": 0
    },
    "id": "GdnQvYa_ObBG",
    "outputId": "0cf05504-5b77-435d-c858-856c810d970f"
   },
   "outputs": [
    {
     "data": {
      "image/png": "[encoded data removed]",
      "text/plain": [
       "<Figure size 1080x360 with 2 Axes>"
      ]
     },
     "metadata": {
      "needs_background": "light",
      "tags": []
     },
     "output_type": "display_data"
    }
   ],
   "source": [
    "# Plot accuracy and loss\n",
    "last_epoch = early_stopping.stopped_epoch\n",
    "acc_loss_plot(history_2, last_epoch)"
   ]
  },
  {
   "cell_type": "code",
   "execution_count": 50,
   "metadata": {
    "colab": {
     "base_uri": "https://localhost:8080/"
    },
    "executionInfo": {
     "elapsed": 732,
     "status": "ok",
     "timestamp": 1616879011573,
     "user": {
      "displayName": "Don Glover",
      "photoUrl": "",
      "userId": "16302218703465787964"
     },
     "user_tz": 0
    },
    "id": "Df-xPJlAObuU",
    "outputId": "7cd6ecb3-aec3-4375-a3ac-811476d29704"
   },
   "outputs": [
    {
     "name": "stdout",
     "output_type": "stream",
     "text": [
      "93/93 [==============================] - 0s 2ms/step - loss: 0.3367 - accuracy: 0.5794\n"
     ]
    },
    {
     "data": {
      "text/plain": [
       "0.5793731212615967"
      ]
     },
     "execution_count": 50,
     "metadata": {
      "tags": []
     },
     "output_type": "execute_result"
    }
   ],
   "source": [
    "# Evalate model on validation set\n",
    "model_2.evaluate(X_val, y_val)[1]"
   ]
  },
  {
   "cell_type": "code",
   "execution_count": 51,
   "metadata": {
    "colab": {
     "base_uri": "https://localhost:8080/"
    },
    "executionInfo": {
     "elapsed": 954,
     "status": "ok",
     "timestamp": 1616879015705,
     "user": {
      "displayName": "Don Glover",
      "photoUrl": "",
      "userId": "16302218703465787964"
     },
     "user_tz": 0
    },
    "id": "jH7pz3sBOdHo",
    "outputId": "8b1244f3-9365-4638-9d8c-d16192c5f97e"
   },
   "outputs": [
    {
     "name": "stdout",
     "output_type": "stream",
     "text": [
      "116/116 [==============================] - 0s 2ms/step - loss: 0.3393 - accuracy: 0.5939\n"
     ]
    },
    {
     "data": {
      "text/plain": [
       "0.5938511490821838"
      ]
     },
     "execution_count": 51,
     "metadata": {
      "tags": []
     },
     "output_type": "execute_result"
    }
   ],
   "source": [
    "# Evaluate model on test set\n",
    "model_2.evaluate(X_test, y_test)[1]"
   ]
  },
  {
   "cell_type": "code",
   "execution_count": 52,
   "metadata": {
    "executionInfo": {
     "elapsed": 474,
     "status": "ok",
     "timestamp": 1616879027108,
     "user": {
      "displayName": "Don Glover",
      "photoUrl": "",
      "userId": "16302218703465787964"
     },
     "user_tz": 0
    },
    "id": "TyxVGV3WYpcT"
   },
   "outputs": [],
   "source": [
    "# Save model 2\n",
    "model_2.save('nn_model_2.h5')"
   ]
  },
  {
   "cell_type": "markdown",
   "metadata": {
    "id": "zoogbIn8O0aS"
   },
   "source": [
    "## **Model 3** - Convolutional Neural Network with Embedding Layer"
   ]
  },
  {
   "cell_type": "code",
   "execution_count": 53,
   "metadata": {
    "executionInfo": {
     "elapsed": 502,
     "status": "ok",
     "timestamp": 1616879078297,
     "user": {
      "displayName": "Don Glover",
      "photoUrl": "",
      "userId": "16302218703465787964"
     },
     "user_tz": 0
    },
    "id": "dbzxJThRPY8M"
   },
   "outputs": [],
   "source": [
    "# Build convolutional model architecture\n",
    "model_3 = Sequential()\n",
    "model_3.add(Embedding(len(word_idx), 32))\n",
    "model_3.add(Conv1D(128, 5, activation='relu'))\n",
    "model_3.add(GlobalAveragePooling1D())\n",
    "model_3.add(Dense(10, activation='relu'))\n",
    "model_3.add(Dense(5, activation='sigmoid'))"
   ]
  },
  {
   "cell_type": "code",
   "execution_count": 54,
   "metadata": {
    "executionInfo": {
     "elapsed": 357,
     "status": "ok",
     "timestamp": 1616879081724,
     "user": {
      "displayName": "Don Glover",
      "photoUrl": "",
      "userId": "16302218703465787964"
     },
     "user_tz": 0
    },
    "id": "48zxl5Q7PE8i"
   },
   "outputs": [],
   "source": [
    "# Compile model\n",
    "model_3.compile(optimizer='adam', loss='binary_crossentropy', metrics=['accuracy'])"
   ]
  },
  {
   "cell_type": "code",
   "execution_count": 55,
   "metadata": {
    "colab": {
     "base_uri": "https://localhost:8080/"
    },
    "executionInfo": {
     "elapsed": 335,
     "status": "ok",
     "timestamp": 1616879084885,
     "user": {
      "displayName": "Don Glover",
      "photoUrl": "",
      "userId": "16302218703465787964"
     },
     "user_tz": 0
    },
    "id": "pmki8GNkPy0_",
    "outputId": "8fcc4954-fe40-4019-8fd2-68eda2000585"
   },
   "outputs": [
    {
     "name": "stdout",
     "output_type": "stream",
     "text": [
      "Model: \"sequential_2\"\n",
      "_________________________________________________________________\n",
      "Layer (type)                 Output Shape              Param #   \n",
      "=================================================================\n",
      "embedding_1 (Embedding)      (None, None, 32)          966176    \n",
      "_________________________________________________________________\n",
      "conv1d (Conv1D)              (None, None, 128)         20608     \n",
      "_________________________________________________________________\n",
      "global_average_pooling1d_1 ( (None, 128)               0         \n",
      "_________________________________________________________________\n",
      "dense_6 (Dense)              (None, 10)                1290      \n",
      "_________________________________________________________________\n",
      "dense_7 (Dense)              (None, 5)                 55        \n",
      "=================================================================\n",
      "Total params: 988,129\n",
      "Trainable params: 988,129\n",
      "Non-trainable params: 0\n",
      "_________________________________________________________________\n"
     ]
    }
   ],
   "source": [
    "# Model summary\n",
    "model_3.summary()"
   ]
  },
  {
   "cell_type": "code",
   "execution_count": 56,
   "metadata": {
    "executionInfo": {
     "elapsed": 51204,
     "status": "ok",
     "timestamp": 1616879151433,
     "user": {
      "displayName": "Don Glover",
      "photoUrl": "",
      "userId": "16302218703465787964"
     },
     "user_tz": 0
    },
    "id": "5pi0RNt6Sfum"
   },
   "outputs": [],
   "source": [
    "# Fit model\n",
    "epochs = 50\n",
    "history_3 = model_3.fit(\n",
    "    X_train, y_train, batch_size=250, epochs=epochs, validation_data=(X_val, y_val), \n",
    "    callbacks=[early_stopping], verbose=0\n",
    ")"
   ]
  },
  {
   "cell_type": "code",
   "execution_count": 57,
   "metadata": {
    "colab": {
     "base_uri": "https://localhost:8080/",
     "height": 350
    },
    "executionInfo": {
     "elapsed": 748,
     "status": "ok",
     "timestamp": 1616879155245,
     "user": {
      "displayName": "Don Glover",
      "photoUrl": "",
      "userId": "16302218703465787964"
     },
     "user_tz": 0
    },
    "id": "zCiQ3H7_Ug0x",
    "outputId": "375894b9-08f1-4ebe-e2e9-788d33b1de97"
   },
   "outputs": [
    {
     "data": {
      "image/png": "[encoded data removed]",
      "text/plain": [
       "<Figure size 1080x360 with 2 Axes>"
      ]
     },
     "metadata": {
      "needs_background": "light",
      "tags": []
     },
     "output_type": "display_data"
    }
   ],
   "source": [
    "# Plot accuracy and loss\n",
    "last_epoch = early_stopping.stopped_epoch\n",
    "acc_loss_plot(history_3, last_epoch)"
   ]
  },
  {
   "cell_type": "code",
   "execution_count": 58,
   "metadata": {
    "colab": {
     "base_uri": "https://localhost:8080/"
    },
    "executionInfo": {
     "elapsed": 878,
     "status": "ok",
     "timestamp": 1616879160287,
     "user": {
      "displayName": "Don Glover",
      "photoUrl": "",
      "userId": "16302218703465787964"
     },
     "user_tz": 0
    },
    "id": "8VaV4TQ0Sqc7",
    "outputId": "45b53b83-c955-486b-d310-a7928aedc7af"
   },
   "outputs": [
    {
     "name": "stdout",
     "output_type": "stream",
     "text": [
      "93/93 [==============================] - 1s 4ms/step - loss: 0.4113 - accuracy: 0.5241\n"
     ]
    },
    {
     "data": {
      "text/plain": [
       "0.5240983963012695"
      ]
     },
     "execution_count": 58,
     "metadata": {
      "tags": []
     },
     "output_type": "execute_result"
    }
   ],
   "source": [
    "# Evalate model on validation set\n",
    "model_3.evaluate(X_val, y_val)[1]"
   ]
  },
  {
   "cell_type": "code",
   "execution_count": 59,
   "metadata": {
    "colab": {
     "base_uri": "https://localhost:8080/"
    },
    "executionInfo": {
     "elapsed": 847,
     "status": "ok",
     "timestamp": 1616879163575,
     "user": {
      "displayName": "Don Glover",
      "photoUrl": "",
      "userId": "16302218703465787964"
     },
     "user_tz": 0
    },
    "id": "PPGfeUGoUYEm",
    "outputId": "56b69542-1a36-4ded-9c2e-5131ff4c0b12"
   },
   "outputs": [
    {
     "name": "stdout",
     "output_type": "stream",
     "text": [
      "116/116 [==============================] - 1s 5ms/step - loss: 0.4191 - accuracy: 0.5299\n"
     ]
    },
    {
     "data": {
      "text/plain": [
       "0.5299353003501892"
      ]
     },
     "execution_count": 59,
     "metadata": {
      "tags": []
     },
     "output_type": "execute_result"
    }
   ],
   "source": [
    "# Evaluate model on test set\n",
    "model_3.evaluate(X_test, y_test)[1]"
   ]
  },
  {
   "cell_type": "code",
   "execution_count": 60,
   "metadata": {
    "executionInfo": {
     "elapsed": 602,
     "status": "ok",
     "timestamp": 1616879173207,
     "user": {
      "displayName": "Don Glover",
      "photoUrl": "",
      "userId": "16302218703465787964"
     },
     "user_tz": 0
    },
    "id": "FT525AwnZDk2"
   },
   "outputs": [],
   "source": [
    "# Save model 3\n",
    "model_3.save('nn_model_3.h5')"
   ]
  },
  {
   "cell_type": "markdown",
   "metadata": {
    "id": "ddkIQvKfgCY8"
   },
   "source": [
    "## **Evaluate Best Model**"
   ]
  },
  {
   "cell_type": "code",
   "execution_count": 61,
   "metadata": {
    "executionInfo": {
     "elapsed": 348,
     "status": "ok",
     "timestamp": 1616879184447,
     "user": {
      "displayName": "Don Glover",
      "photoUrl": "",
      "userId": "16302218703465787964"
     },
     "user_tz": 0
    },
    "id": "1IFwEP53ZHeP"
   },
   "outputs": [],
   "source": [
    "# Select best model\n",
    "best_model = model_2"
   ]
  },
  {
   "cell_type": "code",
   "execution_count": 62,
   "metadata": {
    "executionInfo": {
     "elapsed": 447,
     "status": "ok",
     "timestamp": 1616879237746,
     "user": {
      "displayName": "Don Glover",
      "photoUrl": "",
      "userId": "16302218703465787964"
     },
     "user_tz": 0
    },
    "id": "0wDVXsVjhOVp"
   },
   "outputs": [],
   "source": [
    "# Reverse one hot encode labels\n",
    "y_val_rohe = np.argmax(y_val, axis=1)+1 # For an array\n",
    "y_test_rohe = np.argmax(y_test, axis=1)+1 # For an array"
   ]
  },
  {
   "cell_type": "code",
   "execution_count": 63,
   "metadata": {
    "executionInfo": {
     "elapsed": 854,
     "status": "ok",
     "timestamp": 1616879326022,
     "user": {
      "displayName": "Don Glover",
      "photoUrl": "",
      "userId": "16302218703465787964"
     },
     "user_tz": 0
    },
    "id": "KvfhpuJsi--u"
   },
   "outputs": [],
   "source": [
    "# Make predictions with best neural network model\n",
    "y_test_preds = np.argmax(best_model.predict(X_test), axis=1)+1"
   ]
  },
  {
   "cell_type": "code",
   "execution_count": 64,
   "metadata": {
    "executionInfo": {
     "elapsed": 427,
     "status": "ok",
     "timestamp": 1616879327822,
     "user": {
      "displayName": "Don Glover",
      "photoUrl": "",
      "userId": "16302218703465787964"
     },
     "user_tz": 0
    },
    "id": "1XewP3jssEZn"
   },
   "outputs": [],
   "source": [
    "# Get best model's final accuracy on test set\n",
    "model_accuracy = accuracy_score(y_test_rohe, y_test_preds)"
   ]
  },
  {
   "cell_type": "code",
   "execution_count": 66,
   "metadata": {
    "colab": {
     "base_uri": "https://localhost:8080/",
     "height": 310
    },
    "executionInfo": {
     "elapsed": 677,
     "status": "ok",
     "timestamp": 1616879392158,
     "user": {
      "displayName": "Don Glover",
      "photoUrl": "",
      "userId": "16302218703465787964"
     },
     "user_tz": 0
    },
    "id": "DdJsirWDjapR",
    "outputId": "163b7195-d2c8-4a7c-d8c0-01e46e94cd62"
   },
   "outputs": [
    {
     "data": {
      "image/png": "[encoded data removed]",
      "text/plain": [
       "<Figure size 432x288 with 2 Axes>"
      ]
     },
     "metadata": {
      "needs_background": "light",
      "tags": []
     },
     "output_type": "display_data"
    }
   ],
   "source": [
    "# Plot confusion matrix for best neural network model\n",
    "cm = confusion_matrix(y_test_rohe, y_test_preds)\n",
    "disp = ConfusionMatrixDisplay(cm, display_labels=class_names)\n",
    "disp.plot(values_format='d')\n",
    "disp.ax_.set_title(f'Best Neural Network\\nAccuracy: {model_accuracy:.3f}', fontweight='bold');"
   ]
  }
 ],
 "metadata": {
  "accelerator": "GPU",
  "colab": {
   "authorship_tag": "ABX9TyPqk/HMwuyv5QBgzwU7XUgg",
   "collapsed_sections": [],
   "mount_file_id": "1ZLYkoAK77rSGNiCh-nERVKm0AzJ5KIFD",
   "name": "NLP_Neural_Network_Modelling_Final.ipynb",
   "provenance": []
  },
  "kernelspec": {
   "display_name": "Python 3",
   "language": "python",
   "name": "python3"
  },
  "language_info": {
   "codemirror_mode": {
    "name": "ipython",
    "version": 3
   },
   "file_extension": ".py",
   "mimetype": "text/x-python",
   "name": "python",
   "nbconvert_exporter": "python",
   "pygments_lexer": "ipython3",
   "version": "3.8.5"
  }
 },
 "nbformat": 4,
 "nbformat_minor": 1
}
