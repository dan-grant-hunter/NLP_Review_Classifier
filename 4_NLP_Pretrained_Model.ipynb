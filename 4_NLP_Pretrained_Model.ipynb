{
 "cells": [
  {
   "cell_type": "markdown",
   "metadata": {},
   "source": [
    "# NLP Review Classifier - Pretrained Model"
   ]
  },
  {
   "cell_type": "code",
   "execution_count": 56,
   "metadata": {
    "executionInfo": {
     "elapsed": 454,
     "status": "ok",
     "timestamp": 1616856832621,
     "user": {
      "displayName": "Don Glover",
      "photoUrl": "",
      "userId": "16302218703465787964"
     },
     "user_tz": 0
    },
    "id": "HPlpr9h_GZ2b"
   },
   "outputs": [],
   "source": [
    "# Imports\n",
    "import pandas as pd\n",
    "import numpy as np\n",
    "import ktrain\n",
    "from ktrain import text\n",
    "from sklearn.preprocessing import LabelEncoder\n",
    "from sklearn.metrics import accuracy_score, confusion_matrix, ConfusionMatrixDisplay"
   ]
  },
  {
   "cell_type": "markdown",
   "metadata": {},
   "source": [
    "## Read in Data & Preprocess"
   ]
  },
  {
   "cell_type": "code",
   "execution_count": 4,
   "metadata": {
    "executionInfo": {
     "elapsed": 3575,
     "status": "ok",
     "timestamp": 1616851576480,
     "user": {
      "displayName": "Don Glover",
      "photoUrl": "",
      "userId": "16302218703465787964"
     },
     "user_tz": 0
    },
    "id": "hnw1ppB5GuOv"
   },
   "outputs": [],
   "source": [
    "# Read in data\n",
    "df = pd.read_csv('drive/MyDrive/data/df_final.csv')"
   ]
  },
  {
   "cell_type": "code",
   "execution_count": 5,
   "metadata": {
    "colab": {
     "base_uri": "https://localhost:8080/",
     "height": 204
    },
    "executionInfo": {
     "elapsed": 2657,
     "status": "ok",
     "timestamp": 1616851576486,
     "user": {
      "displayName": "Don Glover",
      "photoUrl": "",
      "userId": "16302218703465787964"
     },
     "user_tz": 0
    },
    "id": "Y_J-N69NG1xs",
    "outputId": "345cb00f-a26d-4edc-e0c7-b6678c84235d"
   },
   "outputs": [
    {
     "data": {
      "text/html": [
       "<div>\n",
       "<style scoped>\n",
       "    .dataframe tbody tr th:only-of-type {\n",
       "        vertical-align: middle;\n",
       "    }\n",
       "\n",
       "    .dataframe tbody tr th {\n",
       "        vertical-align: top;\n",
       "    }\n",
       "\n",
       "    .dataframe thead th {\n",
       "        text-align: right;\n",
       "    }\n",
       "</style>\n",
       "<table border=\"1\" class=\"dataframe\">\n",
       "  <thead>\n",
       "    <tr style=\"text-align: right;\">\n",
       "      <th></th>\n",
       "      <th>Review</th>\n",
       "      <th>Rating</th>\n",
       "    </tr>\n",
       "  </thead>\n",
       "  <tbody>\n",
       "    <tr>\n",
       "      <th>0</th>\n",
       "      <td>ok nothing special charge diamond member hilto...</td>\n",
       "      <td>2</td>\n",
       "    </tr>\n",
       "    <tr>\n",
       "      <th>1</th>\n",
       "      <td>nice room not experience hotel monaco seattle ...</td>\n",
       "      <td>3</td>\n",
       "    </tr>\n",
       "    <tr>\n",
       "      <th>2</th>\n",
       "      <td>excellent staff housekeeping quality hotel cho...</td>\n",
       "      <td>4</td>\n",
       "    </tr>\n",
       "    <tr>\n",
       "      <th>3</th>\n",
       "      <td>poor value stayed monaco seattle july nice hot...</td>\n",
       "      <td>2</td>\n",
       "    </tr>\n",
       "    <tr>\n",
       "      <th>4</th>\n",
       "      <td>nice hotel not nice staff hotel lovely staff q...</td>\n",
       "      <td>3</td>\n",
       "    </tr>\n",
       "  </tbody>\n",
       "</table>\n",
       "</div>"
      ],
      "text/plain": [
       "                                              Review  Rating\n",
       "0  ok nothing special charge diamond member hilto...       2\n",
       "1  nice room not experience hotel monaco seattle ...       3\n",
       "2  excellent staff housekeeping quality hotel cho...       4\n",
       "3  poor value stayed monaco seattle july nice hot...       2\n",
       "4  nice hotel not nice staff hotel lovely staff q...       3"
      ]
     },
     "execution_count": 5,
     "metadata": {
      "tags": []
     },
     "output_type": "execute_result"
    }
   ],
   "source": [
    "# Check data\n",
    "df.head()"
   ]
  },
  {
   "cell_type": "code",
   "execution_count": 65,
   "metadata": {
    "executionInfo": {
     "elapsed": 393,
     "status": "ok",
     "timestamp": 1616856905590,
     "user": {
      "displayName": "Don Glover",
      "photoUrl": "",
      "userId": "16302218703465787964"
     },
     "user_tz": 0
    },
    "id": "M8bYZiD8LHfI"
   },
   "outputs": [],
   "source": [
    "# Save all class names\n",
    "class_names = np.sort(df['Rating'].unique()).tolist()"
   ]
  },
  {
   "cell_type": "code",
   "execution_count": 120,
   "metadata": {
    "executionInfo": {
     "elapsed": 445,
     "status": "ok",
     "timestamp": 1616868658418,
     "user": {
      "displayName": "Don Glover",
      "photoUrl": "",
      "userId": "16302218703465787964"
     },
     "user_tz": 0
    },
    "id": "JL4lKWRaCUIW"
   },
   "outputs": [],
   "source": [
    "# Label encode targets\n",
    "le = LabelEncoder()\n",
    "df['Rating'] = le.fit_transform(df['Rating'])"
   ]
  },
  {
   "cell_type": "code",
   "execution_count": 145,
   "metadata": {
    "executionInfo": {
     "elapsed": 575,
     "status": "ok",
     "timestamp": 1616869665845,
     "user": {
      "displayName": "Don Glover",
      "photoUrl": "",
      "userId": "16302218703465787964"
     },
     "user_tz": 0
    },
    "id": "d-KLAvGA4dMt"
   },
   "outputs": [],
   "source": [
    "# Remove 10% of data for testing and 10% for validation\n",
    "df_train, df_test = train_test_split(df, test_size=0.2)\n",
    "df_test, df_val = train_test_split(df_test, test_size=0.5)"
   ]
  },
  {
   "cell_type": "code",
   "execution_count": 146,
   "metadata": {
    "colab": {
     "base_uri": "https://localhost:8080/",
     "height": 393
    },
    "executionInfo": {
     "elapsed": 20163,
     "status": "ok",
     "timestamp": 1616869756893,
     "user": {
      "displayName": "Don Glover",
      "photoUrl": "",
      "userId": "16302218703465787964"
     },
     "user_tz": 0
    },
    "id": "2DpQwFO_CUIX",
    "outputId": "db91e728-46c2-4666-d5a5-04de0631c14b"
   },
   "outputs": [
    {
     "name": "stdout",
     "output_type": "stream",
     "text": [
      "['Rating_0', 'Rating_1', 'Rating_2', 'Rating_3', 'Rating_4']\n",
      "       Rating_0  Rating_1  Rating_2  Rating_3  Rating_4\n",
      "13255       0.0       1.0       0.0       0.0       0.0\n",
      "12983       1.0       0.0       0.0       0.0       0.0\n",
      "10867       0.0       1.0       0.0       0.0       0.0\n",
      "10830       0.0       0.0       1.0       0.0       0.0\n",
      "4990        1.0       0.0       0.0       0.0       0.0\n",
      "['Rating_0', 'Rating_1', 'Rating_2', 'Rating_3', 'Rating_4']\n",
      "       Rating_0  Rating_1  Rating_2  Rating_3  Rating_4\n",
      "10619       0.0       1.0       0.0       0.0       0.0\n",
      "642         0.0       0.0       0.0       0.0       1.0\n",
      "8853        0.0       0.0       0.0       1.0       0.0\n",
      "2617        0.0       0.0       0.0       1.0       0.0\n",
      "12438       0.0       0.0       0.0       1.0       0.0\n",
      "preprocessing train...\n",
      "language: en\n"
     ]
    },
    {
     "data": {
      "text/html": [
       "done."
      ],
      "text/plain": [
       "<IPython.core.display.HTML object>"
      ]
     },
     "metadata": {
      "tags": []
     },
     "output_type": "display_data"
    },
    {
     "name": "stdout",
     "output_type": "stream",
     "text": [
      "Is Multi-Label? False\n",
      "preprocessing test...\n",
      "language: en\n"
     ]
    },
    {
     "data": {
      "text/html": [
       "done."
      ],
      "text/plain": [
       "<IPython.core.display.HTML object>"
      ]
     },
     "metadata": {
      "tags": []
     },
     "output_type": "display_data"
    }
   ],
   "source": [
    "# Split & preprocess data\n",
    "(X_train, y_train), (X_val, y_val), preproc = text.texts_from_df(df_train, 'Review', label_columns=['Rating'],\n",
    "                                                                val_df=df_val, preprocess_mode='bert')"
   ]
  },
  {
   "cell_type": "markdown",
   "metadata": {
    "id": "aXh9v9ibH7Mm"
   },
   "source": [
    "## BERT"
   ]
  },
  {
   "cell_type": "markdown",
   "metadata": {},
   "source": [
    "#### Build Model"
   ]
  },
  {
   "cell_type": "code",
   "execution_count": 147,
   "metadata": {
    "colab": {
     "base_uri": "https://localhost:8080/"
    },
    "executionInfo": {
     "elapsed": 3738,
     "status": "ok",
     "timestamp": 1616869781779,
     "user": {
      "displayName": "Don Glover",
      "photoUrl": "",
      "userId": "16302218703465787964"
     },
     "user_tz": 0
    },
    "id": "tdGqX-8PCUIY",
    "outputId": "7912e0d4-acb9-4467-f124-ee5ec83cb155"
   },
   "outputs": [
    {
     "name": "stdout",
     "output_type": "stream",
     "text": [
      "Is Multi-Label? False\n",
      "maxlen is 400\n",
      "done.\n"
     ]
    }
   ],
   "source": [
    "# Create model\n",
    "bert_model = text.text_classifier(name='bert', train_data=(X_train, y_train), preproc=preproc)"
   ]
  },
  {
   "cell_type": "code",
   "execution_count": 148,
   "metadata": {
    "executionInfo": {
     "elapsed": 2117,
     "status": "ok",
     "timestamp": 1616869811920,
     "user": {
      "displayName": "Don Glover",
      "photoUrl": "",
      "userId": "16302218703465787964"
     },
     "user_tz": 0
    },
    "id": "Q_X7R0yfCUIY"
   },
   "outputs": [],
   "source": [
    "# Create learner\n",
    "learner = ktrain.get_learner(model=bert_model, train_data=(X_train, y_train), val_data=(X_val, y_val),\n",
    "                             batch_size=6)"
   ]
  },
  {
   "cell_type": "code",
   "execution_count": 149,
   "metadata": {
    "colab": {
     "base_uri": "https://localhost:8080/"
    },
    "executionInfo": {
     "elapsed": 2047290,
     "status": "ok",
     "timestamp": 1616871869747,
     "user": {
      "displayName": "Don Glover",
      "photoUrl": "",
      "userId": "16302218703465787964"
     },
     "user_tz": 0
    },
    "id": "dum4wbbUCUIZ",
    "outputId": "01c51148-feed-4bec-acbc-e708c7cfd079"
   },
   "outputs": [
    {
     "name": "stdout",
     "output_type": "stream",
     "text": [
      "\n",
      "\n",
      "begin training using onecycle policy with max lr of 2e-05...\n",
      "2472/2472 [==============================] - 2047s 823ms/step - loss: 1.2076 - accuracy: 0.4438 - val_loss: 0.8927 - val_accuracy: 0.6084\n"
     ]
    }
   ],
   "source": [
    "# Fit data\n",
    "history = learner.fit_onecycle(lr=2e-5, epochs=1)"
   ]
  },
  {
   "cell_type": "code",
   "execution_count": 150,
   "metadata": {
    "executionInfo": {
     "elapsed": 583,
     "status": "ok",
     "timestamp": 1616871936521,
     "user": {
      "displayName": "Don Glover",
      "photoUrl": "",
      "userId": "16302218703465787964"
     },
     "user_tz": 0
    },
    "id": "LyBJOxSvCjdl"
   },
   "outputs": [],
   "source": [
    "# Get predictor\n",
    "predictor = ktrain.get_predictor(learner.model, preproc)"
   ]
  },
  {
   "cell_type": "code",
   "execution_count": 151,
   "metadata": {
    "colab": {
     "base_uri": "https://localhost:8080/"
    },
    "executionInfo": {
     "elapsed": 4031,
     "status": "ok",
     "timestamp": 1616871942653,
     "user": {
      "displayName": "Don Glover",
      "photoUrl": "",
      "userId": "16302218703465787964"
     },
     "user_tz": 0
    },
    "id": "na6lAU-ECjdl",
    "outputId": "1d778b6a-f0f6-4919-d0a4-637008e251c8"
   },
   "outputs": [
    {
     "data": {
      "text/plain": [
       "['Rating_0', 'Rating_0', 'Rating_4']"
      ]
     },
     "execution_count": 151,
     "metadata": {
      "tags": []
     },
     "output_type": "execute_result"
    }
   ],
   "source": [
    "# Example prediction\n",
    "example_data = [\n",
    "        'The hotel was really bad I do not like it ',\n",
    "        'the room really sucked, I want my money back',\n",
    "        'what a beautiful place'        \n",
    "]\n",
    "\n",
    "# Make predictions on example\n",
    "predictor.predict(example_data)"
   ]
  },
  {
   "cell_type": "code",
   "execution_count": 152,
   "metadata": {
    "colab": {
     "base_uri": "https://localhost:8080/"
    },
    "executionInfo": {
     "elapsed": 623,
     "status": "ok",
     "timestamp": 1616871946135,
     "user": {
      "displayName": "Don Glover",
      "photoUrl": "",
      "userId": "16302218703465787964"
     },
     "user_tz": 0
    },
    "id": "0kMqIA8iFTq3",
    "outputId": "288dcb1d-afc3-45ed-f350-f69552a92ce3"
   },
   "outputs": [
    {
     "data": {
      "text/plain": [
       "[1, 1, 5]"
      ]
     },
     "execution_count": 152,
     "metadata": {
      "tags": []
     },
     "output_type": "execute_result"
    }
   ],
   "source": [
    "# Get original labels for predictions\n",
    "label_dict = {\n",
    "    'Rating_0': 1,\n",
    "    'Rating_1': 2,\n",
    "    'Rating_2': 3,\n",
    "    'Rating_3': 4,\n",
    "    'Rating_4': 5\n",
    "}\n",
    "\n",
    "[label_dict[k] for k in predictor.predict(data)]"
   ]
  },
  {
   "cell_type": "code",
   "execution_count": 154,
   "metadata": {
    "colab": {
     "base_uri": "https://localhost:8080/"
    },
    "executionInfo": {
     "elapsed": 62456,
     "status": "ok",
     "timestamp": 1616872026622,
     "user": {
      "displayName": "Don Glover",
      "photoUrl": "",
      "userId": "16302218703465787964"
     },
     "user_tz": 0
    },
    "id": "Uzidu5dvDxOP",
    "outputId": "3aeb7adc-0e69-4e07-b7a1-fb0c89ababf1"
   },
   "outputs": [
    {
     "name": "stdout",
     "output_type": "stream",
     "text": [
      "              precision    recall  f1-score   support\n",
      "\n",
      "           1       0.73      0.77      0.75       362\n",
      "           2       0.56      0.56      0.56       361\n",
      "           3       0.53      0.54      0.53       370\n",
      "           4       0.51      0.49      0.50       382\n",
      "           5       0.71      0.69      0.70       379\n",
      "\n",
      "    accuracy                           0.61      1854\n",
      "   macro avg       0.61      0.61      0.61      1854\n",
      "weighted avg       0.61      0.61      0.61      1854\n",
      "\n"
     ]
    },
    {
     "data": {
      "text/plain": [
       "array([[280,  70,   8,   2,   2],\n",
       "       [ 86, 201,  67,   7,   0],\n",
       "       [ 18,  75, 198,  72,   7],\n",
       "       [  0,   7,  89, 189,  97],\n",
       "       [  1,   4,  15,  99, 260]])"
      ]
     },
     "execution_count": 154,
     "metadata": {
      "tags": []
     },
     "output_type": "execute_result"
    }
   ],
   "source": [
    "# Evaluate model on val set\n",
    "learner.validate(val_data=(X_val, y_val), class_names=class_names)"
   ]
  },
  {
   "cell_type": "markdown",
   "metadata": {},
   "source": [
    "#### Evaluate Model on Test Set"
   ]
  },
  {
   "cell_type": "code",
   "execution_count": 184,
   "metadata": {
    "executionInfo": {
     "elapsed": 61357,
     "status": "ok",
     "timestamp": 1616873197584,
     "user": {
      "displayName": "Don Glover",
      "photoUrl": "",
      "userId": "16302218703465787964"
     },
     "user_tz": 0
    },
    "id": "xcItb7Da0Sdh"
   },
   "outputs": [],
   "source": [
    "# Get predictions using test set\n",
    "test_preds = predictor.predict(X_test.to_list())"
   ]
  },
  {
   "cell_type": "code",
   "execution_count": 186,
   "metadata": {
    "executionInfo": {
     "elapsed": 473,
     "status": "ok",
     "timestamp": 1616873325003,
     "user": {
      "displayName": "Don Glover",
      "photoUrl": "",
      "userId": "16302218703465787964"
     },
     "user_tz": 0
    },
    "id": "dIqH7r1YGPaU"
   },
   "outputs": [],
   "source": [
    "# Convert textual predictions and ground truth labels into arrays\n",
    "y_preds_arr = np.array([int(x[-1]) for x in test_preds])\n",
    "y_test_arr = np.array(y_test)"
   ]
  },
  {
   "cell_type": "code",
   "execution_count": 190,
   "metadata": {
    "executionInfo": {
     "elapsed": 457,
     "status": "ok",
     "timestamp": 1616873387458,
     "user": {
      "displayName": "Don Glover",
      "photoUrl": "",
      "userId": "16302218703465787964"
     },
     "user_tz": 0
    },
    "id": "i0skXFtXGzHw"
   },
   "outputs": [],
   "source": [
    "# Calculate BERT model test accuracy\n",
    "bert_accuracy = accuracy_score(y_test_arr, y_preds_arr)"
   ]
  },
  {
   "cell_type": "code",
   "execution_count": 191,
   "metadata": {
    "colab": {
     "base_uri": "https://localhost:8080/",
     "height": 310
    },
    "executionInfo": {
     "elapsed": 694,
     "status": "ok",
     "timestamp": 1616873408948,
     "user": {
      "displayName": "Don Glover",
      "photoUrl": "",
      "userId": "16302218703465787964"
     },
     "user_tz": 0
    },
    "id": "cBXREDMDHqwD",
    "outputId": "031339a7-596f-43c0-f36f-b0b0db5635f1"
   },
   "outputs": [
    {
     "data": {
      "image/png": "[encoded data removed]",
      "text/plain": [
       "<Figure size 432x288 with 2 Axes>"
      ]
     },
     "metadata": {
      "needs_background": "light",
      "tags": []
     },
     "output_type": "display_data"
    }
   ],
   "source": [
    "# Plot confusion matrix and accuracy for BERT model\n",
    "cm = confusion_matrix(y_test_arr, y_preds_arr)\n",
    "disp = ConfusionMatrixDisplay(cm, display_labels=class_names)\n",
    "disp.plot(values_format='d')\n",
    "disp.ax_.set_title(f'BERT Model:\\nAccuracy: {bert_accuracy:.3f}', fontweight='bold');"
   ]
  },
  {
   "cell_type": "code",
   "execution_count": 192,
   "metadata": {
    "executionInfo": {
     "elapsed": 5687,
     "status": "ok",
     "timestamp": 1616873443576,
     "user": {
      "displayName": "Don Glover",
      "photoUrl": "",
      "userId": "16302218703465787964"
     },
     "user_tz": 0
    },
    "id": "v6iL0yuCCjdm"
   },
   "outputs": [],
   "source": [
    "# Save model\n",
    "learner.save_model('bert_model_final.h5')"
   ]
  }
 ],
 "metadata": {
  "accelerator": "GPU",
  "colab": {
   "authorship_tag": "ABX9TyMYTVnhXnUNdMncXpwolXcI",
   "collapsed_sections": [],
   "mount_file_id": "1Co2_xxrUGJ2_Io3OZOIgNKWV9ibQHPy4",
   "name": "NLP_Pretrained_Model_Testing_Final.ipynb",
   "provenance": [
    {
     "file_id": "1ZLYkoAK77rSGNiCh-nERVKm0AzJ5KIFD",
     "timestamp": 1616849624738
    }
   ]
  },
  "kernelspec": {
   "display_name": "Python 3",
   "language": "python",
   "name": "python3"
  },
  "language_info": {
   "codemirror_mode": {
    "name": "ipython",
    "version": 3
   },
   "file_extension": ".py",
   "mimetype": "text/x-python",
   "name": "python",
   "nbconvert_exporter": "python",
   "pygments_lexer": "ipython3",
   "version": "3.8.5"
  }
 },
 "nbformat": 4,
 "nbformat_minor": 1
}
